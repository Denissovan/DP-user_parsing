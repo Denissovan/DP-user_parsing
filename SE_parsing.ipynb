{
  "cells": [
    {
      "cell_type": "code",
      "execution_count": 104,
      "metadata": {
        "id": "YZt2S6eQ6Uqq"
      },
      "outputs": [],
      "source": [
        "%%capture\n",
        "%pip install pandas_read_xml\n",
        "%pip install tqdm   \n",
        "%pip install pymupdf\n",
        "%pip install numpy\n",
        "%pip install nltk\n",
        "%pip install tqdm\n",
        "\n",
        "import pandas_read_xml as pdx\n",
        "from pandas_read_xml import flatten, fully_flatten, auto_separate_tables, auto_flatten\n",
        "\n",
        "import time\n",
        "import os, sys\n",
        "import re\n",
        "import pandas as pd\n",
        "import numpy as np\n",
        "import seaborn as sb\n",
        "import nltk\n",
        "import tqdm\n",
        "import time\n",
        "import gc\n",
        "import concurrent.futures\n",
        "from nltk.corpus import stopwords\n",
        "from nltk.stem import WordNetLemmatizer\n",
        "import multiprocessing\n",
        "# from google.colab import drive\n",
        "\n",
        "# drive.mount('/content/drive')"
      ]
    },
    {
      "cell_type": "markdown",
      "metadata": {},
      "source": [
        "## Parsing answers of users from SE (Software Engineering)"
      ]
    },
    {
      "cell_type": "code",
      "execution_count": null,
      "metadata": {
        "id": "-Vq4uZ6_FDqv"
      },
      "outputs": [],
      "source": [
        "def load_xml_as_pd_dict(root_folder, folder_names):\n",
        "    dir_list = os.listdir(root_folder)\n",
        "    print(dir_list)\n",
        "    dir_list = [item for item in dir_list if item.split(\".\")[1] == \"xml\" if item.split(\".\")[0].lower() in folder_names]\n",
        "    pandas_dict = {}\n",
        "    for elem in dir_list:\n",
        "        key = elem.split(\".\")[0]\n",
        "        print(key)\n",
        "        df = pdx.read_xml(os.path.join(root_folder, elem), [key.lower()])\n",
        "        df = df.pipe(flatten)\n",
        "        df = df.pipe(flatten)\n",
        "        col_dict = { col_name : col_name.split(\"@\")[1] for col_name in list(df.columns) }\n",
        "        df = df.rename(columns=col_dict)\n",
        "        pandas_dict[key.lower()] = df\n",
        "    return pandas_dict\n",
        "\n",
        "\n",
        "def display_post_df(posts: pd.core.frame.DataFrame, start, end) -> None:\n",
        "    print(posts.loc[start:end, ['Id', 'CreationDate', 'PostTypeId', 'OwnerUserId']])\n",
        "\n",
        "\n",
        "# returns the list of user ids of users which mention a tag in the about me\n",
        "def get_user_df_by_tags_and_rep(users_df, reputation):\n",
        "    return users_df.loc[(users_df['AboutMe'].str.contains(r'\\bJAVA\\b', flags=re.IGNORECASE, na=False)) & (users_df['Reputation'] > reputation)]\n",
        "\n",
        "\n",
        "def display_users_df(users, start, end):\n",
        "    print(users.loc[start:end, ['Id', 'Reputation', 'DisplayName']])\n",
        "\n",
        "    "
      ]
    },
    {
      "cell_type": "code",
      "execution_count": null,
      "metadata": {
        "colab": {
          "base_uri": "https://localhost:8080/"
        },
        "id": "f6_v6_x7dpRm",
        "outputId": "4c5afc48-3273-4914-f6c5-0567d26f79f5"
      },
      "outputs": [
        {
          "name": "stdout",
          "output_type": "stream",
          "text": [
            "['Badges.xml', 'Comments.xml', 'PostHistory.xml', 'PostLinks.xml', 'Posts.xml', 'Tags.xml', 'Users.xml', 'Votes.xml', 'Vzorove_data.txt']\n",
            "Posts\n",
            "Users\n"
          ]
        }
      ],
      "source": [
        "pd_user_posts_dict = load_xml_as_pd_dict(\"D:\\Skola\\Skola-ing\\DP\\data\\StackExchange\\SE\", ['posts', 'users'])"
      ]
    },
    {
      "cell_type": "code",
      "execution_count": null,
      "metadata": {
        "colab": {
          "base_uri": "https://localhost:8080/"
        },
        "id": "fR3Oa7sNlxNi",
        "outputId": "f1985f0c-f78f-4870-b75f-950bd0780479"
      },
      "outputs": [
        {
          "data": {
            "text/plain": [
              "Index(['Id', 'PostTypeId', 'AcceptedAnswerId', 'CreationDate', 'Score',\n",
              "       'ViewCount', 'Body', 'OwnerUserId', 'LastEditorUserId', 'LastEditDate',\n",
              "       'LastActivityDate', 'Title', 'Tags', 'AnswerCount', 'CommentCount',\n",
              "       'FavoriteCount', 'ClosedDate', 'CommunityOwnedDate', 'ContentLicense',\n",
              "       'ParentId', 'OwnerDisplayName', 'LastEditorDisplayName'],\n",
              "      dtype='object')"
            ]
          },
          "execution_count": 704,
          "metadata": {},
          "output_type": "execute_result"
        }
      ],
      "source": [
        "pd_user_posts_dict['posts'].columns"
      ]
    },
    {
      "cell_type": "code",
      "execution_count": null,
      "metadata": {
        "colab": {
          "base_uri": "https://localhost:8080/"
        },
        "id": "oQPDp-ntl2OR",
        "outputId": "0fc5b1bc-ab1f-4b4a-8de6-715295161518"
      },
      "outputs": [
        {
          "data": {
            "text/plain": [
              "Index(['Id', 'Reputation', 'CreationDate', 'DisplayName', 'LastAccessDate',\n",
              "       'WebsiteUrl', 'Location', 'AboutMe', 'Views', 'UpVotes', 'DownVotes',\n",
              "       'AccountId', 'ProfileImageUrl'],\n",
              "      dtype='object')"
            ]
          },
          "execution_count": 705,
          "metadata": {},
          "output_type": "execute_result"
        }
      ],
      "source": [
        "pd_user_posts_dict['users'].columns"
      ]
    },
    {
      "cell_type": "code",
      "execution_count": null,
      "metadata": {
        "colab": {
          "base_uri": "https://localhost:8080/",
          "height": 577
        },
        "id": "f0pQPaoKmp2N",
        "outputId": "83103cb0-0e45-49b0-c220-f61eda7906f6"
      },
      "outputs": [],
      "source": [
        "%%capture\n",
        "pd_user_posts_dict['posts'].head()"
      ]
    },
    {
      "cell_type": "code",
      "execution_count": null,
      "metadata": {
        "colab": {
          "base_uri": "https://localhost:8080/",
          "height": 696
        },
        "id": "k7HbYOC7mq2R",
        "outputId": "f458037b-e2d2-42d8-becf-c0b23d17510c"
      },
      "outputs": [],
      "source": [
        "%%capture\n",
        "pd_user_posts_dict['users']"
      ]
    },
    {
      "cell_type": "code",
      "execution_count": null,
      "metadata": {
        "id": "Tu5IxVx8m6zM"
      },
      "outputs": [],
      "source": [
        "pd_user_posts_dict['users'] = pd_user_posts_dict['users'].drop(columns=['ProfileImageUrl', 'WebsiteUrl', 'LastAccessDate'])\n",
        "pd_user_posts_dict['posts'] = pd_user_posts_dict['posts'].drop(columns=['LastEditorUserId', 'LastEditDate', 'LastActivityDate'])\n",
        "pd_user_posts_dict['posts'] = pd_user_posts_dict['posts'].rename(columns={'Id': 'PostId'})"
      ]
    },
    {
      "cell_type": "code",
      "execution_count": null,
      "metadata": {
        "colab": {
          "base_uri": "https://localhost:8080/",
          "height": 974
        },
        "id": "h07HWKHiyi37",
        "outputId": "591e7b7a-665b-4b88-f70d-14d96de750ef"
      },
      "outputs": [],
      "source": [
        "%%capture\n",
        "pd_user_posts_dict['posts']"
      ]
    },
    {
      "cell_type": "code",
      "execution_count": null,
      "metadata": {
        "colab": {
          "base_uri": "https://localhost:8080/",
          "height": 572
        },
        "id": "U0sEqDC-paBg",
        "outputId": "687ae974-06d6-4538-c4a7-7bf1a6eb06a7"
      },
      "outputs": [],
      "source": [
        "%%capture\n",
        "pd_user_posts_dict['users']"
      ]
    },
    {
      "cell_type": "code",
      "execution_count": null,
      "metadata": {
        "colab": {
          "base_uri": "https://localhost:8080/"
        },
        "id": "SoFKLnygnW6q",
        "outputId": "5babdfa7-94da-4003-ae49-cc158311afe7"
      },
      "outputs": [
        {
          "data": {
            "text/plain": [
              "PostId                   object\n",
              "PostTypeId               object\n",
              "AcceptedAnswerId         object\n",
              "CreationDate             object\n",
              "Score                    object\n",
              "ViewCount                object\n",
              "Body                     object\n",
              "OwnerUserId              object\n",
              "Title                    object\n",
              "Tags                     object\n",
              "AnswerCount              object\n",
              "CommentCount             object\n",
              "FavoriteCount            object\n",
              "ClosedDate               object\n",
              "CommunityOwnedDate       object\n",
              "ContentLicense           object\n",
              "ParentId                 object\n",
              "OwnerDisplayName         object\n",
              "LastEditorDisplayName    object\n",
              "dtype: object"
            ]
          },
          "execution_count": 711,
          "metadata": {},
          "output_type": "execute_result"
        }
      ],
      "source": [
        "pd_user_posts_dict['posts'].dtypes"
      ]
    },
    {
      "cell_type": "code",
      "execution_count": null,
      "metadata": {
        "colab": {
          "base_uri": "https://localhost:8080/"
        },
        "id": "pKQs1rvyQ9qY",
        "outputId": "47aabd4d-853b-41e2-868c-a6c4ee700806"
      },
      "outputs": [
        {
          "data": {
            "text/plain": [
              "Id              object\n",
              "Reputation      object\n",
              "CreationDate    object\n",
              "DisplayName     object\n",
              "Location        object\n",
              "AboutMe         object\n",
              "Views           object\n",
              "UpVotes         object\n",
              "DownVotes       object\n",
              "AccountId       object\n",
              "dtype: object"
            ]
          },
          "execution_count": 712,
          "metadata": {},
          "output_type": "execute_result"
        }
      ],
      "source": [
        "pd_user_posts_dict['users'].dtypes"
      ]
    },
    {
      "cell_type": "code",
      "execution_count": null,
      "metadata": {
        "id": "QyI1Vd5wnokx"
      },
      "outputs": [],
      "source": [
        "post_convert_dict = {'PostId': int,\n",
        "                'PostTypeId': int,\n",
        "                'AcceptedAnswerId': int,\n",
        "                'Score': int,\n",
        "                'ViewCount': int,\n",
        "                'OwnerUserId': int,\n",
        "                'AnswerCount': int,\n",
        "                'CommentCount': int,\n",
        "                'FavoriteCount': int,\n",
        "                'ParentId': int,\n",
        "                }\n",
        "\n",
        "user_convert_dict = {'Id': int,\n",
        "                'Reputation': int,\n",
        "                'Views': int,\n",
        "                'UpVotes': int,\n",
        "                'DownVotes': int,\n",
        "                'AccountId': int,\n",
        "                }\n",
        "\n",
        "pd_user_posts_dict['users'] = pd_user_posts_dict['users'].fillna(-1).astype(user_convert_dict)\n",
        "pd_user_posts_dict['posts'] = pd_user_posts_dict['posts'].fillna(-1).astype(post_convert_dict)"
      ]
    },
    {
      "cell_type": "code",
      "execution_count": null,
      "metadata": {
        "colab": {
          "base_uri": "https://localhost:8080/"
        },
        "id": "KuAeiv-uuM2b",
        "outputId": "99ec6b11-7c11-45ef-8cac-755ea98d32d5"
      },
      "outputs": [
        {
          "data": {
            "text/plain": [
              "0"
            ]
          },
          "execution_count": 714,
          "metadata": {},
          "output_type": "execute_result"
        }
      ],
      "source": [
        "pd_user_posts_dict['users']['AboutMe'].isnull().sum()"
      ]
    },
    {
      "cell_type": "code",
      "execution_count": null,
      "metadata": {
        "id": "NfZ2vO3COjTt"
      },
      "outputs": [],
      "source": [
        "pd_user_posts_dict['users'] = pd_user_posts_dict['users'].sort_values(by=\"Reputation\", ascending=False)"
      ]
    },
    {
      "cell_type": "code",
      "execution_count": null,
      "metadata": {},
      "outputs": [],
      "source": [
        "pd_whole_dict = pd_user_posts_dict.copy()"
      ]
    },
    {
      "cell_type": "code",
      "execution_count": null,
      "metadata": {
        "id": "O4vp0AelcPf5"
      },
      "outputs": [],
      "source": [
        "pd_user_posts_dict['users'] = get_user_df_by_tags_and_rep(pd_user_posts_dict['users'], 110)\n",
        "pd_whole_dict['users'] = get_user_df_by_tags_and_rep(pd_whole_dict['users'], 100)"
      ]
    },
    {
      "cell_type": "code",
      "execution_count": null,
      "metadata": {
        "colab": {
          "base_uri": "https://localhost:8080/",
          "height": 563
        },
        "id": "SKFXhDmrPmPn",
        "outputId": "fac39652-2de5-42cb-fbfa-5466856b5bd1"
      },
      "outputs": [
        {
          "data": {
            "text/html": [
              "<div>\n",
              "<style scoped>\n",
              "    .dataframe tbody tr th:only-of-type {\n",
              "        vertical-align: middle;\n",
              "    }\n",
              "\n",
              "    .dataframe tbody tr th {\n",
              "        vertical-align: top;\n",
              "    }\n",
              "\n",
              "    .dataframe thead th {\n",
              "        text-align: right;\n",
              "    }\n",
              "</style>\n",
              "<table border=\"1\" class=\"dataframe\">\n",
              "  <thead>\n",
              "    <tr style=\"text-align: right;\">\n",
              "      <th></th>\n",
              "      <th>Id</th>\n",
              "      <th>Reputation</th>\n",
              "      <th>CreationDate</th>\n",
              "      <th>DisplayName</th>\n",
              "      <th>Location</th>\n",
              "      <th>AboutMe</th>\n",
              "      <th>Views</th>\n",
              "      <th>UpVotes</th>\n",
              "      <th>DownVotes</th>\n",
              "      <th>AccountId</th>\n",
              "    </tr>\n",
              "  </thead>\n",
              "  <tbody>\n",
              "    <tr>\n",
              "      <th>1156</th>\n",
              "      <td>1352</td>\n",
              "      <td>95315</td>\n",
              "      <td>2010-09-11T23:46:09.743</td>\n",
              "      <td>Jörg W Mittag</td>\n",
              "      <td>Karlsruhe, Germany</td>\n",
              "      <td>&lt;p&gt;Not a software developer in the sense that ...</td>\n",
              "      <td>8856</td>\n",
              "      <td>499</td>\n",
              "      <td>14091</td>\n",
              "      <td>2172</td>\n",
              "    </tr>\n",
              "    <tr>\n",
              "      <th>11131</th>\n",
              "      <td>14221</td>\n",
              "      <td>45837</td>\n",
              "      <td>2011-01-24T09:11:22.457</td>\n",
              "      <td>Péter Török</td>\n",
              "      <td>Turku, Finland</td>\n",
              "      <td>&lt;p&gt;Started programming around 1983 on ABC-80 a...</td>\n",
              "      <td>4293</td>\n",
              "      <td>2721</td>\n",
              "      <td>53</td>\n",
              "      <td>97818</td>\n",
              "    </tr>\n",
              "    <tr>\n",
              "      <th>2668</th>\n",
              "      <td>3249</td>\n",
              "      <td>42615</td>\n",
              "      <td>2010-09-21T16:25:12.203</td>\n",
              "      <td>Aaronaught</td>\n",
              "      <td>Mountain View, CA</td>\n",
              "      <td>&lt;p&gt;Software engineer at Google. Not an enterpr...</td>\n",
              "      <td>3705</td>\n",
              "      <td>195</td>\n",
              "      <td>372</td>\n",
              "      <td>17239</td>\n",
              "    </tr>\n",
              "    <tr>\n",
              "      <th>52120</th>\n",
              "      <td>61852</td>\n",
              "      <td>38302</td>\n",
              "      <td>2012-08-14T21:18:50.363</td>\n",
              "      <td>Tulains Córdova</td>\n",
              "      <td>Spain</td>\n",
              "      <td>&lt;blockquote&gt;\\n&lt;p&gt;I seek not to know all the an...</td>\n",
              "      <td>2313</td>\n",
              "      <td>2641</td>\n",
              "      <td>607</td>\n",
              "      <td>1748798</td>\n",
              "    </tr>\n",
              "    <tr>\n",
              "      <th>13277</th>\n",
              "      <td>16929</td>\n",
              "      <td>32984</td>\n",
              "      <td>2011-02-11T19:24:56.147</td>\n",
              "      <td>kevin cline</td>\n",
              "      <td>Seattle, WA, USA</td>\n",
              "      <td>&lt;p&gt;I've been programming since I was 15.  I st...</td>\n",
              "      <td>3697</td>\n",
              "      <td>2074</td>\n",
              "      <td>104</td>\n",
              "      <td>81527</td>\n",
              "    </tr>\n",
              "    <tr>\n",
              "      <th>1960</th>\n",
              "      <td>2314</td>\n",
              "      <td>27571</td>\n",
              "      <td>2010-09-16T20:55:49.863</td>\n",
              "      <td>Nicole</td>\n",
              "      <td>Salt Lake City, UT, United States</td>\n",
              "      <td>&lt;p&gt;Full stack software engineer. I've mostly u...</td>\n",
              "      <td>4296</td>\n",
              "      <td>1386</td>\n",
              "      <td>180</td>\n",
              "      <td>48256</td>\n",
              "    </tr>\n",
              "    <tr>\n",
              "      <th>5757</th>\n",
              "      <td>7167</td>\n",
              "      <td>24282</td>\n",
              "      <td>2010-11-06T18:39:18.337</td>\n",
              "      <td>Gary Rowe</td>\n",
              "      <td>United Kingdom</td>\n",
              "      <td>&lt;p&gt;I'm a web developer working in the UK. I ha...</td>\n",
              "      <td>1621</td>\n",
              "      <td>2025</td>\n",
              "      <td>11</td>\n",
              "      <td>170199</td>\n",
              "    </tr>\n",
              "    <tr>\n",
              "      <th>535</th>\n",
              "      <td>611</td>\n",
              "      <td>21854</td>\n",
              "      <td>2010-09-09T11:46:40.187</td>\n",
              "      <td>Martijn Verburg</td>\n",
              "      <td>London, United Kingdom</td>\n",
              "      <td>&lt;p&gt;(aka the \"Diabolical Developer\").  I'm the ...</td>\n",
              "      <td>2165</td>\n",
              "      <td>561</td>\n",
              "      <td>20</td>\n",
              "      <td>166592</td>\n",
              "    </tr>\n",
              "    <tr>\n",
              "      <th>98230</th>\n",
              "      <td>121368</td>\n",
              "      <td>20110</td>\n",
              "      <td>2014-02-26T05:40:29.277</td>\n",
              "      <td>Aviv Cohn</td>\n",
              "      <td>Israel</td>\n",
              "      <td>&lt;p&gt;Passionate about C++ development and softwa...</td>\n",
              "      <td>1209</td>\n",
              "      <td>363</td>\n",
              "      <td>6</td>\n",
              "      <td>3773810</td>\n",
              "    </tr>\n",
              "    <tr>\n",
              "      <th>16134</th>\n",
              "      <td>20673</td>\n",
              "      <td>19596</td>\n",
              "      <td>2011-03-20T05:23:58.393</td>\n",
              "      <td>DXM</td>\n",
              "      <td>Rochester, NY</td>\n",
              "      <td>&lt;p&gt;In my previous life I have always been a ba...</td>\n",
              "      <td>1308</td>\n",
              "      <td>571</td>\n",
              "      <td>45</td>\n",
              "      <td>208582</td>\n",
              "    </tr>\n",
              "  </tbody>\n",
              "</table>\n",
              "</div>"
            ],
            "text/plain": [
              "           Id  Reputation             CreationDate      DisplayName  \\\n",
              "1156     1352       95315  2010-09-11T23:46:09.743    Jörg W Mittag   \n",
              "11131   14221       45837  2011-01-24T09:11:22.457      Péter Török   \n",
              "2668     3249       42615  2010-09-21T16:25:12.203       Aaronaught   \n",
              "52120   61852       38302  2012-08-14T21:18:50.363  Tulains Córdova   \n",
              "13277   16929       32984  2011-02-11T19:24:56.147      kevin cline   \n",
              "1960     2314       27571  2010-09-16T20:55:49.863           Nicole   \n",
              "5757     7167       24282  2010-11-06T18:39:18.337        Gary Rowe   \n",
              "535       611       21854  2010-09-09T11:46:40.187  Martijn Verburg   \n",
              "98230  121368       20110  2014-02-26T05:40:29.277        Aviv Cohn   \n",
              "16134   20673       19596  2011-03-20T05:23:58.393              DXM   \n",
              "\n",
              "                                Location  \\\n",
              "1156                  Karlsruhe, Germany   \n",
              "11131                     Turku, Finland   \n",
              "2668                   Mountain View, CA   \n",
              "52120                              Spain   \n",
              "13277                   Seattle, WA, USA   \n",
              "1960   Salt Lake City, UT, United States   \n",
              "5757                      United Kingdom   \n",
              "535               London, United Kingdom   \n",
              "98230                             Israel   \n",
              "16134                      Rochester, NY   \n",
              "\n",
              "                                                 AboutMe  Views  UpVotes  \\\n",
              "1156   <p>Not a software developer in the sense that ...   8856      499   \n",
              "11131  <p>Started programming around 1983 on ABC-80 a...   4293     2721   \n",
              "2668   <p>Software engineer at Google. Not an enterpr...   3705      195   \n",
              "52120  <blockquote>\\n<p>I seek not to know all the an...   2313     2641   \n",
              "13277  <p>I've been programming since I was 15.  I st...   3697     2074   \n",
              "1960   <p>Full stack software engineer. I've mostly u...   4296     1386   \n",
              "5757   <p>I'm a web developer working in the UK. I ha...   1621     2025   \n",
              "535    <p>(aka the \"Diabolical Developer\").  I'm the ...   2165      561   \n",
              "98230  <p>Passionate about C++ development and softwa...   1209      363   \n",
              "16134  <p>In my previous life I have always been a ba...   1308      571   \n",
              "\n",
              "       DownVotes  AccountId  \n",
              "1156       14091       2172  \n",
              "11131         53      97818  \n",
              "2668         372      17239  \n",
              "52120        607    1748798  \n",
              "13277        104      81527  \n",
              "1960         180      48256  \n",
              "5757          11     170199  \n",
              "535           20     166592  \n",
              "98230          6    3773810  \n",
              "16134         45     208582  "
            ]
          },
          "execution_count": 718,
          "metadata": {},
          "output_type": "execute_result"
        }
      ],
      "source": [
        "pd_user_posts_dict['users'][:10]"
      ]
    },
    {
      "cell_type": "code",
      "execution_count": null,
      "metadata": {
        "colab": {
          "base_uri": "https://localhost:8080/",
          "height": 974
        },
        "id": "jwjWkwu8mhlt",
        "outputId": "e48b2570-91b3-4c03-90f4-26d0ddadd016"
      },
      "outputs": [
        {
          "data": {
            "text/html": [
              "<div>\n",
              "<style scoped>\n",
              "    .dataframe tbody tr th:only-of-type {\n",
              "        vertical-align: middle;\n",
              "    }\n",
              "\n",
              "    .dataframe tbody tr th {\n",
              "        vertical-align: top;\n",
              "    }\n",
              "\n",
              "    .dataframe thead th {\n",
              "        text-align: right;\n",
              "    }\n",
              "</style>\n",
              "<table border=\"1\" class=\"dataframe\">\n",
              "  <thead>\n",
              "    <tr style=\"text-align: right;\">\n",
              "      <th></th>\n",
              "      <th>PostId</th>\n",
              "      <th>PostTypeId</th>\n",
              "      <th>AcceptedAnswerId</th>\n",
              "      <th>CreationDate</th>\n",
              "      <th>Score</th>\n",
              "      <th>ViewCount</th>\n",
              "      <th>Body</th>\n",
              "      <th>OwnerUserId</th>\n",
              "      <th>Title</th>\n",
              "      <th>Tags</th>\n",
              "      <th>AnswerCount</th>\n",
              "      <th>CommentCount</th>\n",
              "      <th>FavoriteCount</th>\n",
              "      <th>ClosedDate</th>\n",
              "      <th>CommunityOwnedDate</th>\n",
              "      <th>ContentLicense</th>\n",
              "      <th>ParentId</th>\n",
              "      <th>OwnerDisplayName</th>\n",
              "      <th>LastEditorDisplayName</th>\n",
              "    </tr>\n",
              "  </thead>\n",
              "  <tbody>\n",
              "    <tr>\n",
              "      <th>0</th>\n",
              "      <td>1</td>\n",
              "      <td>1</td>\n",
              "      <td>13</td>\n",
              "      <td>2010-09-01T19:34:48.000</td>\n",
              "      <td>100</td>\n",
              "      <td>58142</td>\n",
              "      <td>&lt;p&gt;A coworker of mine believes that &lt;em&gt;any&lt;/e...</td>\n",
              "      <td>6</td>\n",
              "      <td>\"Comments are a code smell\"</td>\n",
              "      <td>&lt;comments&gt;&lt;anti-patterns&gt;</td>\n",
              "      <td>34</td>\n",
              "      <td>10</td>\n",
              "      <td>76</td>\n",
              "      <td>2012-11-27T20:11:51.580</td>\n",
              "      <td>2011-01-31T09:04:54.130</td>\n",
              "      <td>CC BY-SA 2.5</td>\n",
              "      <td>-1</td>\n",
              "      <td>-1</td>\n",
              "      <td>-1</td>\n",
              "    </tr>\n",
              "    <tr>\n",
              "      <th>1</th>\n",
              "      <td>3</td>\n",
              "      <td>2</td>\n",
              "      <td>-1</td>\n",
              "      <td>2010-09-01T19:36:50.053</td>\n",
              "      <td>29</td>\n",
              "      <td>-1</td>\n",
              "      <td>&lt;p&gt;Ideally, code should be so well coded that ...</td>\n",
              "      <td>11</td>\n",
              "      <td>-1</td>\n",
              "      <td>-1</td>\n",
              "      <td>-1</td>\n",
              "      <td>17</td>\n",
              "      <td>-1</td>\n",
              "      <td>-1</td>\n",
              "      <td>2011-01-31T09:04:54.130</td>\n",
              "      <td>CC BY-SA 2.5</td>\n",
              "      <td>1</td>\n",
              "      <td>-1</td>\n",
              "      <td>-1</td>\n",
              "    </tr>\n",
              "    <tr>\n",
              "      <th>2</th>\n",
              "      <td>4</td>\n",
              "      <td>1</td>\n",
              "      <td>26</td>\n",
              "      <td>2010-09-01T19:37:39.957</td>\n",
              "      <td>66</td>\n",
              "      <td>9565</td>\n",
              "      <td>&lt;p&gt;When starting a project for a company that'...</td>\n",
              "      <td>-1</td>\n",
              "      <td>Getting non-programmers to understand the deve...</td>\n",
              "      <td>&lt;business&gt;&lt;project-management&gt;&lt;development-pro...</td>\n",
              "      <td>12</td>\n",
              "      <td>2</td>\n",
              "      <td>34</td>\n",
              "      <td>-1</td>\n",
              "      <td>-1</td>\n",
              "      <td>CC BY-SA 2.5</td>\n",
              "      <td>-1</td>\n",
              "      <td>user8</td>\n",
              "      <td>user8</td>\n",
              "    </tr>\n",
              "    <tr>\n",
              "      <th>3</th>\n",
              "      <td>7</td>\n",
              "      <td>2</td>\n",
              "      <td>-1</td>\n",
              "      <td>2010-09-01T19:42:16.797</td>\n",
              "      <td>10</td>\n",
              "      <td>-1</td>\n",
              "      <td>&lt;p&gt;I think the answer is the usual \"It depends...</td>\n",
              "      <td>21</td>\n",
              "      <td>-1</td>\n",
              "      <td>-1</td>\n",
              "      <td>-1</td>\n",
              "      <td>0</td>\n",
              "      <td>-1</td>\n",
              "      <td>-1</td>\n",
              "      <td>2011-01-31T09:04:54.130</td>\n",
              "      <td>CC BY-SA 2.5</td>\n",
              "      <td>1</td>\n",
              "      <td>-1</td>\n",
              "      <td>-1</td>\n",
              "    </tr>\n",
              "    <tr>\n",
              "      <th>4</th>\n",
              "      <td>9</td>\n",
              "      <td>1</td>\n",
              "      <td>-1</td>\n",
              "      <td>2010-09-01T19:43:04.957</td>\n",
              "      <td>39</td>\n",
              "      <td>13113</td>\n",
              "      <td>&lt;p&gt;Sometimes, the things I have to do for my j...</td>\n",
              "      <td>17</td>\n",
              "      <td>How do you stay focused at work?</td>\n",
              "      <td>&lt;productivity&gt;&lt;time-management&gt;</td>\n",
              "      <td>24</td>\n",
              "      <td>1</td>\n",
              "      <td>26</td>\n",
              "      <td>2012-11-13T19:09:35.853</td>\n",
              "      <td>2011-01-04T21:22:43.957</td>\n",
              "      <td>CC BY-SA 2.5</td>\n",
              "      <td>-1</td>\n",
              "      <td>-1</td>\n",
              "      <td>-1</td>\n",
              "    </tr>\n",
              "    <tr>\n",
              "      <th>...</th>\n",
              "      <td>...</td>\n",
              "      <td>...</td>\n",
              "      <td>...</td>\n",
              "      <td>...</td>\n",
              "      <td>...</td>\n",
              "      <td>...</td>\n",
              "      <td>...</td>\n",
              "      <td>...</td>\n",
              "      <td>...</td>\n",
              "      <td>...</td>\n",
              "      <td>...</td>\n",
              "      <td>...</td>\n",
              "      <td>...</td>\n",
              "      <td>...</td>\n",
              "      <td>...</td>\n",
              "      <td>...</td>\n",
              "      <td>...</td>\n",
              "      <td>...</td>\n",
              "      <td>...</td>\n",
              "    </tr>\n",
              "    <tr>\n",
              "      <th>232234</th>\n",
              "      <td>431658</td>\n",
              "      <td>2</td>\n",
              "      <td>-1</td>\n",
              "      <td>2021-09-04T21:15:21.363</td>\n",
              "      <td>1</td>\n",
              "      <td>-1</td>\n",
              "      <td>&lt;p&gt;When building event driven systems, events ...</td>\n",
              "      <td>60357</td>\n",
              "      <td>-1</td>\n",
              "      <td>-1</td>\n",
              "      <td>-1</td>\n",
              "      <td>1</td>\n",
              "      <td>-1</td>\n",
              "      <td>-1</td>\n",
              "      <td>-1</td>\n",
              "      <td>CC BY-SA 4.0</td>\n",
              "      <td>431657</td>\n",
              "      <td>-1</td>\n",
              "      <td>-1</td>\n",
              "    </tr>\n",
              "    <tr>\n",
              "      <th>232235</th>\n",
              "      <td>431659</td>\n",
              "      <td>1</td>\n",
              "      <td>-1</td>\n",
              "      <td>2021-09-04T21:53:17.773</td>\n",
              "      <td>0</td>\n",
              "      <td>7</td>\n",
              "      <td>&lt;p&gt;I am working on an application right now, w...</td>\n",
              "      <td>401491</td>\n",
              "      <td>Handling realtime notification receivers in a ...</td>\n",
              "      <td>&lt;web&gt;&lt;websockets&gt;&lt;real-time&gt;&lt;notifications&gt;</td>\n",
              "      <td>0</td>\n",
              "      <td>0</td>\n",
              "      <td>-1</td>\n",
              "      <td>-1</td>\n",
              "      <td>-1</td>\n",
              "      <td>CC BY-SA 4.0</td>\n",
              "      <td>-1</td>\n",
              "      <td>-1</td>\n",
              "      <td>-1</td>\n",
              "    </tr>\n",
              "    <tr>\n",
              "      <th>232236</th>\n",
              "      <td>431660</td>\n",
              "      <td>1</td>\n",
              "      <td>-1</td>\n",
              "      <td>2021-09-04T22:35:19.087</td>\n",
              "      <td>0</td>\n",
              "      <td>19</td>\n",
              "      <td>&lt;p&gt;This is more of a design/architecture quest...</td>\n",
              "      <td>400361</td>\n",
              "      <td>Designing a logic to receive ACK for every mes...</td>\n",
              "      <td>&lt;architecture&gt;&lt;c&gt;&lt;message-queue&gt;&lt;embedded-syst...</td>\n",
              "      <td>0</td>\n",
              "      <td>0</td>\n",
              "      <td>-1</td>\n",
              "      <td>-1</td>\n",
              "      <td>-1</td>\n",
              "      <td>CC BY-SA 4.0</td>\n",
              "      <td>-1</td>\n",
              "      <td>-1</td>\n",
              "      <td>-1</td>\n",
              "    </tr>\n",
              "    <tr>\n",
              "      <th>232237</th>\n",
              "      <td>431661</td>\n",
              "      <td>2</td>\n",
              "      <td>-1</td>\n",
              "      <td>2021-09-04T23:55:02.070</td>\n",
              "      <td>1</td>\n",
              "      <td>-1</td>\n",
              "      <td>&lt;p&gt;To simply fix the issue at hand (data reten...</td>\n",
              "      <td>284628</td>\n",
              "      <td>-1</td>\n",
              "      <td>-1</td>\n",
              "      <td>-1</td>\n",
              "      <td>0</td>\n",
              "      <td>-1</td>\n",
              "      <td>-1</td>\n",
              "      <td>-1</td>\n",
              "      <td>CC BY-SA 4.0</td>\n",
              "      <td>431657</td>\n",
              "      <td>-1</td>\n",
              "      <td>-1</td>\n",
              "    </tr>\n",
              "    <tr>\n",
              "      <th>232238</th>\n",
              "      <td>431662</td>\n",
              "      <td>1</td>\n",
              "      <td>-1</td>\n",
              "      <td>2021-09-05T05:20:02.840</td>\n",
              "      <td>-2</td>\n",
              "      <td>7</td>\n",
              "      <td>&lt;p&gt;What is the scope of embedded software in I...</td>\n",
              "      <td>401500</td>\n",
              "      <td>Scope of Embedded software in India</td>\n",
              "      <td>&lt;embedded-systems&gt;</td>\n",
              "      <td>0</td>\n",
              "      <td>0</td>\n",
              "      <td>-1</td>\n",
              "      <td>-1</td>\n",
              "      <td>-1</td>\n",
              "      <td>CC BY-SA 4.0</td>\n",
              "      <td>-1</td>\n",
              "      <td>-1</td>\n",
              "      <td>-1</td>\n",
              "    </tr>\n",
              "  </tbody>\n",
              "</table>\n",
              "<p>232239 rows × 19 columns</p>\n",
              "</div>"
            ],
            "text/plain": [
              "        PostId  PostTypeId  AcceptedAnswerId             CreationDate  Score  \\\n",
              "0            1           1                13  2010-09-01T19:34:48.000    100   \n",
              "1            3           2                -1  2010-09-01T19:36:50.053     29   \n",
              "2            4           1                26  2010-09-01T19:37:39.957     66   \n",
              "3            7           2                -1  2010-09-01T19:42:16.797     10   \n",
              "4            9           1                -1  2010-09-01T19:43:04.957     39   \n",
              "...        ...         ...               ...                      ...    ...   \n",
              "232234  431658           2                -1  2021-09-04T21:15:21.363      1   \n",
              "232235  431659           1                -1  2021-09-04T21:53:17.773      0   \n",
              "232236  431660           1                -1  2021-09-04T22:35:19.087      0   \n",
              "232237  431661           2                -1  2021-09-04T23:55:02.070      1   \n",
              "232238  431662           1                -1  2021-09-05T05:20:02.840     -2   \n",
              "\n",
              "        ViewCount                                               Body  \\\n",
              "0           58142  <p>A coworker of mine believes that <em>any</e...   \n",
              "1              -1  <p>Ideally, code should be so well coded that ...   \n",
              "2            9565  <p>When starting a project for a company that'...   \n",
              "3              -1  <p>I think the answer is the usual \"It depends...   \n",
              "4           13113  <p>Sometimes, the things I have to do for my j...   \n",
              "...           ...                                                ...   \n",
              "232234         -1  <p>When building event driven systems, events ...   \n",
              "232235          7  <p>I am working on an application right now, w...   \n",
              "232236         19  <p>This is more of a design/architecture quest...   \n",
              "232237         -1  <p>To simply fix the issue at hand (data reten...   \n",
              "232238          7  <p>What is the scope of embedded software in I...   \n",
              "\n",
              "        OwnerUserId                                              Title  \\\n",
              "0                 6                        \"Comments are a code smell\"   \n",
              "1                11                                                 -1   \n",
              "2                -1  Getting non-programmers to understand the deve...   \n",
              "3                21                                                 -1   \n",
              "4                17                   How do you stay focused at work?   \n",
              "...             ...                                                ...   \n",
              "232234        60357                                                 -1   \n",
              "232235       401491  Handling realtime notification receivers in a ...   \n",
              "232236       400361  Designing a logic to receive ACK for every mes...   \n",
              "232237       284628                                                 -1   \n",
              "232238       401500                Scope of Embedded software in India   \n",
              "\n",
              "                                                     Tags  AnswerCount  \\\n",
              "0                               <comments><anti-patterns>           34   \n",
              "1                                                      -1           -1   \n",
              "2       <business><project-management><development-pro...           12   \n",
              "3                                                      -1           -1   \n",
              "4                         <productivity><time-management>           24   \n",
              "...                                                   ...          ...   \n",
              "232234                                                 -1           -1   \n",
              "232235        <web><websockets><real-time><notifications>            0   \n",
              "232236  <architecture><c><message-queue><embedded-syst...            0   \n",
              "232237                                                 -1           -1   \n",
              "232238                                 <embedded-systems>            0   \n",
              "\n",
              "        CommentCount  FavoriteCount               ClosedDate  \\\n",
              "0                 10             76  2012-11-27T20:11:51.580   \n",
              "1                 17             -1                       -1   \n",
              "2                  2             34                       -1   \n",
              "3                  0             -1                       -1   \n",
              "4                  1             26  2012-11-13T19:09:35.853   \n",
              "...              ...            ...                      ...   \n",
              "232234             1             -1                       -1   \n",
              "232235             0             -1                       -1   \n",
              "232236             0             -1                       -1   \n",
              "232237             0             -1                       -1   \n",
              "232238             0             -1                       -1   \n",
              "\n",
              "             CommunityOwnedDate ContentLicense  ParentId OwnerDisplayName  \\\n",
              "0       2011-01-31T09:04:54.130   CC BY-SA 2.5        -1               -1   \n",
              "1       2011-01-31T09:04:54.130   CC BY-SA 2.5         1               -1   \n",
              "2                            -1   CC BY-SA 2.5        -1            user8   \n",
              "3       2011-01-31T09:04:54.130   CC BY-SA 2.5         1               -1   \n",
              "4       2011-01-04T21:22:43.957   CC BY-SA 2.5        -1               -1   \n",
              "...                         ...            ...       ...              ...   \n",
              "232234                       -1   CC BY-SA 4.0    431657               -1   \n",
              "232235                       -1   CC BY-SA 4.0        -1               -1   \n",
              "232236                       -1   CC BY-SA 4.0        -1               -1   \n",
              "232237                       -1   CC BY-SA 4.0    431657               -1   \n",
              "232238                       -1   CC BY-SA 4.0        -1               -1   \n",
              "\n",
              "       LastEditorDisplayName  \n",
              "0                         -1  \n",
              "1                         -1  \n",
              "2                      user8  \n",
              "3                         -1  \n",
              "4                         -1  \n",
              "...                      ...  \n",
              "232234                    -1  \n",
              "232235                    -1  \n",
              "232236                    -1  \n",
              "232237                    -1  \n",
              "232238                    -1  \n",
              "\n",
              "[232239 rows x 19 columns]"
            ]
          },
          "execution_count": 719,
          "metadata": {},
          "output_type": "execute_result"
        }
      ],
      "source": [
        "pd_user_posts_dict['posts']"
      ]
    },
    {
      "cell_type": "code",
      "execution_count": null,
      "metadata": {
        "id": "9O0PNTG63VXG"
      },
      "outputs": [],
      "source": [
        "def count_q_a_by_user_id(post_df, user_id):\n",
        "    return len(post_df.loc[(post_df['OwnerUserId'] == user_id) & (post_df['PostTypeId'] == 1)]), len(post_df.loc[(post_df['OwnerUserId'] == user_id) & (post_df['PostTypeId'] == 2)])\n",
        "\n",
        "\n",
        "\n",
        "def get_user_ids_for_filtering(user_df, post_df):\n",
        "    user_id_list = []\n",
        "    for idx, user_row in user_df.iterrows():\n",
        "        # print(user_row['Id'])\n",
        "        user_q_count, user_a_count = count_q_a_by_user_id(post_df, user_row['Id'])\n",
        "        if user_a_count >= 1:\n",
        "            user_id_list.append(user_row['Id'])\n",
        "    return user_id_list "
      ]
    },
    {
      "cell_type": "code",
      "execution_count": null,
      "metadata": {
        "id": "-4vdqhaPlwd9"
      },
      "outputs": [],
      "source": [
        "id_list = get_user_ids_for_filtering(pd_user_posts_dict['users'], pd_user_posts_dict['posts'])"
      ]
    },
    {
      "cell_type": "code",
      "execution_count": null,
      "metadata": {
        "colab": {
          "base_uri": "https://localhost:8080/"
        },
        "id": "PCYqvWyCpaHZ",
        "outputId": "5cf7e95e-6885-4332-f426-9985c533ab70"
      },
      "outputs": [
        {
          "data": {
            "text/plain": [
              "1227"
            ]
          },
          "execution_count": 722,
          "metadata": {},
          "output_type": "execute_result"
        }
      ],
      "source": [
        "len(id_list)"
      ]
    },
    {
      "cell_type": "code",
      "execution_count": null,
      "metadata": {
        "colab": {
          "base_uri": "https://localhost:8080/"
        },
        "id": "k9Zs94KorCsk",
        "outputId": "500270f4-889e-4af9-bb74-9d6b41f7553b"
      },
      "outputs": [
        {
          "data": {
            "text/plain": [
              "[1352,\n",
              " 14221,\n",
              " 3249,\n",
              " 61852,\n",
              " 16929,\n",
              " 2314,\n",
              " 7167,\n",
              " 611,\n",
              " 121368,\n",
              " 20673,\n",
              " 1696,\n",
              " 62323,\n",
              " 5692,\n",
              " 66,\n",
              " 2366,\n",
              " 2329,\n",
              " 222996,\n",
              " 12750,\n",
              " 11107,\n",
              " 11246,\n",
              " 32008,\n",
              " 193669,\n",
              " 55314,\n",
              " 17429,\n",
              " 7080,\n",
              " 232369,\n",
              " 38223,\n",
              " 257,\n",
              " 114930,\n",
              " 12061,\n",
              " 86,\n",
              " 88986,\n",
              " 90992,\n",
              " 28718,\n",
              " 82764,\n",
              " 7380,\n",
              " 191975,\n",
              " 1298,\n",
              " 79793,\n",
              " 90149,\n",
              " 147,\n",
              " 206652,\n",
              " 8120,\n",
              " 3790,\n",
              " 1929,\n",
              " 39690,\n",
              " 20757,\n",
              " 99,\n",
              " 12402,\n",
              " 25,\n",
              " 5148,\n",
              " 5433,\n",
              " 79256,\n",
              " 44767,\n",
              " 98712,\n",
              " 4316,\n",
              " 70298,\n",
              " 121951,\n",
              " 4422,\n",
              " 109112,\n",
              " 7860,\n",
              " 1177,\n",
              " 21218,\n",
              " 1788,\n",
              " 103266,\n",
              " 40724,\n",
              " 1476,\n",
              " 139925,\n",
              " 14294,\n",
              " 195918,\n",
              " 5149,\n",
              " 36596,\n",
              " 3915,\n",
              " 4688,\n",
              " 81568,\n",
              " 4662,\n",
              " 44124,\n",
              " 5024,\n",
              " 8500,\n",
              " 61509,\n",
              " 76809,\n",
              " 59134,\n",
              " 2294,\n",
              " 53263,\n",
              " 38234,\n",
              " 193,\n",
              " 433,\n",
              " 4603,\n",
              " 100346,\n",
              " 2671,\n",
              " 13719,\n",
              " 121080,\n",
              " 27540,\n",
              " 8458,\n",
              " 12260,\n",
              " 12135,\n",
              " 3073,\n",
              " 26988,\n",
              " 23061,\n",
              " 187465,\n",
              " 71634,\n",
              " 43527,\n",
              " 40518,\n",
              " 120,\n",
              " 5487,\n",
              " 55614,\n",
              " 31101,\n",
              " 19888,\n",
              " 15090,\n",
              " 23010,\n",
              " 27079,\n",
              " 51531,\n",
              " 22765,\n",
              " 82539,\n",
              " 133110,\n",
              " 12230,\n",
              " 2301,\n",
              " 82,\n",
              " 9274,\n",
              " 8538,\n",
              " 3566,\n",
              " 62,\n",
              " 7654,\n",
              " 13519,\n",
              " 99407,\n",
              " 18139,\n",
              " 7567,\n",
              " 270721,\n",
              " 2554,\n",
              " 471,\n",
              " 3922,\n",
              " 36966,\n",
              " 728,\n",
              " 837,\n",
              " 11200,\n",
              " 292114,\n",
              " 26547,\n",
              " 60125,\n",
              " 4219,\n",
              " 1681,\n",
              " 91470,\n",
              " 4514,\n",
              " 10190,\n",
              " 19697,\n",
              " 20093,\n",
              " 100148,\n",
              " 56903,\n",
              " 20644,\n",
              " 72267,\n",
              " 334066,\n",
              " 62100,\n",
              " 35897,\n",
              " 4396,\n",
              " 46112,\n",
              " 8033,\n",
              " 65770,\n",
              " 24912,\n",
              " 23890,\n",
              " 93427,\n",
              " 1755,\n",
              " 138451,\n",
              " 12209,\n",
              " 1028,\n",
              " 161289,\n",
              " 42685,\n",
              " 47845,\n",
              " 29121,\n",
              " 18074,\n",
              " 182,\n",
              " 33851,\n",
              " 2331,\n",
              " 4139,\n",
              " 6877,\n",
              " 24458,\n",
              " 78820,\n",
              " 168744,\n",
              " 153350,\n",
              " 10935,\n",
              " 36473,\n",
              " 91316,\n",
              " 200191,\n",
              " 214858,\n",
              " 1813,\n",
              " 25612,\n",
              " 3229,\n",
              " 48738,\n",
              " 55875,\n",
              " 53077,\n",
              " 9823,\n",
              " 13444,\n",
              " 17243,\n",
              " 9888,\n",
              " 48185,\n",
              " 238259,\n",
              " 66949,\n",
              " 26416,\n",
              " 1447,\n",
              " 11636,\n",
              " 18369,\n",
              " 3412,\n",
              " 6669,\n",
              " 284998,\n",
              " 95732,\n",
              " 3092,\n",
              " 59434,\n",
              " 13021,\n",
              " 4438,\n",
              " 38802,\n",
              " 60361,\n",
              " 13694,\n",
              " 44862,\n",
              " 124447,\n",
              " 54997,\n",
              " 17360,\n",
              " 117391,\n",
              " 39302,\n",
              " 2281,\n",
              " 32399,\n",
              " 4832,\n",
              " 32597,\n",
              " 16349,\n",
              " 30302,\n",
              " 124966,\n",
              " 36512,\n",
              " 27726,\n",
              " 55030,\n",
              " 24478,\n",
              " 34380,\n",
              " 2894,\n",
              " 9033,\n",
              " 6861,\n",
              " 148162,\n",
              " 19639,\n",
              " 7073,\n",
              " 3122,\n",
              " 109836,\n",
              " 168944,\n",
              " 24849,\n",
              " 63475,\n",
              " 42446,\n",
              " 45576,\n",
              " 5319,\n",
              " 69087,\n",
              " 4429,\n",
              " 126703,\n",
              " 184566,\n",
              " 115641,\n",
              " 91249,\n",
              " 48830,\n",
              " 3521,\n",
              " 8586,\n",
              " 735,\n",
              " 22665,\n",
              " 14714,\n",
              " 167529,\n",
              " 37480,\n",
              " 49748,\n",
              " 76516,\n",
              " 42195,\n",
              " 119490,\n",
              " 3928,\n",
              " 16868,\n",
              " 174635,\n",
              " 58443,\n",
              " 4428,\n",
              " 16147,\n",
              " 23475,\n",
              " 32945,\n",
              " 45919,\n",
              " 7610,\n",
              " 91916,\n",
              " 57863,\n",
              " 23857,\n",
              " 60953,\n",
              " 79557,\n",
              " 5879,\n",
              " 50639,\n",
              " 32542,\n",
              " 12038,\n",
              " 62519,\n",
              " 3801,\n",
              " 14378,\n",
              " 128417,\n",
              " 9981,\n",
              " 48191,\n",
              " 221352,\n",
              " 102854,\n",
              " 43842,\n",
              " 3741,\n",
              " 18261,\n",
              " 20427,\n",
              " 23888,\n",
              " 63339,\n",
              " 62136,\n",
              " 488,\n",
              " 86679,\n",
              " 4436,\n",
              " 57752,\n",
              " 29882,\n",
              " 15163,\n",
              " 58553,\n",
              " 126538,\n",
              " 2347,\n",
              " 255562,\n",
              " 19256,\n",
              " 40627,\n",
              " 54472,\n",
              " 662,\n",
              " 4613,\n",
              " 13624,\n",
              " 35401,\n",
              " 3946,\n",
              " 111157,\n",
              " 50198,\n",
              " 2902,\n",
              " 30225,\n",
              " 356235,\n",
              " 27906,\n",
              " 3758,\n",
              " 971,\n",
              " 86778,\n",
              " 110860,\n",
              " 64030,\n",
              " 208831,\n",
              " 54894,\n",
              " 100350,\n",
              " 150441,\n",
              " 642,\n",
              " 124378,\n",
              " 103859,\n",
              " 35925,\n",
              " 49207,\n",
              " 13805,\n",
              " 23361,\n",
              " 15406,\n",
              " 31244,\n",
              " 290871,\n",
              " 6403,\n",
              " 2960,\n",
              " 31706,\n",
              " 28175,\n",
              " 89959,\n",
              " 5447,\n",
              " 3082,\n",
              " 189731,\n",
              " 50900,\n",
              " 3042,\n",
              " 350103,\n",
              " 67200,\n",
              " 34386,\n",
              " 227698,\n",
              " 112132,\n",
              " 25100,\n",
              " 73296,\n",
              " 108326,\n",
              " 96328,\n",
              " 151246,\n",
              " 30953,\n",
              " 104231,\n",
              " 32013,\n",
              " 161522,\n",
              " 11198,\n",
              " 46560,\n",
              " 11593,\n",
              " 69455,\n",
              " 94074,\n",
              " 130010,\n",
              " 52573,\n",
              " 35799,\n",
              " 8355,\n",
              " 55949,\n",
              " 244054,\n",
              " 4015,\n",
              " 33101,\n",
              " 22641,\n",
              " 12939,\n",
              " 93338,\n",
              " 1829,\n",
              " 16363,\n",
              " 32698,\n",
              " 119131,\n",
              " 109091,\n",
              " 71391,\n",
              " 154794,\n",
              " 18020,\n",
              " 28912,\n",
              " 1285,\n",
              " 363559,\n",
              " 6167,\n",
              " 9915,\n",
              " 223337,\n",
              " 85227,\n",
              " 2613,\n",
              " 8088,\n",
              " 30415,\n",
              " 88040,\n",
              " 23291,\n",
              " 63912,\n",
              " 3354,\n",
              " 22234,\n",
              " 6998,\n",
              " 18559,\n",
              " 37929,\n",
              " 42267,\n",
              " 76753,\n",
              " 6802,\n",
              " 28691,\n",
              " 20334,\n",
              " 3806,\n",
              " 4008,\n",
              " 255048,\n",
              " 38536,\n",
              " 163795,\n",
              " 26753,\n",
              " 19731,\n",
              " 13961,\n",
              " 9223,\n",
              " 10734,\n",
              " 55086,\n",
              " 219801,\n",
              " 12498,\n",
              " 115565,\n",
              " 217217,\n",
              " 25015,\n",
              " 20682,\n",
              " 16257,\n",
              " 3726,\n",
              " 52596,\n",
              " 35346,\n",
              " 45211,\n",
              " 31343,\n",
              " 25633,\n",
              " 5231,\n",
              " 50074,\n",
              " 7767,\n",
              " 157208,\n",
              " 158524,\n",
              " 97167,\n",
              " 6330,\n",
              " 3809,\n",
              " 83229,\n",
              " 48012,\n",
              " 230189,\n",
              " 20110,\n",
              " 34291,\n",
              " 82594,\n",
              " 212311,\n",
              " 144,\n",
              " 37367,\n",
              " 9062,\n",
              " 40775,\n",
              " 13875,\n",
              " 31384,\n",
              " 50491,\n",
              " 1205,\n",
              " 350412,\n",
              " 63374,\n",
              " 9050,\n",
              " 11058,\n",
              " 73677,\n",
              " 5300,\n",
              " 2518,\n",
              " 128824,\n",
              " 149436,\n",
              " 95265,\n",
              " 7227,\n",
              " 59793,\n",
              " 251840,\n",
              " 51550,\n",
              " 23304,\n",
              " 75014,\n",
              " 3597,\n",
              " 78424,\n",
              " 27422,\n",
              " 94044,\n",
              " 45037,\n",
              " 298165,\n",
              " 25603,\n",
              " 8390,\n",
              " 10603,\n",
              " 11937,\n",
              " 40883,\n",
              " 38342,\n",
              " 93004,\n",
              " 29472,\n",
              " 17824,\n",
              " 21438,\n",
              " 60046,\n",
              " 30421,\n",
              " 66326,\n",
              " 53275,\n",
              " 294272,\n",
              " 4730,\n",
              " 78083,\n",
              " 13234,\n",
              " 32151,\n",
              " 73603,\n",
              " 183615,\n",
              " 46197,\n",
              " 34175,\n",
              " 14552,\n",
              " 166152,\n",
              " 279658,\n",
              " 52531,\n",
              " 8925,\n",
              " 2605,\n",
              " 72564,\n",
              " 32447,\n",
              " 262006,\n",
              " 42909,\n",
              " 16554,\n",
              " 2093,\n",
              " 37721,\n",
              " 3057,\n",
              " 39434,\n",
              " 2917,\n",
              " 158755,\n",
              " 32631,\n",
              " 377681,\n",
              " 5425,\n",
              " 41388,\n",
              " 95671,\n",
              " 46582,\n",
              " 31438,\n",
              " 201816,\n",
              " 161734,\n",
              " 229710,\n",
              " 33322,\n",
              " 41673,\n",
              " 31990,\n",
              " 60102,\n",
              " 120058,\n",
              " 2435,\n",
              " 34754,\n",
              " 40565,\n",
              " 8369,\n",
              " 161513,\n",
              " 287126,\n",
              " 140090,\n",
              " 189396,\n",
              " 82675,\n",
              " 49083,\n",
              " 27148,\n",
              " 4025,\n",
              " 58002,\n",
              " 4703,\n",
              " 18006,\n",
              " 106835,\n",
              " 324504,\n",
              " 17014,\n",
              " 51387,\n",
              " 37504,\n",
              " 127226,\n",
              " 23333,\n",
              " 40224,\n",
              " 4182,\n",
              " 123836,\n",
              " 317,\n",
              " 49253,\n",
              " 311114,\n",
              " 294716,\n",
              " 175056,\n",
              " 23939,\n",
              " 55995,\n",
              " 34538,\n",
              " 22200,\n",
              " 8776,\n",
              " 111774,\n",
              " 272007,\n",
              " 82462,\n",
              " 18099,\n",
              " 69621,\n",
              " 166094,\n",
              " 17189,\n",
              " 136452,\n",
              " 74318,\n",
              " 260713,\n",
              " 108623,\n",
              " 60132,\n",
              " 4801,\n",
              " 3717,\n",
              " 17830,\n",
              " 80253,\n",
              " 8326,\n",
              " 308747,\n",
              " 3766,\n",
              " 37900,\n",
              " 33820,\n",
              " 43880,\n",
              " 5743,\n",
              " 1282,\n",
              " 27803,\n",
              " 38501,\n",
              " 36248,\n",
              " 121123,\n",
              " 106595,\n",
              " 6693,\n",
              " 227552,\n",
              " 281,\n",
              " 95524,\n",
              " 76881,\n",
              " 185087,\n",
              " 57883,\n",
              " 7375,\n",
              " 104423,\n",
              " 97857,\n",
              " 62985,\n",
              " 59499,\n",
              " 15973,\n",
              " 55627,\n",
              " 56734,\n",
              " 7118,\n",
              " 54184,\n",
              " 80835,\n",
              " 73424,\n",
              " 34661,\n",
              " 73904,\n",
              " 280963,\n",
              " 27767,\n",
              " 23011,\n",
              " 69304,\n",
              " 30865,\n",
              " 39732,\n",
              " 86783,\n",
              " 3937,\n",
              " 88284,\n",
              " 258,\n",
              " 37844,\n",
              " 23506,\n",
              " 35026,\n",
              " 59603,\n",
              " 290433,\n",
              " 101886,\n",
              " 6254,\n",
              " 74608,\n",
              " 7993,\n",
              " 298072,\n",
              " 74321,\n",
              " 29832,\n",
              " 37423,\n",
              " 205529,\n",
              " 92685,\n",
              " 107143,\n",
              " 73647,\n",
              " 232395,\n",
              " 7258,\n",
              " 3982,\n",
              " 320228,\n",
              " 19232,\n",
              " 183841,\n",
              " 12160,\n",
              " 4961,\n",
              " 12356,\n",
              " 119949,\n",
              " 2004,\n",
              " 19634,\n",
              " 161303,\n",
              " 372596,\n",
              " 703,\n",
              " 262662,\n",
              " 56195,\n",
              " 128106,\n",
              " 7798,\n",
              " 81384,\n",
              " 593,\n",
              " 36096,\n",
              " 89507,\n",
              " 17559,\n",
              " 101210,\n",
              " 40609,\n",
              " 72684,\n",
              " 116908,\n",
              " 121738,\n",
              " 42934,\n",
              " 23829,\n",
              " 76063,\n",
              " 5452,\n",
              " 17847,\n",
              " 37969,\n",
              " 46892,\n",
              " 11481,\n",
              " 35230,\n",
              " 790,\n",
              " 545,\n",
              " 218150,\n",
              " 40250,\n",
              " 82723,\n",
              " 3378,\n",
              " 45559,\n",
              " 4125,\n",
              " 167968,\n",
              " 43607,\n",
              " 271094,\n",
              " 14781,\n",
              " 179521,\n",
              " 14025,\n",
              " 76314,\n",
              " 53833,\n",
              " 193419,\n",
              " 33422,\n",
              " 31995,\n",
              " 21154,\n",
              " 225732,\n",
              " 1783,\n",
              " 111302,\n",
              " 48610,\n",
              " 298503,\n",
              " 55890,\n",
              " 49377,\n",
              " 2835,\n",
              " 118969,\n",
              " 116331,\n",
              " 20565,\n",
              " 217634,\n",
              " 6465,\n",
              " 90833,\n",
              " 22514,\n",
              " 134501,\n",
              " 13821,\n",
              " 218879,\n",
              " 275117,\n",
              " 247954,\n",
              " 204,\n",
              " 108737,\n",
              " 22956,\n",
              " 155976,\n",
              " 47207,\n",
              " 1603,\n",
              " 104831,\n",
              " 311882,\n",
              " 2467,\n",
              " 73834,\n",
              " 196004,\n",
              " 29785,\n",
              " 363502,\n",
              " 143556,\n",
              " 1611,\n",
              " 54635,\n",
              " 122426,\n",
              " 58128,\n",
              " 37218,\n",
              " 166559,\n",
              " 984,\n",
              " 7373,\n",
              " 29067,\n",
              " 21655,\n",
              " 13937,\n",
              " 99773,\n",
              " 204446,\n",
              " 190094,\n",
              " 41129,\n",
              " 54211,\n",
              " 213944,\n",
              " 11912,\n",
              " 30289,\n",
              " 55904,\n",
              " 6892,\n",
              " 18821,\n",
              " 18779,\n",
              " 62294,\n",
              " 187126,\n",
              " 229937,\n",
              " 11771,\n",
              " 198435,\n",
              " 260458,\n",
              " 95609,\n",
              " 63818,\n",
              " 123530,\n",
              " 49532,\n",
              " 233289,\n",
              " 956,\n",
              " 167272,\n",
              " 120125,\n",
              " 41236,\n",
              " 132780,\n",
              " 92363,\n",
              " 6703,\n",
              " 12774,\n",
              " 45622,\n",
              " 188342,\n",
              " 81595,\n",
              " 110350,\n",
              " 52064,\n",
              " 283830,\n",
              " 252775,\n",
              " 40189,\n",
              " 1383,\n",
              " 95037,\n",
              " 289973,\n",
              " 58182,\n",
              " 191785,\n",
              " 43071,\n",
              " 257766,\n",
              " 41788,\n",
              " 157638,\n",
              " 12415,\n",
              " 143864,\n",
              " 125971,\n",
              " 23492,\n",
              " 65534,\n",
              " 315606,\n",
              " 52979,\n",
              " 274996,\n",
              " 34550,\n",
              " 94331,\n",
              " 36625,\n",
              " 89194,\n",
              " 314554,\n",
              " 3767,\n",
              " 42625,\n",
              " 98498,\n",
              " 197877,\n",
              " 146784,\n",
              " 28541,\n",
              " 12662,\n",
              " 30504,\n",
              " 72086,\n",
              " 72707,\n",
              " 17238,\n",
              " 7006,\n",
              " 17901,\n",
              " 158307,\n",
              " 22110,\n",
              " 39126,\n",
              " 21813,\n",
              " 225653,\n",
              " 43151,\n",
              " 30625,\n",
              " 3906,\n",
              " 203951,\n",
              " 68984,\n",
              " 93410,\n",
              " 48295,\n",
              " 300465,\n",
              " 35520,\n",
              " 60344,\n",
              " 229486,\n",
              " 82638,\n",
              " 16751,\n",
              " 37746,\n",
              " 45939,\n",
              " 34700,\n",
              " 68875,\n",
              " 58225,\n",
              " 286288,\n",
              " 60967,\n",
              " 150627,\n",
              " 263166,\n",
              " 5698,\n",
              " 192608,\n",
              " 53199,\n",
              " 279825,\n",
              " 29338,\n",
              " 69376,\n",
              " 40380,\n",
              " 206630,\n",
              " 33425,\n",
              " 39367,\n",
              " 89289,\n",
              " 173159,\n",
              " 6689,\n",
              " 59031,\n",
              " 425,\n",
              " 106300,\n",
              " 23127,\n",
              " 93022,\n",
              " 131744,\n",
              " 40974,\n",
              " 58941,\n",
              " 4389,\n",
              " 51787,\n",
              " 10172,\n",
              " 28154,\n",
              " 5406,\n",
              " 31812,\n",
              " 373587,\n",
              " 2725,\n",
              " 77009,\n",
              " 267608,\n",
              " 169125,\n",
              " 202805,\n",
              " 47102,\n",
              " 65498,\n",
              " 102899,\n",
              " 5484,\n",
              " 257754,\n",
              " 264762,\n",
              " 54786,\n",
              " 197813,\n",
              " 61731,\n",
              " 375157,\n",
              " 150802,\n",
              " 146947,\n",
              " 13057,\n",
              " 254467,\n",
              " 104287,\n",
              " 69483,\n",
              " 201870,\n",
              " 14031,\n",
              " 73892,\n",
              " 215307,\n",
              " 265066,\n",
              " 54173,\n",
              " 312152,\n",
              " 226788,\n",
              " 179661,\n",
              " 15346,\n",
              " 55882,\n",
              " 27971,\n",
              " 206403,\n",
              " 49574,\n",
              " 20075,\n",
              " 69663,\n",
              " 3735,\n",
              " 36414,\n",
              " 41367,\n",
              " 229756,\n",
              " 73728,\n",
              " 51329,\n",
              " 94922,\n",
              " 41666,\n",
              " 69335,\n",
              " 109667,\n",
              " 8330,\n",
              " 33485,\n",
              " 200660,\n",
              " 21057,\n",
              " 97261,\n",
              " 17526,\n",
              " 347728,\n",
              " 148385,\n",
              " 84477,\n",
              " 72920,\n",
              " 125350,\n",
              " 255475,\n",
              " 260295,\n",
              " 46375,\n",
              " 10459,\n",
              " 35615,\n",
              " 307014,\n",
              " 74810,\n",
              " 8979,\n",
              " 149385,\n",
              " 134317,\n",
              " 99352,\n",
              " 104669,\n",
              " 187027,\n",
              " 213877,\n",
              " 34599,\n",
              " 25036,\n",
              " 273966,\n",
              " 253355,\n",
              " 250856,\n",
              " 97556,\n",
              " 81256,\n",
              " 80346,\n",
              " 202954,\n",
              " 106567,\n",
              " 13472,\n",
              " 63002,\n",
              " 235721,\n",
              " 835,\n",
              " 90621,\n",
              " 11671,\n",
              " 103635,\n",
              " 119542,\n",
              " 171786,\n",
              " 114036,\n",
              " 67606,\n",
              " 221223,\n",
              " 59423,\n",
              " 243580,\n",
              " 204442,\n",
              " 119012,\n",
              " 5309,\n",
              " 62620,\n",
              " 197075,\n",
              " 175034,\n",
              " 55020,\n",
              " 196291,\n",
              " 193940,\n",
              " 17608,\n",
              " 8441,\n",
              " 183643,\n",
              " 306735,\n",
              " 45130,\n",
              " 7937,\n",
              " 90372,\n",
              " 219936,\n",
              " 146161,\n",
              " 63631,\n",
              " 195500,\n",
              " 63670,\n",
              " 220929,\n",
              " 222984,\n",
              " 277154,\n",
              " 131761,\n",
              " 386656,\n",
              " 24365,\n",
              " 327416,\n",
              " ...]"
            ]
          },
          "execution_count": 723,
          "metadata": {},
          "output_type": "execute_result"
        }
      ],
      "source": [
        "id_list"
      ]
    },
    {
      "cell_type": "code",
      "execution_count": null,
      "metadata": {
        "colab": {
          "base_uri": "https://localhost:8080/"
        },
        "id": "EhGY1wgjrz1v",
        "outputId": "9a5b8a99-c129-498d-a90f-daae0fb8eeb9"
      },
      "outputs": [
        {
          "data": {
            "text/plain": [
              "1352"
            ]
          },
          "execution_count": 724,
          "metadata": {},
          "output_type": "execute_result"
        }
      ],
      "source": [
        "id_list[0]"
      ]
    },
    {
      "cell_type": "code",
      "execution_count": null,
      "metadata": {
        "id": "gygmMMEsq1gR"
      },
      "outputs": [],
      "source": [
        "pd_user_posts_dict['users'] = pd_user_posts_dict['users'].loc[pd_user_posts_dict['users']['Id'].isin(id_list)]"
      ]
    },
    {
      "cell_type": "code",
      "execution_count": null,
      "metadata": {
        "id": "lYFxwKmZOqxX"
      },
      "outputs": [],
      "source": [
        "pd_user_posts_dict['users'] = pd_user_posts_dict['users'].iloc[::13,:]\n",
        "id_list = list(pd_user_posts_dict['users']['Id'])"
      ]
    },
    {
      "cell_type": "code",
      "execution_count": null,
      "metadata": {
        "colab": {
          "base_uri": "https://localhost:8080/",
          "height": 468
        },
        "id": "72jwVf8mQHhb",
        "outputId": "b16527db-6985-4264-db42-11d92c98d6d3"
      },
      "outputs": [
        {
          "data": {
            "text/html": [
              "<div>\n",
              "<style scoped>\n",
              "    .dataframe tbody tr th:only-of-type {\n",
              "        vertical-align: middle;\n",
              "    }\n",
              "\n",
              "    .dataframe tbody tr th {\n",
              "        vertical-align: top;\n",
              "    }\n",
              "\n",
              "    .dataframe thead th {\n",
              "        text-align: right;\n",
              "    }\n",
              "</style>\n",
              "<table border=\"1\" class=\"dataframe\">\n",
              "  <thead>\n",
              "    <tr style=\"text-align: right;\">\n",
              "      <th></th>\n",
              "      <th>Id</th>\n",
              "      <th>Reputation</th>\n",
              "      <th>CreationDate</th>\n",
              "      <th>DisplayName</th>\n",
              "      <th>Location</th>\n",
              "      <th>AboutMe</th>\n",
              "      <th>Views</th>\n",
              "      <th>UpVotes</th>\n",
              "      <th>DownVotes</th>\n",
              "      <th>AccountId</th>\n",
              "    </tr>\n",
              "  </thead>\n",
              "  <tbody>\n",
              "    <tr>\n",
              "      <th>1156</th>\n",
              "      <td>1352</td>\n",
              "      <td>95315</td>\n",
              "      <td>2010-09-11T23:46:09.743</td>\n",
              "      <td>Jörg W Mittag</td>\n",
              "      <td>Karlsruhe, Germany</td>\n",
              "      <td>&lt;p&gt;Not a software developer in the sense that ...</td>\n",
              "      <td>8856</td>\n",
              "      <td>499</td>\n",
              "      <td>14091</td>\n",
              "      <td>2172</td>\n",
              "    </tr>\n",
              "    <tr>\n",
              "      <th>62</th>\n",
              "      <td>66</td>\n",
              "      <td>13048</td>\n",
              "      <td>2010-09-01T20:22:47.367</td>\n",
              "      <td>TheLQ</td>\n",
              "      <td>United States</td>\n",
              "      <td>&lt;p&gt;I write stuff&lt;/p&gt;\\n\\n&lt;p&gt;&lt;strong&gt;Languages:&lt;...</td>\n",
              "      <td>1029</td>\n",
              "      <td>1582</td>\n",
              "      <td>140</td>\n",
              "      <td>137942</td>\n",
              "    </tr>\n",
              "    <tr>\n",
              "      <th>31290</th>\n",
              "      <td>38223</td>\n",
              "      <td>8397</td>\n",
              "      <td>2011-10-07T16:04:27.377</td>\n",
              "      <td>Madara's Ghost</td>\n",
              "      <td>Israel</td>\n",
              "      <td>&lt;p&gt;I have resigned and will no longer be avail...</td>\n",
              "      <td>1141</td>\n",
              "      <td>44</td>\n",
              "      <td>3</td>\n",
              "      <td>466356</td>\n",
              "    </tr>\n",
              "    <tr>\n",
              "      <th>72605</th>\n",
              "      <td>90149</td>\n",
              "      <td>4457</td>\n",
              "      <td>2013-05-05T12:58:49.073</td>\n",
              "      <td>BobDalgleish</td>\n",
              "      <td>-1</td>\n",
              "      <td>&lt;p&gt;I am an experienced developer, in many lang...</td>\n",
              "      <td>331</td>\n",
              "      <td>290</td>\n",
              "      <td>82</td>\n",
              "      <td>1288640</td>\n",
              "    </tr>\n",
              "    <tr>\n",
              "      <th>63946</th>\n",
              "      <td>79256</td>\n",
              "      <td>3180</td>\n",
              "      <td>2013-01-23T11:25:22.697</td>\n",
              "      <td>RemcoGerlich</td>\n",
              "      <td>Arnhem, Netherlands</td>\n",
              "      <td>&lt;p&gt;All-round software developer with 15 years ...</td>\n",
              "      <td>171</td>\n",
              "      <td>136</td>\n",
              "      <td>14</td>\n",
              "      <td>421112</td>\n",
              "    </tr>\n",
              "    <tr>\n",
              "      <th>...</th>\n",
              "      <td>...</td>\n",
              "      <td>...</td>\n",
              "      <td>...</td>\n",
              "      <td>...</td>\n",
              "      <td>...</td>\n",
              "      <td>...</td>\n",
              "      <td>...</td>\n",
              "      <td>...</td>\n",
              "      <td>...</td>\n",
              "      <td>...</td>\n",
              "    </tr>\n",
              "    <tr>\n",
              "      <th>44148</th>\n",
              "      <td>52807</td>\n",
              "      <td>111</td>\n",
              "      <td>2012-04-26T19:29:01.280</td>\n",
              "      <td>ianpojman</td>\n",
              "      <td>-1</td>\n",
              "      <td>&lt;p&gt;Java/Scala developer&lt;/p&gt;\\n</td>\n",
              "      <td>3</td>\n",
              "      <td>0</td>\n",
              "      <td>0</td>\n",
              "      <td>1416578</td>\n",
              "    </tr>\n",
              "    <tr>\n",
              "      <th>26848</th>\n",
              "      <td>33202</td>\n",
              "      <td>111</td>\n",
              "      <td>2011-08-02T18:19:11.177</td>\n",
              "      <td>easeout</td>\n",
              "      <td>United States</td>\n",
              "      <td>&lt;p&gt;I write Java servlets with SQL Server backe...</td>\n",
              "      <td>10</td>\n",
              "      <td>5</td>\n",
              "      <td>0</td>\n",
              "      <td>6477</td>\n",
              "    </tr>\n",
              "    <tr>\n",
              "      <th>268097</th>\n",
              "      <td>322212</td>\n",
              "      <td>111</td>\n",
              "      <td>2018-12-10T13:52:27.517</td>\n",
              "      <td>Jan Peter</td>\n",
              "      <td>Groningen, Netherlands</td>\n",
              "      <td>&lt;p&gt;Web developer concentrating on AngularJS, A...</td>\n",
              "      <td>0</td>\n",
              "      <td>0</td>\n",
              "      <td>0</td>\n",
              "      <td>1145122</td>\n",
              "    </tr>\n",
              "    <tr>\n",
              "      <th>275983</th>\n",
              "      <td>331203</td>\n",
              "      <td>111</td>\n",
              "      <td>2019-03-18T02:01:51.040</td>\n",
              "      <td>rougou</td>\n",
              "      <td>-1</td>\n",
              "      <td>&lt;p&gt;&lt;strong&gt;My Favorite...&lt;/strong&gt;&lt;/p&gt;\\n\\n&lt;ul&gt;...</td>\n",
              "      <td>1</td>\n",
              "      <td>0</td>\n",
              "      <td>0</td>\n",
              "      <td>8609684</td>\n",
              "    </tr>\n",
              "    <tr>\n",
              "      <th>150036</th>\n",
              "      <td>191424</td>\n",
              "      <td>111</td>\n",
              "      <td>2015-08-10T17:33:37.870</td>\n",
              "      <td>KrunalParmar</td>\n",
              "      <td>Kharagpur, India</td>\n",
              "      <td>&lt;p&gt;Student at IIT Kharagpur M.tech Computer Sc...</td>\n",
              "      <td>3</td>\n",
              "      <td>0</td>\n",
              "      <td>0</td>\n",
              "      <td>3277430</td>\n",
              "    </tr>\n",
              "  </tbody>\n",
              "</table>\n",
              "<p>95 rows × 10 columns</p>\n",
              "</div>"
            ],
            "text/plain": [
              "            Id  Reputation             CreationDate     DisplayName  \\\n",
              "1156      1352       95315  2010-09-11T23:46:09.743   Jörg W Mittag   \n",
              "62          66       13048  2010-09-01T20:22:47.367           TheLQ   \n",
              "31290    38223        8397  2011-10-07T16:04:27.377  Madara's Ghost   \n",
              "72605    90149        4457  2013-05-05T12:58:49.073    BobDalgleish   \n",
              "63946    79256        3180  2013-01-23T11:25:22.697    RemcoGerlich   \n",
              "...        ...         ...                      ...             ...   \n",
              "44148    52807         111  2012-04-26T19:29:01.280       ianpojman   \n",
              "26848    33202         111  2011-08-02T18:19:11.177         easeout   \n",
              "268097  322212         111  2018-12-10T13:52:27.517       Jan Peter   \n",
              "275983  331203         111  2019-03-18T02:01:51.040          rougou   \n",
              "150036  191424         111  2015-08-10T17:33:37.870    KrunalParmar   \n",
              "\n",
              "                      Location  \\\n",
              "1156        Karlsruhe, Germany   \n",
              "62               United States   \n",
              "31290                   Israel   \n",
              "72605                       -1   \n",
              "63946      Arnhem, Netherlands   \n",
              "...                        ...   \n",
              "44148                       -1   \n",
              "26848            United States   \n",
              "268097  Groningen, Netherlands   \n",
              "275983                      -1   \n",
              "150036        Kharagpur, India   \n",
              "\n",
              "                                                  AboutMe  Views  UpVotes  \\\n",
              "1156    <p>Not a software developer in the sense that ...   8856      499   \n",
              "62      <p>I write stuff</p>\\n\\n<p><strong>Languages:<...   1029     1582   \n",
              "31290   <p>I have resigned and will no longer be avail...   1141       44   \n",
              "72605   <p>I am an experienced developer, in many lang...    331      290   \n",
              "63946   <p>All-round software developer with 15 years ...    171      136   \n",
              "...                                                   ...    ...      ...   \n",
              "44148                       <p>Java/Scala developer</p>\\n      3        0   \n",
              "26848   <p>I write Java servlets with SQL Server backe...     10        5   \n",
              "268097  <p>Web developer concentrating on AngularJS, A...      0        0   \n",
              "275983  <p><strong>My Favorite...</strong></p>\\n\\n<ul>...      1        0   \n",
              "150036  <p>Student at IIT Kharagpur M.tech Computer Sc...      3        0   \n",
              "\n",
              "        DownVotes  AccountId  \n",
              "1156        14091       2172  \n",
              "62            140     137942  \n",
              "31290           3     466356  \n",
              "72605          82    1288640  \n",
              "63946          14     421112  \n",
              "...           ...        ...  \n",
              "44148           0    1416578  \n",
              "26848           0       6477  \n",
              "268097          0    1145122  \n",
              "275983          0    8609684  \n",
              "150036          0    3277430  \n",
              "\n",
              "[95 rows x 10 columns]"
            ]
          },
          "execution_count": 727,
          "metadata": {},
          "output_type": "execute_result"
        }
      ],
      "source": [
        "pd_user_posts_dict['users']"
      ]
    },
    {
      "cell_type": "code",
      "execution_count": null,
      "metadata": {
        "id": "cNiUf6c7wTqp"
      },
      "outputs": [],
      "source": [
        "combined = pd_user_posts_dict['users'].merge(pd_user_posts_dict['posts'], left_on=\"Id\", right_on=\"OwnerUserId\")"
      ]
    },
    {
      "cell_type": "code",
      "execution_count": null,
      "metadata": {
        "colab": {
          "base_uri": "https://localhost:8080/",
          "height": 1000
        },
        "id": "jgnCkom61OD_",
        "outputId": "a8aa9abd-662c-4f19-d0a1-bebd4c6bff98"
      },
      "outputs": [
        {
          "data": {
            "text/html": [
              "<div>\n",
              "<style scoped>\n",
              "    .dataframe tbody tr th:only-of-type {\n",
              "        vertical-align: middle;\n",
              "    }\n",
              "\n",
              "    .dataframe tbody tr th {\n",
              "        vertical-align: top;\n",
              "    }\n",
              "\n",
              "    .dataframe thead th {\n",
              "        text-align: right;\n",
              "    }\n",
              "</style>\n",
              "<table border=\"1\" class=\"dataframe\">\n",
              "  <thead>\n",
              "    <tr style=\"text-align: right;\">\n",
              "      <th></th>\n",
              "      <th>Id</th>\n",
              "      <th>Reputation</th>\n",
              "      <th>CreationDate_x</th>\n",
              "      <th>DisplayName</th>\n",
              "      <th>Location</th>\n",
              "      <th>AboutMe</th>\n",
              "      <th>Views</th>\n",
              "      <th>UpVotes</th>\n",
              "      <th>DownVotes</th>\n",
              "      <th>AccountId</th>\n",
              "      <th>...</th>\n",
              "      <th>Tags</th>\n",
              "      <th>AnswerCount</th>\n",
              "      <th>CommentCount</th>\n",
              "      <th>FavoriteCount</th>\n",
              "      <th>ClosedDate</th>\n",
              "      <th>CommunityOwnedDate</th>\n",
              "      <th>ContentLicense</th>\n",
              "      <th>ParentId</th>\n",
              "      <th>OwnerDisplayName</th>\n",
              "      <th>LastEditorDisplayName</th>\n",
              "    </tr>\n",
              "  </thead>\n",
              "  <tbody>\n",
              "    <tr>\n",
              "      <th>0</th>\n",
              "      <td>1352</td>\n",
              "      <td>95315</td>\n",
              "      <td>2010-09-11T23:46:09.743</td>\n",
              "      <td>Jörg W Mittag</td>\n",
              "      <td>Karlsruhe, Germany</td>\n",
              "      <td>&lt;p&gt;Not a software developer in the sense that ...</td>\n",
              "      <td>8856</td>\n",
              "      <td>499</td>\n",
              "      <td>14091</td>\n",
              "      <td>2172</td>\n",
              "      <td>...</td>\n",
              "      <td>-1</td>\n",
              "      <td>-1</td>\n",
              "      <td>2</td>\n",
              "      <td>-1</td>\n",
              "      <td>-1</td>\n",
              "      <td>2011-03-07T21:04:52.237</td>\n",
              "      <td>CC BY-SA 2.5</td>\n",
              "      <td>940</td>\n",
              "      <td>-1</td>\n",
              "      <td>-1</td>\n",
              "    </tr>\n",
              "    <tr>\n",
              "      <th>1</th>\n",
              "      <td>1352</td>\n",
              "      <td>95315</td>\n",
              "      <td>2010-09-11T23:46:09.743</td>\n",
              "      <td>Jörg W Mittag</td>\n",
              "      <td>Karlsruhe, Germany</td>\n",
              "      <td>&lt;p&gt;Not a software developer in the sense that ...</td>\n",
              "      <td>8856</td>\n",
              "      <td>499</td>\n",
              "      <td>14091</td>\n",
              "      <td>2172</td>\n",
              "      <td>...</td>\n",
              "      <td>-1</td>\n",
              "      <td>-1</td>\n",
              "      <td>2</td>\n",
              "      <td>-1</td>\n",
              "      <td>-1</td>\n",
              "      <td>-1</td>\n",
              "      <td>CC BY-SA 2.5</td>\n",
              "      <td>10832</td>\n",
              "      <td>-1</td>\n",
              "      <td>-1</td>\n",
              "    </tr>\n",
              "    <tr>\n",
              "      <th>2</th>\n",
              "      <td>1352</td>\n",
              "      <td>95315</td>\n",
              "      <td>2010-09-11T23:46:09.743</td>\n",
              "      <td>Jörg W Mittag</td>\n",
              "      <td>Karlsruhe, Germany</td>\n",
              "      <td>&lt;p&gt;Not a software developer in the sense that ...</td>\n",
              "      <td>8856</td>\n",
              "      <td>499</td>\n",
              "      <td>14091</td>\n",
              "      <td>2172</td>\n",
              "      <td>...</td>\n",
              "      <td>-1</td>\n",
              "      <td>-1</td>\n",
              "      <td>8</td>\n",
              "      <td>-1</td>\n",
              "      <td>-1</td>\n",
              "      <td>-1</td>\n",
              "      <td>CC BY-SA 2.5</td>\n",
              "      <td>18074</td>\n",
              "      <td>-1</td>\n",
              "      <td>-1</td>\n",
              "    </tr>\n",
              "    <tr>\n",
              "      <th>3</th>\n",
              "      <td>1352</td>\n",
              "      <td>95315</td>\n",
              "      <td>2010-09-11T23:46:09.743</td>\n",
              "      <td>Jörg W Mittag</td>\n",
              "      <td>Karlsruhe, Germany</td>\n",
              "      <td>&lt;p&gt;Not a software developer in the sense that ...</td>\n",
              "      <td>8856</td>\n",
              "      <td>499</td>\n",
              "      <td>14091</td>\n",
              "      <td>2172</td>\n",
              "      <td>...</td>\n",
              "      <td>-1</td>\n",
              "      <td>-1</td>\n",
              "      <td>0</td>\n",
              "      <td>-1</td>\n",
              "      <td>-1</td>\n",
              "      <td>-1</td>\n",
              "      <td>CC BY-SA 2.5</td>\n",
              "      <td>19158</td>\n",
              "      <td>-1</td>\n",
              "      <td>-1</td>\n",
              "    </tr>\n",
              "    <tr>\n",
              "      <th>4</th>\n",
              "      <td>1352</td>\n",
              "      <td>95315</td>\n",
              "      <td>2010-09-11T23:46:09.743</td>\n",
              "      <td>Jörg W Mittag</td>\n",
              "      <td>Karlsruhe, Germany</td>\n",
              "      <td>&lt;p&gt;Not a software developer in the sense that ...</td>\n",
              "      <td>8856</td>\n",
              "      <td>499</td>\n",
              "      <td>14091</td>\n",
              "      <td>2172</td>\n",
              "      <td>...</td>\n",
              "      <td>-1</td>\n",
              "      <td>-1</td>\n",
              "      <td>0</td>\n",
              "      <td>-1</td>\n",
              "      <td>-1</td>\n",
              "      <td>-1</td>\n",
              "      <td>CC BY-SA 2.5</td>\n",
              "      <td>19416</td>\n",
              "      <td>-1</td>\n",
              "      <td>-1</td>\n",
              "    </tr>\n",
              "    <tr>\n",
              "      <th>...</th>\n",
              "      <td>...</td>\n",
              "      <td>...</td>\n",
              "      <td>...</td>\n",
              "      <td>...</td>\n",
              "      <td>...</td>\n",
              "      <td>...</td>\n",
              "      <td>...</td>\n",
              "      <td>...</td>\n",
              "      <td>...</td>\n",
              "      <td>...</td>\n",
              "      <td>...</td>\n",
              "      <td>...</td>\n",
              "      <td>...</td>\n",
              "      <td>...</td>\n",
              "      <td>...</td>\n",
              "      <td>...</td>\n",
              "      <td>...</td>\n",
              "      <td>...</td>\n",
              "      <td>...</td>\n",
              "      <td>...</td>\n",
              "      <td>...</td>\n",
              "    </tr>\n",
              "    <tr>\n",
              "      <th>1628</th>\n",
              "      <td>33202</td>\n",
              "      <td>111</td>\n",
              "      <td>2011-08-02T18:19:11.177</td>\n",
              "      <td>easeout</td>\n",
              "      <td>United States</td>\n",
              "      <td>&lt;p&gt;I write Java servlets with SQL Server backe...</td>\n",
              "      <td>10</td>\n",
              "      <td>5</td>\n",
              "      <td>0</td>\n",
              "      <td>6477</td>\n",
              "      <td>...</td>\n",
              "      <td>-1</td>\n",
              "      <td>-1</td>\n",
              "      <td>0</td>\n",
              "      <td>-1</td>\n",
              "      <td>-1</td>\n",
              "      <td>2011-09-09T13:40:37.633</td>\n",
              "      <td>CC BY-SA 2.5</td>\n",
              "      <td>106980</td>\n",
              "      <td>Kevin Conner</td>\n",
              "      <td>-1</td>\n",
              "    </tr>\n",
              "    <tr>\n",
              "      <th>1629</th>\n",
              "      <td>33202</td>\n",
              "      <td>111</td>\n",
              "      <td>2011-08-02T18:19:11.177</td>\n",
              "      <td>easeout</td>\n",
              "      <td>United States</td>\n",
              "      <td>&lt;p&gt;I write Java servlets with SQL Server backe...</td>\n",
              "      <td>10</td>\n",
              "      <td>5</td>\n",
              "      <td>0</td>\n",
              "      <td>6477</td>\n",
              "      <td>...</td>\n",
              "      <td>-1</td>\n",
              "      <td>-1</td>\n",
              "      <td>1</td>\n",
              "      <td>-1</td>\n",
              "      <td>-1</td>\n",
              "      <td>2011-09-09T13:40:37.633</td>\n",
              "      <td>CC BY-SA 2.5</td>\n",
              "      <td>106980</td>\n",
              "      <td>Kevin Conner</td>\n",
              "      <td>-1</td>\n",
              "    </tr>\n",
              "    <tr>\n",
              "      <th>1630</th>\n",
              "      <td>322212</td>\n",
              "      <td>111</td>\n",
              "      <td>2018-12-10T13:52:27.517</td>\n",
              "      <td>Jan Peter</td>\n",
              "      <td>Groningen, Netherlands</td>\n",
              "      <td>&lt;p&gt;Web developer concentrating on AngularJS, A...</td>\n",
              "      <td>0</td>\n",
              "      <td>0</td>\n",
              "      <td>0</td>\n",
              "      <td>1145122</td>\n",
              "      <td>...</td>\n",
              "      <td>-1</td>\n",
              "      <td>-1</td>\n",
              "      <td>0</td>\n",
              "      <td>-1</td>\n",
              "      <td>-1</td>\n",
              "      <td>-1</td>\n",
              "      <td>CC BY-SA 4.0</td>\n",
              "      <td>366369</td>\n",
              "      <td>-1</td>\n",
              "      <td>-1</td>\n",
              "    </tr>\n",
              "    <tr>\n",
              "      <th>1631</th>\n",
              "      <td>331203</td>\n",
              "      <td>111</td>\n",
              "      <td>2019-03-18T02:01:51.040</td>\n",
              "      <td>rougou</td>\n",
              "      <td>-1</td>\n",
              "      <td>&lt;p&gt;&lt;strong&gt;My Favorite...&lt;/strong&gt;&lt;/p&gt;\\n\\n&lt;ul&gt;...</td>\n",
              "      <td>1</td>\n",
              "      <td>0</td>\n",
              "      <td>0</td>\n",
              "      <td>8609684</td>\n",
              "      <td>...</td>\n",
              "      <td>-1</td>\n",
              "      <td>-1</td>\n",
              "      <td>0</td>\n",
              "      <td>-1</td>\n",
              "      <td>-1</td>\n",
              "      <td>-1</td>\n",
              "      <td>CC BY-SA 4.0</td>\n",
              "      <td>386136</td>\n",
              "      <td>-1</td>\n",
              "      <td>-1</td>\n",
              "    </tr>\n",
              "    <tr>\n",
              "      <th>1632</th>\n",
              "      <td>191424</td>\n",
              "      <td>111</td>\n",
              "      <td>2015-08-10T17:33:37.870</td>\n",
              "      <td>KrunalParmar</td>\n",
              "      <td>Kharagpur, India</td>\n",
              "      <td>&lt;p&gt;Student at IIT Kharagpur M.tech Computer Sc...</td>\n",
              "      <td>3</td>\n",
              "      <td>0</td>\n",
              "      <td>0</td>\n",
              "      <td>3277430</td>\n",
              "      <td>...</td>\n",
              "      <td>-1</td>\n",
              "      <td>-1</td>\n",
              "      <td>0</td>\n",
              "      <td>-1</td>\n",
              "      <td>-1</td>\n",
              "      <td>-1</td>\n",
              "      <td>CC BY-SA 3.0</td>\n",
              "      <td>291358</td>\n",
              "      <td>-1</td>\n",
              "      <td>-1</td>\n",
              "    </tr>\n",
              "  </tbody>\n",
              "</table>\n",
              "<p>1633 rows × 29 columns</p>\n",
              "</div>"
            ],
            "text/plain": [
              "          Id  Reputation           CreationDate_x    DisplayName  \\\n",
              "0       1352       95315  2010-09-11T23:46:09.743  Jörg W Mittag   \n",
              "1       1352       95315  2010-09-11T23:46:09.743  Jörg W Mittag   \n",
              "2       1352       95315  2010-09-11T23:46:09.743  Jörg W Mittag   \n",
              "3       1352       95315  2010-09-11T23:46:09.743  Jörg W Mittag   \n",
              "4       1352       95315  2010-09-11T23:46:09.743  Jörg W Mittag   \n",
              "...      ...         ...                      ...            ...   \n",
              "1628   33202         111  2011-08-02T18:19:11.177        easeout   \n",
              "1629   33202         111  2011-08-02T18:19:11.177        easeout   \n",
              "1630  322212         111  2018-12-10T13:52:27.517      Jan Peter   \n",
              "1631  331203         111  2019-03-18T02:01:51.040         rougou   \n",
              "1632  191424         111  2015-08-10T17:33:37.870   KrunalParmar   \n",
              "\n",
              "                    Location  \\\n",
              "0         Karlsruhe, Germany   \n",
              "1         Karlsruhe, Germany   \n",
              "2         Karlsruhe, Germany   \n",
              "3         Karlsruhe, Germany   \n",
              "4         Karlsruhe, Germany   \n",
              "...                      ...   \n",
              "1628           United States   \n",
              "1629           United States   \n",
              "1630  Groningen, Netherlands   \n",
              "1631                      -1   \n",
              "1632        Kharagpur, India   \n",
              "\n",
              "                                                AboutMe  Views  UpVotes  \\\n",
              "0     <p>Not a software developer in the sense that ...   8856      499   \n",
              "1     <p>Not a software developer in the sense that ...   8856      499   \n",
              "2     <p>Not a software developer in the sense that ...   8856      499   \n",
              "3     <p>Not a software developer in the sense that ...   8856      499   \n",
              "4     <p>Not a software developer in the sense that ...   8856      499   \n",
              "...                                                 ...    ...      ...   \n",
              "1628  <p>I write Java servlets with SQL Server backe...     10        5   \n",
              "1629  <p>I write Java servlets with SQL Server backe...     10        5   \n",
              "1630  <p>Web developer concentrating on AngularJS, A...      0        0   \n",
              "1631  <p><strong>My Favorite...</strong></p>\\n\\n<ul>...      1        0   \n",
              "1632  <p>Student at IIT Kharagpur M.tech Computer Sc...      3        0   \n",
              "\n",
              "      DownVotes  AccountId  ...  Tags  AnswerCount  CommentCount  \\\n",
              "0         14091       2172  ...    -1           -1             2   \n",
              "1         14091       2172  ...    -1           -1             2   \n",
              "2         14091       2172  ...    -1           -1             8   \n",
              "3         14091       2172  ...    -1           -1             0   \n",
              "4         14091       2172  ...    -1           -1             0   \n",
              "...         ...        ...  ...   ...          ...           ...   \n",
              "1628          0       6477  ...    -1           -1             0   \n",
              "1629          0       6477  ...    -1           -1             1   \n",
              "1630          0    1145122  ...    -1           -1             0   \n",
              "1631          0    8609684  ...    -1           -1             0   \n",
              "1632          0    3277430  ...    -1           -1             0   \n",
              "\n",
              "     FavoriteCount  ClosedDate       CommunityOwnedDate ContentLicense  \\\n",
              "0               -1          -1  2011-03-07T21:04:52.237   CC BY-SA 2.5   \n",
              "1               -1          -1                       -1   CC BY-SA 2.5   \n",
              "2               -1          -1                       -1   CC BY-SA 2.5   \n",
              "3               -1          -1                       -1   CC BY-SA 2.5   \n",
              "4               -1          -1                       -1   CC BY-SA 2.5   \n",
              "...            ...         ...                      ...            ...   \n",
              "1628            -1          -1  2011-09-09T13:40:37.633   CC BY-SA 2.5   \n",
              "1629            -1          -1  2011-09-09T13:40:37.633   CC BY-SA 2.5   \n",
              "1630            -1          -1                       -1   CC BY-SA 4.0   \n",
              "1631            -1          -1                       -1   CC BY-SA 4.0   \n",
              "1632            -1          -1                       -1   CC BY-SA 3.0   \n",
              "\n",
              "      ParentId OwnerDisplayName LastEditorDisplayName  \n",
              "0          940               -1                    -1  \n",
              "1        10832               -1                    -1  \n",
              "2        18074               -1                    -1  \n",
              "3        19158               -1                    -1  \n",
              "4        19416               -1                    -1  \n",
              "...        ...              ...                   ...  \n",
              "1628    106980     Kevin Conner                    -1  \n",
              "1629    106980     Kevin Conner                    -1  \n",
              "1630    366369               -1                    -1  \n",
              "1631    386136               -1                    -1  \n",
              "1632    291358               -1                    -1  \n",
              "\n",
              "[1633 rows x 29 columns]"
            ]
          },
          "execution_count": 729,
          "metadata": {},
          "output_type": "execute_result"
        }
      ],
      "source": [
        "combined"
      ]
    },
    {
      "cell_type": "code",
      "execution_count": null,
      "metadata": {
        "colab": {
          "base_uri": "https://localhost:8080/"
        },
        "id": "e9fId45V2AUu",
        "outputId": "6b44823d-c375-45d7-f72f-cbe626d9b789"
      },
      "outputs": [
        {
          "data": {
            "text/plain": [
              "Index(['Id', 'Reputation', 'CreationDate_x', 'DisplayName', 'Location',\n",
              "       'AboutMe', 'Views', 'UpVotes', 'DownVotes', 'AccountId', 'PostId',\n",
              "       'PostTypeId', 'AcceptedAnswerId', 'CreationDate_y', 'Score',\n",
              "       'ViewCount', 'Body', 'OwnerUserId', 'Title', 'Tags', 'AnswerCount',\n",
              "       'CommentCount', 'FavoriteCount', 'ClosedDate', 'CommunityOwnedDate',\n",
              "       'ContentLicense', 'ParentId', 'OwnerDisplayName',\n",
              "       'LastEditorDisplayName'],\n",
              "      dtype='object')"
            ]
          },
          "execution_count": 730,
          "metadata": {},
          "output_type": "execute_result"
        }
      ],
      "source": [
        "combined.loc[combined['Id'] == 1352].columns"
      ]
    },
    {
      "cell_type": "code",
      "execution_count": null,
      "metadata": {
        "id": "REmD0AQm7yfz"
      },
      "outputs": [],
      "source": [
        "sub_df_answers = combined.loc[combined['PostTypeId'] == 2, ['Id', 'PostId', 'Body']]"
      ]
    },
    {
      "cell_type": "code",
      "execution_count": null,
      "metadata": {},
      "outputs": [
        {
          "data": {
            "text/plain": [
              "'<p>There are two kinds of private code: private code that gets called by public code (or private code that gets called by private code that gets called by public code (or ...)) and private code that <em>does</em> not eventually get called by public code.</p>\\n\\n<p>The former already gets tested through the tests for the public code. The latter cannot be called <em>at all</em> and thus should be deleted, not tested.</p>\\n\\n<p>Note that when you do TDD it is impossible for untested private code to exist.</p>\\n'"
            ]
          },
          "execution_count": 732,
          "metadata": {},
          "output_type": "execute_result"
        }
      ],
      "source": [
        "sub_df_answers.iloc[1]['Body']"
      ]
    },
    {
      "cell_type": "code",
      "execution_count": null,
      "metadata": {
        "id": "CErHcJtD89cP"
      },
      "outputs": [],
      "source": [
        "# !cp -r \"drive/MyDrive/Colab Notebooks/python_modules/parsing_module/parsing\" /content"
      ]
    },
    {
      "cell_type": "code",
      "execution_count": null,
      "metadata": {
        "colab": {
          "base_uri": "https://localhost:8080/"
        },
        "id": "AcwdK2vz9SKi",
        "outputId": "fcf0f0d0-af58-403f-9e3b-1650f8bc97fc"
      },
      "outputs": [],
      "source": [
        "from parsing import user_parsing, dep_parsing_module as dpm\n",
        "from parsing.preprocessing import user_preprocessing"
      ]
    },
    {
      "cell_type": "code",
      "execution_count": null,
      "metadata": {
        "id": "nyZiP3AICVc_"
      },
      "outputs": [],
      "source": [
        "tags_pattern = re.compile(r\"<.*?>\")"
      ]
    },
    {
      "cell_type": "code",
      "execution_count": null,
      "metadata": {
        "id": "6KVrhkmRAi2_"
      },
      "outputs": [],
      "source": [
        "# !rm -rf parsing"
      ]
    },
    {
      "cell_type": "code",
      "execution_count": null,
      "metadata": {
        "id": "qQka2s-E9VUP"
      },
      "outputs": [],
      "source": [
        "sub_df_answers['Body'] = sub_df_answers['Body'].apply(lambda x: re.sub(tags_pattern, \"\", x))"
      ]
    },
    {
      "cell_type": "code",
      "execution_count": null,
      "metadata": {},
      "outputs": [],
      "source": [
        "values_to_remove = [611, 1352, 2314, 3249, 4603, 11200, 14221, 3922, 19697, 24912]"
      ]
    },
    {
      "cell_type": "code",
      "execution_count": null,
      "metadata": {},
      "outputs": [
        {
          "name": "stdout",
          "output_type": "stream",
          "text": [
            "[1352, 3922, 19697, 24912]\n"
          ]
        }
      ],
      "source": [
        "custom_vals_to_remove = [val for val in values_to_remove if val in id_list]\n",
        "\n",
        "print(custom_vals_to_remove)\n",
        "\n",
        "# for val in values_to_remove:\n",
        "#     print(val in id_list)"
      ]
    },
    {
      "cell_type": "code",
      "execution_count": null,
      "metadata": {},
      "outputs": [],
      "source": [
        "def remove_val(given_list, value_list):\n",
        "    # Traverse the value list\n",
        "    for value in value_list:\n",
        "       # using while loop to remove all occurrences of given value\n",
        "        while(value in given_list):\n",
        "            # removing the value using remove()\n",
        "            given_list.remove(value)\n",
        "           # return the list\n",
        "    return given_list"
      ]
    },
    {
      "cell_type": "code",
      "execution_count": null,
      "metadata": {},
      "outputs": [
        {
          "data": {
            "text/plain": [
              "[1352, 3922, 19697, 24912]"
            ]
          },
          "execution_count": 741,
          "metadata": {},
          "output_type": "execute_result"
        }
      ],
      "source": [
        "custom_vals_to_remove"
      ]
    },
    {
      "cell_type": "code",
      "execution_count": null,
      "metadata": {},
      "outputs": [
        {
          "data": {
            "text/plain": [
              "True"
            ]
          },
          "execution_count": 742,
          "metadata": {},
          "output_type": "execute_result"
        }
      ],
      "source": [
        "24912 in id_list"
      ]
    },
    {
      "cell_type": "code",
      "execution_count": null,
      "metadata": {
        "colab": {
          "base_uri": "https://localhost:8080/"
        },
        "id": "Jffg-azOeRoW",
        "outputId": "fb878d5e-7e55-4554-ad26-9877c8b6f419"
      },
      "outputs": [],
      "source": [
        "id_list = remove_val(id_list, values_to_remove)"
      ]
    },
    {
      "cell_type": "code",
      "execution_count": null,
      "metadata": {},
      "outputs": [
        {
          "data": {
            "text/plain": [
              "91"
            ]
          },
          "execution_count": 744,
          "metadata": {},
          "output_type": "execute_result"
        }
      ],
      "source": [
        "len(id_list)"
      ]
    },
    {
      "cell_type": "code",
      "execution_count": null,
      "metadata": {
        "colab": {
          "base_uri": "https://localhost:8080/"
        },
        "id": "21mCFTaBFxAA",
        "outputId": "c0720cdd-996e-4039-fc8b-164492e8249e"
      },
      "outputs": [],
      "source": [
        "body_txt = sub_df_answers.loc[sub_df_answers['Id'] == 36049]['Body']"
      ]
    },
    {
      "cell_type": "code",
      "execution_count": null,
      "metadata": {},
      "outputs": [
        {
          "name": "stdout",
          "output_type": "stream",
          "text": [
            "Series([], Name: Body, dtype: object)\n"
          ]
        }
      ],
      "source": [
        "print(body_txt)"
      ]
    },
    {
      "cell_type": "markdown",
      "metadata": {},
      "source": [
        "Setting paths to the dependency parser"
      ]
    },
    {
      "cell_type": "code",
      "execution_count": null,
      "metadata": {},
      "outputs": [],
      "source": [
        "dpm.jar_path = \"D:/Skola/Skola-ing/DP/data/StackExchange/dependency_parser/stanford-corenlp-4.2.2/stanford-corenlp-4.2.2.jar\"\n",
        "dpm.models_jar_path = \"D:/Skola/Skola-ing/DP/data/StackExchange/dependency_parser/stanford-corenlp-4.2.2-models-english.jar\""
      ]
    },
    {
      "cell_type": "code",
      "execution_count": null,
      "metadata": {
        "id": "dM_Y8qQxCuz0"
      },
      "outputs": [],
      "source": [
        "root_dir = \"D:/Skola/Skola-ing/DP/data/parsed_data/acm_users/answers/userId\"\n",
        "\n",
        "def execute_user_parsing(dir_path, id_list, answer_df):\n",
        "  for user_id in id_list:\n",
        "      print(f\"User id is : {user_id}\")\n",
        "      \n",
        "      if not os.path.exists(dir_path + str(user_id)):\n",
        "          os.mkdir(dir_path + str(user_id))\n",
        "          time.sleep(5)\n",
        "      \n",
        "      # print(dir_path + str(user_id))\n",
        "\n",
        "      local_user_df = answer_df.loc[answer_df['Id'] == user_id, ['PostId', 'Body']]\n",
        "\n",
        "      print(f\"Processing \\\"{len(local_user_df)}\\\" answers ...\")\n",
        "\n",
        "      local_dict = dict(zip(list(local_user_df['PostId'].astype(str)), list(local_user_df['Body'])))\n",
        "      user_preprocessing.preproces_questions_into_tokens(local_dict)\n",
        "      \n",
        "      post_list = user_preprocessing.get_list_of_posts(local_dict)\n",
        "\n",
        "      with multiprocessing.Pool(multiprocessing.cpu_count()) as exec:\n",
        "        processes = []\n",
        "        sub_post_list = [post_list[n:n+4] for n in range(0, len(post_list), 4)]\n",
        "        for sub_post in tqdm.tqdm(sub_post_list):\n",
        "            # args = [(local_dict[key], key, dpm.basic_pos_relations, dir_path + str(user_id)) for key in sub_post]\n",
        "            # print(args[0])\n",
        "            # exec.starmap(dpm.parse_section, args)\n",
        "            for key in sub_post:\n",
        "              dpm.parse_section(local_dict[key], key, dpm.basic_pos_relations, dir_path + str(user_id))\n",
        "            #   # print(f\"key is : {key}\")\n",
        "            #   # print(local_dict[key])\n",
        "            #   # print(dpm.basic_pos_relations)\n",
        "            #   # exec.submit(dpm.parse_section, *(local_dict[key], key, dpm.basic_pos_relations, dir_path + str(user_id)))  \n",
        "            #   p = multiprocessing.Process(target=dpm.parse_section, args=[local_dict[key], key, dpm.basic_pos_relations, dir_path + str(user_id)]) \n",
        "            #   p.start()\n",
        "            #   processes.append(p)\n",
        "            # for process in processes:\n",
        "            #     process.join()          \n",
        "                          "
      ]
    },
    {
      "cell_type": "code",
      "execution_count": null,
      "metadata": {
        "colab": {
          "base_uri": "https://localhost:8080/"
        },
        "id": "6XoWCuOUJo5b",
        "outputId": "d9e012b0-7eb1-45a1-cd24-8359765764e0"
      },
      "outputs": [],
      "source": [
        "# execute_user_parsing(root_dir, id_list[30:], sub_df_answers)"
      ]
    },
    {
      "cell_type": "markdown",
      "metadata": {},
      "source": [
        "## Processing & parsing the accepted answers"
      ]
    },
    {
      "cell_type": "code",
      "execution_count": null,
      "metadata": {},
      "outputs": [
        {
          "data": {
            "text/plain": [
              "34661"
            ]
          },
          "execution_count": 750,
          "metadata": {},
          "output_type": "execute_result"
        }
      ],
      "source": [
        "pd_accepted_q = pd_whole_dict['posts'].loc[pd_whole_dict['posts']['AcceptedAnswerId'] >= 0].copy()\n",
        "len(pd_accepted_q)"
      ]
    },
    {
      "cell_type": "code",
      "execution_count": null,
      "metadata": {},
      "outputs": [
        {
          "data": {
            "text/html": [
              "<div>\n",
              "<style scoped>\n",
              "    .dataframe tbody tr th:only-of-type {\n",
              "        vertical-align: middle;\n",
              "    }\n",
              "\n",
              "    .dataframe tbody tr th {\n",
              "        vertical-align: top;\n",
              "    }\n",
              "\n",
              "    .dataframe thead th {\n",
              "        text-align: right;\n",
              "    }\n",
              "</style>\n",
              "<table border=\"1\" class=\"dataframe\">\n",
              "  <thead>\n",
              "    <tr style=\"text-align: right;\">\n",
              "      <th></th>\n",
              "      <th>PostId</th>\n",
              "      <th>PostTypeId</th>\n",
              "      <th>AcceptedAnswerId</th>\n",
              "      <th>CreationDate</th>\n",
              "      <th>Score</th>\n",
              "      <th>ViewCount</th>\n",
              "      <th>Body</th>\n",
              "      <th>OwnerUserId</th>\n",
              "      <th>Title</th>\n",
              "      <th>Tags</th>\n",
              "      <th>AnswerCount</th>\n",
              "      <th>CommentCount</th>\n",
              "      <th>FavoriteCount</th>\n",
              "      <th>ClosedDate</th>\n",
              "      <th>CommunityOwnedDate</th>\n",
              "      <th>ContentLicense</th>\n",
              "      <th>ParentId</th>\n",
              "      <th>OwnerDisplayName</th>\n",
              "      <th>LastEditorDisplayName</th>\n",
              "    </tr>\n",
              "  </thead>\n",
              "  <tbody>\n",
              "    <tr>\n",
              "      <th>0</th>\n",
              "      <td>1</td>\n",
              "      <td>1</td>\n",
              "      <td>13</td>\n",
              "      <td>2010-09-01T19:34:48.000</td>\n",
              "      <td>100</td>\n",
              "      <td>58142</td>\n",
              "      <td>&lt;p&gt;A coworker of mine believes that &lt;em&gt;any&lt;/e...</td>\n",
              "      <td>6</td>\n",
              "      <td>\"Comments are a code smell\"</td>\n",
              "      <td>&lt;comments&gt;&lt;anti-patterns&gt;</td>\n",
              "      <td>34</td>\n",
              "      <td>10</td>\n",
              "      <td>76</td>\n",
              "      <td>2012-11-27T20:11:51.580</td>\n",
              "      <td>2011-01-31T09:04:54.130</td>\n",
              "      <td>CC BY-SA 2.5</td>\n",
              "      <td>-1</td>\n",
              "      <td>-1</td>\n",
              "      <td>-1</td>\n",
              "    </tr>\n",
              "    <tr>\n",
              "      <th>2</th>\n",
              "      <td>4</td>\n",
              "      <td>1</td>\n",
              "      <td>26</td>\n",
              "      <td>2010-09-01T19:37:39.957</td>\n",
              "      <td>66</td>\n",
              "      <td>9565</td>\n",
              "      <td>&lt;p&gt;When starting a project for a company that'...</td>\n",
              "      <td>-1</td>\n",
              "      <td>Getting non-programmers to understand the deve...</td>\n",
              "      <td>&lt;business&gt;&lt;project-management&gt;&lt;development-pro...</td>\n",
              "      <td>12</td>\n",
              "      <td>2</td>\n",
              "      <td>34</td>\n",
              "      <td>-1</td>\n",
              "      <td>-1</td>\n",
              "      <td>CC BY-SA 2.5</td>\n",
              "      <td>-1</td>\n",
              "      <td>user8</td>\n",
              "      <td>user8</td>\n",
              "    </tr>\n",
              "    <tr>\n",
              "      <th>7</th>\n",
              "      <td>16</td>\n",
              "      <td>1</td>\n",
              "      <td>3675</td>\n",
              "      <td>2010-09-01T19:46:45.303</td>\n",
              "      <td>35</td>\n",
              "      <td>7372</td>\n",
              "      <td>&lt;p&gt;I have read a few articles on Internet abou...</td>\n",
              "      <td>18</td>\n",
              "      <td>Do dynamic typed languages deserve all the cri...</td>\n",
              "      <td>&lt;programming-languages&gt;&lt;dynamic-typing&gt;&lt;static...</td>\n",
              "      <td>9</td>\n",
              "      <td>9</td>\n",
              "      <td>16</td>\n",
              "      <td>2013-02-20T21:50:27.170</td>\n",
              "      <td>-1</td>\n",
              "      <td>CC BY-SA 3.0</td>\n",
              "      <td>-1</td>\n",
              "      <td>-1</td>\n",
              "      <td>-1</td>\n",
              "    </tr>\n",
              "    <tr>\n",
              "      <th>8</th>\n",
              "      <td>18</td>\n",
              "      <td>1</td>\n",
              "      <td>25</td>\n",
              "      <td>2010-09-01T19:47:11.323</td>\n",
              "      <td>7</td>\n",
              "      <td>694</td>\n",
              "      <td>&lt;p&gt;At first glance, I'd say a good programming...</td>\n",
              "      <td>9</td>\n",
              "      <td>Which (programming) specialities are needed in...</td>\n",
              "      <td>&lt;team&gt;&lt;web-development&gt;</td>\n",
              "      <td>4</td>\n",
              "      <td>0</td>\n",
              "      <td>3</td>\n",
              "      <td>2013-08-02T14:29:15.503</td>\n",
              "      <td>-1</td>\n",
              "      <td>CC BY-SA 2.5</td>\n",
              "      <td>-1</td>\n",
              "      <td>-1</td>\n",
              "      <td>-1</td>\n",
              "    </tr>\n",
              "    <tr>\n",
              "      <th>14</th>\n",
              "      <td>38</td>\n",
              "      <td>1</td>\n",
              "      <td>54</td>\n",
              "      <td>2010-09-01T19:57:03.197</td>\n",
              "      <td>9</td>\n",
              "      <td>594</td>\n",
              "      <td>&lt;p&gt;Where waterfall commonly includes:&lt;/p&gt;\\n\\n&lt;...</td>\n",
              "      <td>9</td>\n",
              "      <td>How much effort should be put in each part of ...</td>\n",
              "      <td>&lt;project-management&gt;&lt;waterfall&gt;</td>\n",
              "      <td>2</td>\n",
              "      <td>0</td>\n",
              "      <td>0</td>\n",
              "      <td>-1</td>\n",
              "      <td>-1</td>\n",
              "      <td>CC BY-SA 2.5</td>\n",
              "      <td>-1</td>\n",
              "      <td>-1</td>\n",
              "      <td>-1</td>\n",
              "    </tr>\n",
              "    <tr>\n",
              "      <th>...</th>\n",
              "      <td>...</td>\n",
              "      <td>...</td>\n",
              "      <td>...</td>\n",
              "      <td>...</td>\n",
              "      <td>...</td>\n",
              "      <td>...</td>\n",
              "      <td>...</td>\n",
              "      <td>...</td>\n",
              "      <td>...</td>\n",
              "      <td>...</td>\n",
              "      <td>...</td>\n",
              "      <td>...</td>\n",
              "      <td>...</td>\n",
              "      <td>...</td>\n",
              "      <td>...</td>\n",
              "      <td>...</td>\n",
              "      <td>...</td>\n",
              "      <td>...</td>\n",
              "      <td>...</td>\n",
              "    </tr>\n",
              "    <tr>\n",
              "      <th>232157</th>\n",
              "      <td>431559</td>\n",
              "      <td>1</td>\n",
              "      <td>431561</td>\n",
              "      <td>2021-09-01T01:22:37.640</td>\n",
              "      <td>17</td>\n",
              "      <td>2038</td>\n",
              "      <td>&lt;p&gt;Suppose I'm building a web application usin...</td>\n",
              "      <td>29231</td>\n",
              "      <td>How do you test and demonstrate that you have ...</td>\n",
              "      <td>&lt;testing&gt;&lt;multithreading&gt;&lt;concurrency&gt;</td>\n",
              "      <td>3</td>\n",
              "      <td>6</td>\n",
              "      <td>2</td>\n",
              "      <td>2021-09-01T17:49:20.140</td>\n",
              "      <td>-1</td>\n",
              "      <td>CC BY-SA 4.0</td>\n",
              "      <td>-1</td>\n",
              "      <td>-1</td>\n",
              "      <td>-1</td>\n",
              "    </tr>\n",
              "    <tr>\n",
              "      <th>232175</th>\n",
              "      <td>431579</td>\n",
              "      <td>1</td>\n",
              "      <td>431581</td>\n",
              "      <td>2021-09-01T19:24:09.113</td>\n",
              "      <td>0</td>\n",
              "      <td>78</td>\n",
              "      <td>&lt;p&gt;I've been running into a common pattern whe...</td>\n",
              "      <td>343245</td>\n",
              "      <td>How to combine data from multiple sources into...</td>\n",
              "      <td>&lt;design&gt;&lt;java&gt;&lt;design-patterns&gt;&lt;microservices&gt;</td>\n",
              "      <td>1</td>\n",
              "      <td>1</td>\n",
              "      <td>-1</td>\n",
              "      <td>-1</td>\n",
              "      <td>-1</td>\n",
              "      <td>CC BY-SA 4.0</td>\n",
              "      <td>-1</td>\n",
              "      <td>-1</td>\n",
              "      <td>-1</td>\n",
              "    </tr>\n",
              "    <tr>\n",
              "      <th>232192</th>\n",
              "      <td>431604</td>\n",
              "      <td>1</td>\n",
              "      <td>431606</td>\n",
              "      <td>2021-09-02T20:48:00.167</td>\n",
              "      <td>2</td>\n",
              "      <td>93</td>\n",
              "      <td>&lt;p&gt;I have been assigned a ticket to update all...</td>\n",
              "      <td>396556</td>\n",
              "      <td>Is there merit to keeping packages/dependencie...</td>\n",
              "      <td>&lt;node.js&gt;&lt;dependencies&gt;&lt;packages&gt;&lt;legacy-code&gt;</td>\n",
              "      <td>3</td>\n",
              "      <td>0</td>\n",
              "      <td>-1</td>\n",
              "      <td>-1</td>\n",
              "      <td>-1</td>\n",
              "      <td>CC BY-SA 4.0</td>\n",
              "      <td>-1</td>\n",
              "      <td>-1</td>\n",
              "      <td>-1</td>\n",
              "    </tr>\n",
              "    <tr>\n",
              "      <th>232195</th>\n",
              "      <td>431607</td>\n",
              "      <td>1</td>\n",
              "      <td>431609</td>\n",
              "      <td>2021-09-02T22:02:37.953</td>\n",
              "      <td>0</td>\n",
              "      <td>37</td>\n",
              "      <td>&lt;p&gt;I’m struggling a bit to design the followin...</td>\n",
              "      <td>374484</td>\n",
              "      <td>Design class with different dependency require...</td>\n",
              "      <td>&lt;design&gt;&lt;design-patterns&gt;&lt;object-oriented-desi...</td>\n",
              "      <td>1</td>\n",
              "      <td>0</td>\n",
              "      <td>-1</td>\n",
              "      <td>-1</td>\n",
              "      <td>-1</td>\n",
              "      <td>CC BY-SA 4.0</td>\n",
              "      <td>-1</td>\n",
              "      <td>-1</td>\n",
              "      <td>-1</td>\n",
              "    </tr>\n",
              "    <tr>\n",
              "      <th>232200</th>\n",
              "      <td>431613</td>\n",
              "      <td>1</td>\n",
              "      <td>431614</td>\n",
              "      <td>2021-09-02T23:07:03.497</td>\n",
              "      <td>0</td>\n",
              "      <td>158</td>\n",
              "      <td>&lt;p&gt;I am writing functional tests for my applic...</td>\n",
              "      <td>401100</td>\n",
              "      <td>How do I test a user receiving a text?</td>\n",
              "      <td>&lt;unit-testing&gt;&lt;functional-testing&gt;</td>\n",
              "      <td>1</td>\n",
              "      <td>4</td>\n",
              "      <td>-1</td>\n",
              "      <td>-1</td>\n",
              "      <td>-1</td>\n",
              "      <td>CC BY-SA 4.0</td>\n",
              "      <td>-1</td>\n",
              "      <td>-1</td>\n",
              "      <td>-1</td>\n",
              "    </tr>\n",
              "  </tbody>\n",
              "</table>\n",
              "<p>34661 rows × 19 columns</p>\n",
              "</div>"
            ],
            "text/plain": [
              "        PostId  PostTypeId  AcceptedAnswerId             CreationDate  Score  \\\n",
              "0            1           1                13  2010-09-01T19:34:48.000    100   \n",
              "2            4           1                26  2010-09-01T19:37:39.957     66   \n",
              "7           16           1              3675  2010-09-01T19:46:45.303     35   \n",
              "8           18           1                25  2010-09-01T19:47:11.323      7   \n",
              "14          38           1                54  2010-09-01T19:57:03.197      9   \n",
              "...        ...         ...               ...                      ...    ...   \n",
              "232157  431559           1            431561  2021-09-01T01:22:37.640     17   \n",
              "232175  431579           1            431581  2021-09-01T19:24:09.113      0   \n",
              "232192  431604           1            431606  2021-09-02T20:48:00.167      2   \n",
              "232195  431607           1            431609  2021-09-02T22:02:37.953      0   \n",
              "232200  431613           1            431614  2021-09-02T23:07:03.497      0   \n",
              "\n",
              "        ViewCount                                               Body  \\\n",
              "0           58142  <p>A coworker of mine believes that <em>any</e...   \n",
              "2            9565  <p>When starting a project for a company that'...   \n",
              "7            7372  <p>I have read a few articles on Internet abou...   \n",
              "8             694  <p>At first glance, I'd say a good programming...   \n",
              "14            594  <p>Where waterfall commonly includes:</p>\\n\\n<...   \n",
              "...           ...                                                ...   \n",
              "232157       2038  <p>Suppose I'm building a web application usin...   \n",
              "232175         78  <p>I've been running into a common pattern whe...   \n",
              "232192         93  <p>I have been assigned a ticket to update all...   \n",
              "232195         37  <p>I’m struggling a bit to design the followin...   \n",
              "232200        158  <p>I am writing functional tests for my applic...   \n",
              "\n",
              "        OwnerUserId                                              Title  \\\n",
              "0                 6                        \"Comments are a code smell\"   \n",
              "2                -1  Getting non-programmers to understand the deve...   \n",
              "7                18  Do dynamic typed languages deserve all the cri...   \n",
              "8                 9  Which (programming) specialities are needed in...   \n",
              "14                9  How much effort should be put in each part of ...   \n",
              "...             ...                                                ...   \n",
              "232157        29231  How do you test and demonstrate that you have ...   \n",
              "232175       343245  How to combine data from multiple sources into...   \n",
              "232192       396556  Is there merit to keeping packages/dependencie...   \n",
              "232195       374484  Design class with different dependency require...   \n",
              "232200       401100             How do I test a user receiving a text?   \n",
              "\n",
              "                                                     Tags  AnswerCount  \\\n",
              "0                               <comments><anti-patterns>           34   \n",
              "2       <business><project-management><development-pro...           12   \n",
              "7       <programming-languages><dynamic-typing><static...            9   \n",
              "8                                 <team><web-development>            4   \n",
              "14                        <project-management><waterfall>            2   \n",
              "...                                                   ...          ...   \n",
              "232157             <testing><multithreading><concurrency>            3   \n",
              "232175     <design><java><design-patterns><microservices>            1   \n",
              "232192     <node.js><dependencies><packages><legacy-code>            3   \n",
              "232195  <design><design-patterns><object-oriented-desi...            1   \n",
              "232200                 <unit-testing><functional-testing>            1   \n",
              "\n",
              "        CommentCount  FavoriteCount               ClosedDate  \\\n",
              "0                 10             76  2012-11-27T20:11:51.580   \n",
              "2                  2             34                       -1   \n",
              "7                  9             16  2013-02-20T21:50:27.170   \n",
              "8                  0              3  2013-08-02T14:29:15.503   \n",
              "14                 0              0                       -1   \n",
              "...              ...            ...                      ...   \n",
              "232157             6              2  2021-09-01T17:49:20.140   \n",
              "232175             1             -1                       -1   \n",
              "232192             0             -1                       -1   \n",
              "232195             0             -1                       -1   \n",
              "232200             4             -1                       -1   \n",
              "\n",
              "             CommunityOwnedDate ContentLicense  ParentId OwnerDisplayName  \\\n",
              "0       2011-01-31T09:04:54.130   CC BY-SA 2.5        -1               -1   \n",
              "2                            -1   CC BY-SA 2.5        -1            user8   \n",
              "7                            -1   CC BY-SA 3.0        -1               -1   \n",
              "8                            -1   CC BY-SA 2.5        -1               -1   \n",
              "14                           -1   CC BY-SA 2.5        -1               -1   \n",
              "...                         ...            ...       ...              ...   \n",
              "232157                       -1   CC BY-SA 4.0        -1               -1   \n",
              "232175                       -1   CC BY-SA 4.0        -1               -1   \n",
              "232192                       -1   CC BY-SA 4.0        -1               -1   \n",
              "232195                       -1   CC BY-SA 4.0        -1               -1   \n",
              "232200                       -1   CC BY-SA 4.0        -1               -1   \n",
              "\n",
              "       LastEditorDisplayName  \n",
              "0                         -1  \n",
              "2                      user8  \n",
              "7                         -1  \n",
              "8                         -1  \n",
              "14                        -1  \n",
              "...                      ...  \n",
              "232157                    -1  \n",
              "232175                    -1  \n",
              "232192                    -1  \n",
              "232195                    -1  \n",
              "232200                    -1  \n",
              "\n",
              "[34661 rows x 19 columns]"
            ]
          },
          "execution_count": 751,
          "metadata": {},
          "output_type": "execute_result"
        }
      ],
      "source": [
        "pd_accepted_q"
      ]
    },
    {
      "cell_type": "code",
      "execution_count": null,
      "metadata": {},
      "outputs": [
        {
          "data": {
            "text/plain": [
              "81"
            ]
          },
          "execution_count": 752,
          "metadata": {},
          "output_type": "execute_result"
        }
      ],
      "source": [
        "merged_accepted = pd_accepted_q.merge(pd_whole_dict['posts'], left_on=\"AcceptedAnswerId\", right_on=\"PostId\")\n",
        "del pd_accepted_q\n",
        "gc.collect()"
      ]
    },
    {
      "cell_type": "code",
      "execution_count": null,
      "metadata": {},
      "outputs": [
        {
          "data": {
            "text/plain": [
              "Index(['PostId_x', 'PostTypeId_x', 'AcceptedAnswerId_x', 'CreationDate_x',\n",
              "       'Score_x', 'ViewCount_x', 'Body_x', 'OwnerUserId_x', 'Title_x',\n",
              "       'Tags_x', 'AnswerCount_x', 'CommentCount_x', 'FavoriteCount_x',\n",
              "       'ClosedDate_x', 'CommunityOwnedDate_x', 'ContentLicense_x',\n",
              "       'ParentId_x', 'OwnerDisplayName_x', 'LastEditorDisplayName_x',\n",
              "       'PostId_y', 'PostTypeId_y', 'AcceptedAnswerId_y', 'CreationDate_y',\n",
              "       'Score_y', 'ViewCount_y', 'Body_y', 'OwnerUserId_y', 'Title_y',\n",
              "       'Tags_y', 'AnswerCount_y', 'CommentCount_y', 'FavoriteCount_y',\n",
              "       'ClosedDate_y', 'CommunityOwnedDate_y', 'ContentLicense_y',\n",
              "       'ParentId_y', 'OwnerDisplayName_y', 'LastEditorDisplayName_y'],\n",
              "      dtype='object')"
            ]
          },
          "execution_count": 753,
          "metadata": {},
          "output_type": "execute_result"
        }
      ],
      "source": [
        "merged_accepted.columns"
      ]
    },
    {
      "cell_type": "code",
      "execution_count": null,
      "metadata": {},
      "outputs": [],
      "source": [
        "# check if the question is associated with java\n",
        "def contains_java(df_row):\n",
        "    return True if \"<java>\" in df_row['Tags_x'] or re.search(r'\\bJAVA\\b', df_row['Title_x'], flags=re.IGNORECASE) or re.search(r'\\bJAVA\\b', df_row['Body_x'], flags=re.IGNORECASE) else False\n",
        "    "
      ]
    },
    {
      "cell_type": "code",
      "execution_count": null,
      "metadata": {},
      "outputs": [
        {
          "data": {
            "text/html": [
              "<div>\n",
              "<style scoped>\n",
              "    .dataframe tbody tr th:only-of-type {\n",
              "        vertical-align: middle;\n",
              "    }\n",
              "\n",
              "    .dataframe tbody tr th {\n",
              "        vertical-align: top;\n",
              "    }\n",
              "\n",
              "    .dataframe thead th {\n",
              "        text-align: right;\n",
              "    }\n",
              "</style>\n",
              "<table border=\"1\" class=\"dataframe\">\n",
              "  <thead>\n",
              "    <tr style=\"text-align: right;\">\n",
              "      <th></th>\n",
              "      <th>Tags_x</th>\n",
              "      <th>PostId_y</th>\n",
              "      <th>Body_y</th>\n",
              "      <th>OwnerUserId_y</th>\n",
              "      <th>PostTypeId_y</th>\n",
              "      <th>Score_x</th>\n",
              "    </tr>\n",
              "  </thead>\n",
              "  <tbody>\n",
              "    <tr>\n",
              "      <th>0</th>\n",
              "      <td>&lt;comments&gt;&lt;anti-patterns&gt;</td>\n",
              "      <td>13</td>\n",
              "      <td>&lt;p&gt;Only if the comment describes what the code...</td>\n",
              "      <td>4</td>\n",
              "      <td>2</td>\n",
              "      <td>100</td>\n",
              "    </tr>\n",
              "    <tr>\n",
              "      <th>1</th>\n",
              "      <td>&lt;business&gt;&lt;project-management&gt;&lt;development-pro...</td>\n",
              "      <td>26</td>\n",
              "      <td>&lt;p&gt;Pretty much everybody with a computer has e...</td>\n",
              "      <td>17</td>\n",
              "      <td>2</td>\n",
              "      <td>66</td>\n",
              "    </tr>\n",
              "    <tr>\n",
              "      <th>2</th>\n",
              "      <td>&lt;programming-languages&gt;&lt;dynamic-typing&gt;&lt;static...</td>\n",
              "      <td>3675</td>\n",
              "      <td>&lt;p&gt;Yes, I believe that they do.&lt;/p&gt;\\n\\n&lt;p&gt;Ther...</td>\n",
              "      <td>148</td>\n",
              "      <td>2</td>\n",
              "      <td>35</td>\n",
              "    </tr>\n",
              "    <tr>\n",
              "      <th>3</th>\n",
              "      <td>&lt;team&gt;&lt;web-development&gt;</td>\n",
              "      <td>25</td>\n",
              "      <td>&lt;p&gt;Customer (or an advocate of some sort).  &lt;/...</td>\n",
              "      <td>21</td>\n",
              "      <td>2</td>\n",
              "      <td>7</td>\n",
              "    </tr>\n",
              "    <tr>\n",
              "      <th>4</th>\n",
              "      <td>&lt;project-management&gt;&lt;waterfall&gt;</td>\n",
              "      <td>54</td>\n",
              "      <td>&lt;p&gt;It depends on many factors, including:&lt;/p&gt;\\...</td>\n",
              "      <td>6</td>\n",
              "      <td>2</td>\n",
              "      <td>9</td>\n",
              "    </tr>\n",
              "    <tr>\n",
              "      <th>...</th>\n",
              "      <td>...</td>\n",
              "      <td>...</td>\n",
              "      <td>...</td>\n",
              "      <td>...</td>\n",
              "      <td>...</td>\n",
              "      <td>...</td>\n",
              "    </tr>\n",
              "    <tr>\n",
              "      <th>34656</th>\n",
              "      <td>&lt;testing&gt;&lt;multithreading&gt;&lt;concurrency&gt;</td>\n",
              "      <td>431561</td>\n",
              "      <td>&lt;p&gt;Sometimes you have some control over the ti...</td>\n",
              "      <td>3965</td>\n",
              "      <td>2</td>\n",
              "      <td>17</td>\n",
              "    </tr>\n",
              "    <tr>\n",
              "      <th>34657</th>\n",
              "      <td>&lt;design&gt;&lt;java&gt;&lt;design-patterns&gt;&lt;microservices&gt;</td>\n",
              "      <td>431581</td>\n",
              "      <td>&lt;p&gt;The boilerplate code will probably look muc...</td>\n",
              "      <td>9113</td>\n",
              "      <td>2</td>\n",
              "      <td>0</td>\n",
              "    </tr>\n",
              "    <tr>\n",
              "      <th>34658</th>\n",
              "      <td>&lt;node.js&gt;&lt;dependencies&gt;&lt;packages&gt;&lt;legacy-code&gt;</td>\n",
              "      <td>431606</td>\n",
              "      <td>&lt;p&gt;Updating a dependency generally grants you ...</td>\n",
              "      <td>40857</td>\n",
              "      <td>2</td>\n",
              "      <td>2</td>\n",
              "    </tr>\n",
              "    <tr>\n",
              "      <th>34659</th>\n",
              "      <td>&lt;design&gt;&lt;design-patterns&gt;&lt;object-oriented-desi...</td>\n",
              "      <td>431609</td>\n",
              "      <td>&lt;p&gt;You've not abstracted this correctly.&lt;/p&gt;\\n...</td>\n",
              "      <td>106566</td>\n",
              "      <td>2</td>\n",
              "      <td>0</td>\n",
              "    </tr>\n",
              "    <tr>\n",
              "      <th>34660</th>\n",
              "      <td>&lt;unit-testing&gt;&lt;functional-testing&gt;</td>\n",
              "      <td>431614</td>\n",
              "      <td>&lt;p&gt;You're using a third-party API, so you don'...</td>\n",
              "      <td>4</td>\n",
              "      <td>2</td>\n",
              "      <td>0</td>\n",
              "    </tr>\n",
              "  </tbody>\n",
              "</table>\n",
              "<p>34661 rows × 6 columns</p>\n",
              "</div>"
            ],
            "text/plain": [
              "                                                  Tags_x  PostId_y  \\\n",
              "0                              <comments><anti-patterns>        13   \n",
              "1      <business><project-management><development-pro...        26   \n",
              "2      <programming-languages><dynamic-typing><static...      3675   \n",
              "3                                <team><web-development>        25   \n",
              "4                        <project-management><waterfall>        54   \n",
              "...                                                  ...       ...   \n",
              "34656             <testing><multithreading><concurrency>    431561   \n",
              "34657     <design><java><design-patterns><microservices>    431581   \n",
              "34658     <node.js><dependencies><packages><legacy-code>    431606   \n",
              "34659  <design><design-patterns><object-oriented-desi...    431609   \n",
              "34660                 <unit-testing><functional-testing>    431614   \n",
              "\n",
              "                                                  Body_y  OwnerUserId_y  \\\n",
              "0      <p>Only if the comment describes what the code...              4   \n",
              "1      <p>Pretty much everybody with a computer has e...             17   \n",
              "2      <p>Yes, I believe that they do.</p>\\n\\n<p>Ther...            148   \n",
              "3      <p>Customer (or an advocate of some sort).  </...             21   \n",
              "4      <p>It depends on many factors, including:</p>\\...              6   \n",
              "...                                                  ...            ...   \n",
              "34656  <p>Sometimes you have some control over the ti...           3965   \n",
              "34657  <p>The boilerplate code will probably look muc...           9113   \n",
              "34658  <p>Updating a dependency generally grants you ...          40857   \n",
              "34659  <p>You've not abstracted this correctly.</p>\\n...         106566   \n",
              "34660  <p>You're using a third-party API, so you don'...              4   \n",
              "\n",
              "       PostTypeId_y  Score_x  \n",
              "0                 2      100  \n",
              "1                 2       66  \n",
              "2                 2       35  \n",
              "3                 2        7  \n",
              "4                 2        9  \n",
              "...             ...      ...  \n",
              "34656             2       17  \n",
              "34657             2        0  \n",
              "34658             2        2  \n",
              "34659             2        0  \n",
              "34660             2        0  \n",
              "\n",
              "[34661 rows x 6 columns]"
            ]
          },
          "execution_count": 755,
          "metadata": {},
          "output_type": "execute_result"
        }
      ],
      "source": [
        "merged_accepted.loc[merged_accepted['PostTypeId_y'] == 2, ['Tags_x', 'PostId_y', 'Body_y', 'OwnerUserId_y', 'PostTypeId_y', 'Score_x']]"
      ]
    },
    {
      "cell_type": "code",
      "execution_count": null,
      "metadata": {},
      "outputs": [
        {
          "data": {
            "text/plain": [
              "34661"
            ]
          },
          "execution_count": 756,
          "metadata": {},
          "output_type": "execute_result"
        }
      ],
      "source": [
        "len(merged_accepted['PostId_y'].unique())"
      ]
    },
    {
      "cell_type": "code",
      "execution_count": null,
      "metadata": {},
      "outputs": [],
      "source": [
        "sub_df_answers = merged_accepted.loc[merged_accepted['PostTypeId_y'] == 2, ['Tags_x', 'Title_x', 'Body_x', 'Score_x', 'PostId_y', 'Body_y', 'OwnerUserId_y', 'PostTypeId_y']]\n",
        "sub_df_answers['refers_2_java'] = sub_df_answers.apply(lambda x: contains_java(x), axis=1)\n",
        "sub_df_answers = sub_df_answers.sort_values(by=\"Score_x\", ascending=False)\n",
        "sub_df_answers = sub_df_answers.loc[sub_df_answers['refers_2_java'] == True, ['PostId_y', 'Body_y', 'Score_x', 'OwnerUserId_y']]\n",
        "sub_df_answers['Body_y'] = sub_df_answers['Body_y'].apply(lambda x: re.sub(tags_pattern, \"\", x))"
      ]
    },
    {
      "cell_type": "markdown",
      "metadata": {},
      "source": [
        "Extracting only accepted answers for the most valid questions"
      ]
    },
    {
      "cell_type": "code",
      "execution_count": null,
      "metadata": {},
      "outputs": [
        {
          "data": {
            "text/plain": [
              "<matplotlib.axes._subplots.AxesSubplot at 0x163374af550>"
            ]
          },
          "execution_count": 758,
          "metadata": {},
          "output_type": "execute_result"
        },
        {
          "data": {
            "image/png": "[encoded data removed]",
            "text/plain": [
              "<Figure size 432x288 with 1 Axes>"
            ]
          },
          "metadata": {
            "needs_background": "light"
          },
          "output_type": "display_data"
        }
      ],
      "source": [
        "sub_df_answers['Score_x'].hist()"
      ]
    },
    {
      "cell_type": "code",
      "execution_count": null,
      "metadata": {},
      "outputs": [
        {
          "data": {
            "text/plain": [
              "23.973775770098378"
            ]
          },
          "execution_count": 759,
          "metadata": {},
          "output_type": "execute_result"
        }
      ],
      "source": [
        "sub_df_answers['Score_x'].std()"
      ]
    },
    {
      "cell_type": "code",
      "execution_count": null,
      "metadata": {},
      "outputs": [],
      "source": [
        "sub_df_answers = sub_df_answers.loc[sub_df_answers['Score_x'] >= sub_df_answers['Score_x'].std()]"
      ]
    },
    {
      "cell_type": "code",
      "execution_count": null,
      "metadata": {},
      "outputs": [
        {
          "data": {
            "text/html": [
              "<div>\n",
              "<style scoped>\n",
              "    .dataframe tbody tr th:only-of-type {\n",
              "        vertical-align: middle;\n",
              "    }\n",
              "\n",
              "    .dataframe tbody tr th {\n",
              "        vertical-align: top;\n",
              "    }\n",
              "\n",
              "    .dataframe thead th {\n",
              "        text-align: right;\n",
              "    }\n",
              "</style>\n",
              "<table border=\"1\" class=\"dataframe\">\n",
              "  <thead>\n",
              "    <tr style=\"text-align: right;\">\n",
              "      <th></th>\n",
              "      <th>PostId_y</th>\n",
              "      <th>Body_y</th>\n",
              "      <th>Score_x</th>\n",
              "      <th>OwnerUserId_y</th>\n",
              "    </tr>\n",
              "  </thead>\n",
              "  <tbody>\n",
              "    <tr>\n",
              "      <th>14960</th>\n",
              "      <td>218394</td>\n",
              "      <td>In order to define what a service's responsibi...</td>\n",
              "      <td>433</td>\n",
              "      <td>3249</td>\n",
              "    </tr>\n",
              "    <tr>\n",
              "      <th>4805</th>\n",
              "      <td>102215</td>\n",
              "      <td>\\n  This is an old answer.\\n  See UTF-8 Everyw...</td>\n",
              "      <td>432</td>\n",
              "      <td>35174</td>\n",
              "    </tr>\n",
              "    <tr>\n",
              "      <th>4798</th>\n",
              "      <td>102118</td>\n",
              "      <td>Modern day startups need to hit the market as ...</td>\n",
              "      <td>391</td>\n",
              "      <td>10097</td>\n",
              "    </tr>\n",
              "    <tr>\n",
              "      <th>168</th>\n",
              "      <td>6303</td>\n",
              "      <td>Sorry, this is going to be long, but it's base...</td>\n",
              "      <td>312</td>\n",
              "      <td>3340</td>\n",
              "    </tr>\n",
              "    <tr>\n",
              "      <th>633</th>\n",
              "      <td>18459</td>\n",
              "      <td>I prefer the second style.  Get invalid cases ...</td>\n",
              "      <td>302</td>\n",
              "      <td>935</td>\n",
              "    </tr>\n",
              "    <tr>\n",
              "      <th>...</th>\n",
              "      <td>...</td>\n",
              "      <td>...</td>\n",
              "      <td>...</td>\n",
              "      <td>...</td>\n",
              "    </tr>\n",
              "    <tr>\n",
              "      <th>14836</th>\n",
              "      <td>215915</td>\n",
              "      <td>Note that IDEA has this inspection for Java as...</td>\n",
              "      <td>24</td>\n",
              "      <td>31260</td>\n",
              "    </tr>\n",
              "    <tr>\n",
              "      <th>11821</th>\n",
              "      <td>185643</td>\n",
              "      <td>The general answer is no, because you should n...</td>\n",
              "      <td>24</td>\n",
              "      <td>11982</td>\n",
              "    </tr>\n",
              "    <tr>\n",
              "      <th>24853</th>\n",
              "      <td>329830</td>\n",
              "      <td>Very general philosophical reasoning\\n\\nTypica...</td>\n",
              "      <td>24</td>\n",
              "      <td>39877</td>\n",
              "    </tr>\n",
              "    <tr>\n",
              "      <th>349</th>\n",
              "      <td>11229</td>\n",
              "      <td>Cormen's Introduction to Algorithms is a good ...</td>\n",
              "      <td>24</td>\n",
              "      <td>2550</td>\n",
              "    </tr>\n",
              "    <tr>\n",
              "      <th>12486</th>\n",
              "      <td>193339</td>\n",
              "      <td>Because Options are composable. There are a lo...</td>\n",
              "      <td>24</td>\n",
              "      <td>15072</td>\n",
              "    </tr>\n",
              "  </tbody>\n",
              "</table>\n",
              "<p>453 rows × 4 columns</p>\n",
              "</div>"
            ],
            "text/plain": [
              "       PostId_y                                             Body_y  Score_x  \\\n",
              "14960    218394  In order to define what a service's responsibi...      433   \n",
              "4805     102215  \\n  This is an old answer.\\n  See UTF-8 Everyw...      432   \n",
              "4798     102118  Modern day startups need to hit the market as ...      391   \n",
              "168        6303  Sorry, this is going to be long, but it's base...      312   \n",
              "633       18459  I prefer the second style.  Get invalid cases ...      302   \n",
              "...         ...                                                ...      ...   \n",
              "14836    215915  Note that IDEA has this inspection for Java as...       24   \n",
              "11821    185643  The general answer is no, because you should n...       24   \n",
              "24853    329830  Very general philosophical reasoning\\n\\nTypica...       24   \n",
              "349       11229  Cormen's Introduction to Algorithms is a good ...       24   \n",
              "12486    193339  Because Options are composable. There are a lo...       24   \n",
              "\n",
              "       OwnerUserId_y  \n",
              "14960           3249  \n",
              "4805           35174  \n",
              "4798           10097  \n",
              "168             3340  \n",
              "633              935  \n",
              "...              ...  \n",
              "14836          31260  \n",
              "11821          11982  \n",
              "24853          39877  \n",
              "349             2550  \n",
              "12486          15072  \n",
              "\n",
              "[453 rows x 4 columns]"
            ]
          },
          "execution_count": 761,
          "metadata": {},
          "output_type": "execute_result"
        }
      ],
      "source": [
        "sub_df_answers"
      ]
    },
    {
      "cell_type": "code",
      "execution_count": null,
      "metadata": {},
      "outputs": [],
      "source": [
        "def execute_acc_ans_parsing(dir_path, start_idx, end_idx, answer_df):\n",
        "  print(f\"Processing \\\"{end_idx - start_idx}\\\" answers ...\")\n",
        "  \n",
        "  if not os.path.exists(dir_path):\n",
        "      os.mkdir(dir_path)\n",
        "      time.sleep(5)\n",
        "  \n",
        "  # print(dir_path + str(user_id))\n",
        "\n",
        "  local_user_df = answer_df.loc[:, ['PostId_y', 'Body_y']]\n",
        "  # print(local_user_df)\n",
        "\n",
        "  local_dict = dict(zip(list(local_user_df['PostId_y'].astype(str)), list(local_user_df['Body_y'])))\n",
        "  user_preprocessing.preproces_questions_into_tokens(local_dict)\n",
        "  \n",
        "  post_list = user_preprocessing.get_list_of_posts(local_dict)\n",
        "\n",
        "  for key in tqdm.tqdm(post_list[start_idx:end_idx]):\n",
        "          dpm.parse_section(local_dict[key], key, dpm.basic_pos_relations, dir_path)\n",
        "\n",
        "\n",
        "  # with multiprocessing.Pool(multiprocessing.cpu_count()) as exec:\n",
        "  #   sub_post_list = [post_list[n:n+4] for n in range(0, len(post_list), 4)]\n",
        "  #   for sub_post in tqdm.tqdm(sub_post_list):\n",
        "        # args = [(local_dict[key], key, dpm.basic_pos_relations, dir_path) for key in sub_post]\n",
        "        # print(args[0])\n",
        "        # exec.starmap(dpm.parse_section, args)\n",
        "        \n",
        "        #   # print(f\"key is : {key}\")\n",
        "        #   # print(local_dict[key])\n",
        "        #   # print(dpm.basic_pos_relations)\n",
        "        #   # exec.submit(dpm.parse_section, *(local_dict[key], key, dpm.basic_pos_relations, dir_path + str(user_id)))  \n",
        "        #   p = multiprocessing.Process(target=dpm.parse_section, args=[local_dict[key], key, dpm.basic_pos_relations, dir_path + str(user_id)]) \n",
        "        #   p.start()\n",
        "        #   processes.append(p)\n",
        "        # for process in processes:\n",
        "        #     process.join()          \n",
        "                      "
      ]
    },
    {
      "cell_type": "code",
      "execution_count": null,
      "metadata": {},
      "outputs": [],
      "source": [
        "# execute_acc_ans_parsing(\"D:\\Skola\\Skola-ing\\DP\\data\\parsed_data\\\\acm_accepted_answers\", 5, len(sub_df_answers), sub_df_answers)"
      ]
    },
    {
      "cell_type": "markdown",
      "metadata": {},
      "source": [
        "## Model evaluation"
      ]
    },
    {
      "cell_type": "markdown",
      "metadata": {},
      "source": [
        "### Loading the models"
      ]
    },
    {
      "cell_type": "code",
      "execution_count": 223,
      "metadata": {},
      "outputs": [],
      "source": [
        "from parsing.model_evaluation import loading_models, metrics, ploting, model_processing_utils"
      ]
    },
    {
      "cell_type": "code",
      "execution_count": 224,
      "metadata": {},
      "outputs": [
        {
          "name": "stderr",
          "output_type": "stream",
          "text": [
            "100%|██████████| 19/19 [00:01<00:00, 10.10it/s]\n",
            "100%|██████████| 101/101 [00:00<00:00, 144.81it/s]\n"
          ]
        }
      ],
      "source": [
        "# sections_book_dict = { name.split(\".txt\")[0] : loading_models.get_list_from_file(dir_path=\"D:\\Skola\\Skola-ing\\DP\\data\\parsed_data\\\\acm_chapters\", file_name=name) for name in os.listdir(\"D:\\Skola\\Skola-ing\\DP\\data\\parsed_data\\\\acm_chapters\") } \n",
        "sections_book_dict = loading_models.get_list_from_file(dir_path=\"D:\\Skola\\Skola-ing\\DP\\data\\parsed_data\\\\acm_chapters\", num_of_files_to_read=\"all\")\n",
        "user_dict = loading_models.get_user_dict_from_file(r\"D:/Skola/Skola-ing/DP/data/parsed_data/acm_users/answers\")\n",
        "user_rep = loading_models.get_user_reputation_dict_from_file(r\"D:\\Skola\\Skola-ing\\DP\\data\\parsed_data\\\\acm_users\\\\reputation\\user_reputation.txt\")\n",
        "# acc_ans_dict = { name.split(\".txt\")[0] : loading_models.get_list_from_file(dir_path=\"D:\\Skola\\Skola-ing\\DP\\data\\parsed_data\\\\acm_accepted_answers\", file_name=name) for name in os.listdir(\"D:\\Skola\\Skola-ing\\DP\\data\\parsed_data\\\\acm_accepted_answers\") } "
      ]
    },
    {
      "cell_type": "code",
      "execution_count": 225,
      "metadata": {},
      "outputs": [
        {
          "name": "stdout",
          "output_type": "stream",
          "text": [
            "num of user models: 95, num of user reps: 13085\n"
          ]
        }
      ],
      "source": [
        "print(f\"num of user models: {len(user_dict)}, num of user reps: {len(user_rep)}\")"
      ]
    },
    {
      "cell_type": "markdown",
      "metadata": {},
      "source": [
        "### Basic model testing"
      ]
    },
    {
      "cell_type": "markdown",
      "metadata": {},
      "source": [
        "#### Phrases"
      ]
    },
    {
      "cell_type": "markdown",
      "metadata": {},
      "source": [
        "Jaccard similarity"
      ]
    },
    {
      "cell_type": "code",
      "execution_count": 226,
      "metadata": {},
      "outputs": [
        {
          "data": {
            "text/plain": [
              "95"
            ]
          },
          "execution_count": 226,
          "metadata": {},
          "output_type": "execute_result"
        }
      ],
      "source": [
        "model_processing_utils.join_tuples_and_lemantize(user_dict)\n",
        "model_processing_utils.join_tuples_and_lemantize(sections_book_dict)\n",
        "merged_book = model_processing_utils.merge_models(sections_book_dict)\n",
        "\n",
        "present_user_rep = { key : user_rep[key.split('userId')[1]] for key in user_dict.keys()}\n",
        "len(present_user_rep)"
      ]
    },
    {
      "cell_type": "code",
      "execution_count": 227,
      "metadata": {},
      "outputs": [],
      "source": [
        "phrases_overal_jacq_sim = { key : metrics.jaccard_similarity(merged_book, user_dict[key]) for key in user_dict.keys()}"
      ]
    },
    {
      "cell_type": "code",
      "execution_count": 228,
      "metadata": {},
      "outputs": [
        {
          "data": {
            "text/plain": [
              "2.70076"
            ]
          },
          "execution_count": 228,
          "metadata": {},
          "output_type": "execute_result"
        }
      ],
      "source": [
        "phrases_overal_jacq_sim['userId1352']"
      ]
    },
    {
      "cell_type": "code",
      "execution_count": 229,
      "metadata": {},
      "outputs": [],
      "source": [
        "def calculate_order_score(dict1, dict2):\n",
        "    our_reputation_sorted = dict(sorted(dict1.items(), key=lambda item: item[1]))\n",
        "    user_reputation_sorted = dict(sorted(dict2.items(), key=lambda item: item[1]))\n",
        "\n",
        "    right = 0\n",
        "    wrong = 0\n",
        "\n",
        "    print(our_reputation_sorted)\n",
        "    print(user_reputation_sorted)\n",
        "\n",
        "    for our_key, user_key in zip(our_reputation_sorted.keys(), user_reputation_sorted.keys()):\n",
        "        if our_key == user_key:\n",
        "            right += 1\n",
        "        else:\n",
        "            wrong += 1\n",
        "\n",
        "    print(\"User on correct position: \", right)\n",
        "    print(\"User on wrong position: \", wrong)"
      ]
    },
    {
      "cell_type": "code",
      "execution_count": 230,
      "metadata": {},
      "outputs": [
        {
          "data": {
            "image/png": "[encoded data removed]",
            "text/plain": [
              "<Figure size 432x288 with 1 Axes>"
            ]
          },
          "metadata": {
            "needs_background": "light"
          },
          "output_type": "display_data"
        }
      ],
      "source": [
        "corr_coef = present_user_rep['userId1352']/phrases_overal_jacq_sim['userId1352']\n",
        "scaled_user_rep = {key : present_user_rep[key]/corr_coef for key in present_user_rep}\n",
        "scaled_jacc_rep = {key : int(phrases_overal_jacq_sim[key]*corr_coef) for key in phrases_overal_jacq_sim}\n",
        "ploting.plot_vals(val_dict1=present_user_rep, val_dict2=scaled_jacc_rep, metric_name1=\"Reputation by SE\", metric_name2=\"Reputation by Jaccard\")"
      ]
    },
    {
      "cell_type": "code",
      "execution_count": 231,
      "metadata": {},
      "outputs": [
        {
          "data": {
            "text/plain": [
              "<matplotlib.axes._subplots.AxesSubplot at 0x279dd5a1b38>"
            ]
          },
          "execution_count": 231,
          "metadata": {},
          "output_type": "execute_result"
        },
        {
          "data": {
            "image/png": "[encoded data removed]",
            "text/plain": [
              "<Figure size 432x288 with 1 Axes>"
            ]
          },
          "metadata": {
            "needs_background": "light"
          },
          "output_type": "display_data"
        }
      ],
      "source": [
        "np_user_rep = np.array(list(present_user_rep.values()))\n",
        "np_phrases_jacq_sim = np.array(list(phrases_overal_jacq_sim.values()))\n",
        "\n",
        "sb.scatterplot(np_user_rep, np_phrases_jacq_sim)"
      ]
    },
    {
      "cell_type": "code",
      "execution_count": 232,
      "metadata": {},
      "outputs": [
        {
          "name": "stdout",
          "output_type": "stream",
          "text": [
            "[[1.        0.9444691]\n",
            " [0.9444691 1.       ]]\n"
          ]
        }
      ],
      "source": [
        "my_rho = np.corrcoef(np_user_rep, np_phrases_jacq_sim)\n",
        "print(my_rho)"
      ]
    },
    {
      "cell_type": "code",
      "execution_count": 233,
      "metadata": {},
      "outputs": [
        {
          "name": "stdout",
          "output_type": "stream",
          "text": [
            "{'userId102854': 0.0, 'userId110891': 0.0, 'userId11912': 0.0, 'userId13234': 0.0, 'userId16363': 0.0, 'userId230189': 0.0, 'userId23127': 0.0, 'userId23989': 0.0, 'userId260000': 0.0, 'userId2960': 0.0, 'userId311114': 0.0, 'userId3766': 0.0, 'userId3937': 0.0, 'userId43607': 0.0, 'userId48295': 0.0, 'userId48538': 0.0, 'userId51052': 0.0, 'userId51329': 0.0, 'userId54786': 0.0, 'userId60361': 0.0, 'userId61822': 0.0, 'userId72086': 0.0, 'userId81711': 0.0, 'userId90621': 0.0, 'userId9915': 0.0, 'userId252775': 0.00978, 'userId956': 0.00978, 'userId24681': 0.00979, 'userId98956': 0.0098, 'userId11593': 0.00981, 'userId183841': 0.00981, 'userId74321': 0.00981, 'userId11937': 0.00982, 'userId1641': 0.00982, 'userId186153': 0.00982, 'userId215307': 0.00982, 'userId220929': 0.00982, 'userId28154': 0.00982, 'userId306735': 0.00982, 'userId89176': 0.00982, 'userId94922': 0.00982, 'userId157638': 0.00983, 'userId272442': 0.00983, 'userId45211': 0.0195, 'userId111157': 0.01958, 'userId51550': 0.01958, 'userId5487': 0.01959, 'userId33851': 0.01963, 'userId14361': 0.02928, 'userId49574': 0.02932, 'userId73424': 0.02933, 'userId263166': 0.02936, 'userId39126': 0.02938, 'userId11200': 0.03886, 'userId32447': 0.03891, 'userId350412': 0.039, 'userId155976': 0.03916, 'userId95671': 0.0392, 'userId42267': 0.0393, 'userId3122': 0.04809, 'userId34754': 0.04845, 'userId36096': 0.04861, 'userId82': 0.04871, 'userId272007': 0.04873, 'userId112132': 0.04883, 'userId327416': 0.04893, 'userId40724': 0.05705, 'userId38223': 0.05817, 'userId106835': 0.05834, 'userId166559': 0.05841, 'userId227552': 0.05859, 'userId15163': 0.06785, 'userId13961': 0.06793, 'userId121080': 0.06827, 'userId111302': 0.06839, 'userId3928': 0.07729, 'userId4603': 0.08535, 'userId3922': 0.08682, 'userId60953': 0.0874, 'userId19697': 0.0878, 'userId100350': 0.08805, 'userId24912': 0.09629, 'userId91249': 0.13472, 'userId66': 0.20685, 'userId1813': 0.23443, 'userId146161': 0.27969, 'userId8500': 0.27983, 'userId79256': 0.30895, 'userId16349': 0.36975, 'userId611': 0.63611, 'userId2314': 0.82183, 'userId90149': 1.10006, 'userId14221': 1.36162, 'userId3249': 1.5441, 'userId1352': 2.70076}\n",
            "{'userId1641': 111, 'userId260000': 111, 'userId51052': 111, 'userId81711': 111, 'userId98956': 111, 'userId110891': 116, 'userId89176': 119, 'userId14361': 121, 'userId186153': 121, 'userId23989': 121, 'userId61822': 121, 'userId48538': 123, 'userId24681': 127, 'userId272442': 129, 'userId146161': 131, 'userId220929': 131, 'userId306735': 131, 'userId327416': 131, 'userId90621': 135, 'userId51329': 141, 'userId94922': 141, 'userId49574': 143, 'userId215307': 146, 'userId54786': 149, 'userId23127': 151, 'userId28154': 151, 'userId263166': 154, 'userId48295': 158, 'userId39126': 161, 'userId72086': 161, 'userId157638': 166, 'userId252775': 171, 'userId956': 176, 'userId11912': 181, 'userId166559': 184, 'userId155976': 187, 'userId111302': 195, 'userId43607': 199, 'userId36096': 206, 'userId183841': 211, 'userId74321': 219, 'userId3937': 223, 'userId73424': 231, 'userId227552': 240, 'userId3766': 243, 'userId272007': 251, 'userId311114': 257, 'userId106835': 268, 'userId34754': 273, 'userId95671': 279, 'userId32447': 287, 'userId13234': 301, 'userId11937': 311, 'userId51550': 323, 'userId350412': 330, 'userId230189': 341, 'userId45211': 349, 'userId13961': 359, 'userId42267': 379, 'userId9915': 387, 'userId16363': 406, 'userId11593': 427, 'userId112132': 451, 'userId2960': 471, 'userId100350': 494, 'userId111157': 516, 'userId15163': 549, 'userId102854': 572, 'userId60953': 618, 'userId3928': 653, 'userId91249': 669, 'userId3122': 729, 'userId16349': 797, 'userId60361': 831, 'userId1813': 1015, 'userId33851': 1138, 'userId24912': 1253, 'userId19697': 1358, 'userId11200': 1449, 'userId3922': 1498, 'userId82': 1645, 'userId5487': 1799, 'userId121080': 1995, 'userId4603': 2088, 'userId8500': 2238, 'userId40724': 2627, 'userId79256': 3180, 'userId90149': 4457, 'userId38223': 8397, 'userId66': 13048, 'userId611': 21854, 'userId2314': 27571, 'userId3249': 42615, 'userId14221': 45837, 'userId1352': 95315}\n",
            "User on correct position:  2\n",
            "User on wrong position:  93\n"
          ]
        }
      ],
      "source": [
        "calculate_order_score(phrases_overal_jacq_sim, present_user_rep)"
      ]
    },
    {
      "cell_type": "markdown",
      "metadata": {},
      "source": [
        "Cosine similarity"
      ]
    },
    {
      "cell_type": "code",
      "execution_count": 234,
      "metadata": {},
      "outputs": [
        {
          "data": {
            "image/png": "[encoded data removed]",
            "text/plain": [
              "<Figure size 432x288 with 1 Axes>"
            ]
          },
          "metadata": {
            "needs_background": "light"
          },
          "output_type": "display_data"
        }
      ],
      "source": [
        "phrases_overal_cos_sim = metrics.get_cosine_sim(user_dict, merged_book)\n",
        "\n",
        "corr_coef2 = present_user_rep['userId1352']/phrases_overal_cos_sim['userId1352']\n",
        "scaled_user_rep2 = {key : present_user_rep[key]/corr_coef2 for key in present_user_rep}\n",
        "scaled_cos_rep = {key : int(phrases_overal_cos_sim[key]*corr_coef2) for key in phrases_overal_cos_sim}\n",
        "ploting.plot_vals(val_dict1=present_user_rep, val_dict2=scaled_cos_rep, metric_name1=\"Reputation by SE\", metric_name2=\"Reputation by Cosine sim\")"
      ]
    },
    {
      "cell_type": "code",
      "execution_count": 235,
      "metadata": {},
      "outputs": [
        {
          "data": {
            "text/plain": [
              "<matplotlib.axes._subplots.AxesSubplot at 0x279ddee2390>"
            ]
          },
          "execution_count": 235,
          "metadata": {},
          "output_type": "execute_result"
        },
        {
          "data": {
            "image/png": "[encoded data removed]",
            "text/plain": [
              "<Figure size 432x288 with 1 Axes>"
            ]
          },
          "metadata": {
            "needs_background": "light"
          },
          "output_type": "display_data"
        }
      ],
      "source": [
        "np_cos_sim = np.array(list(phrases_overal_cos_sim.values()))\n",
        "sb.scatterplot(np_user_rep, np_cos_sim)"
      ]
    },
    {
      "cell_type": "code",
      "execution_count": 236,
      "metadata": {},
      "outputs": [
        {
          "name": "stdout",
          "output_type": "stream",
          "text": [
            "[[1.         0.86010709]\n",
            " [0.86010709 1.        ]]\n"
          ]
        }
      ],
      "source": [
        "my_rho = np.corrcoef(np_user_rep, np_cos_sim)\n",
        "print(my_rho)"
      ]
    },
    {
      "cell_type": "code",
      "execution_count": 237,
      "metadata": {},
      "outputs": [
        {
          "name": "stdout",
          "output_type": "stream",
          "text": [
            "{'userId102854': 0.0, 'userId110891': 0.0, 'userId11912': 0.0, 'userId13234': 0.0, 'userId16363': 0.0, 'userId230189': 0.0, 'userId23127': 0.0, 'userId23989': 0.0, 'userId260000': 0.0, 'userId2960': 0.0, 'userId311114': 0.0, 'userId3766': 0.0, 'userId3937': 0.0, 'userId43607': 0.0, 'userId48295': 0.0, 'userId48538': 0.0, 'userId51052': 0.0, 'userId51329': 0.0, 'userId54786': 0.0, 'userId60361': 0.0, 'userId61822': 0.0, 'userId72086': 0.0, 'userId81711': 0.0, 'userId90621': 0.0, 'userId9915': 0.0, 'userId252775': 0.1337, 'userId956': 0.13884, 'userId24681': 0.15877, 'userId98956': 0.17808, 'userId183841': 0.19082, 'userId11593': 0.20674, 'userId45211': 0.21509, 'userId74321': 0.21637, 'userId94922': 0.24048, 'userId220929': 0.24788, 'userId11937': 0.26499, 'userId1641': 0.26499, 'userId215307': 0.26499, 'userId306735': 0.26499, 'userId186153': 0.28622, 'userId28154': 0.28622, 'userId51550': 0.28925, 'userId89176': 0.29895, 'userId111157': 0.30599, 'userId40724': 0.3189, 'userId5487': 0.32601, 'userId3122': 0.32832, 'userId14361': 0.33898, 'userId11200': 0.35332, 'userId32447': 0.37476, 'userId49574': 0.37777, 'userId73424': 0.38401, 'userId34754': 0.40211, 'userId263166': 0.42934, 'userId350412': 0.43018, 'userId36096': 0.45256, 'userId33851': 0.45494, 'userId39126': 0.45898, 'userId4603': 0.45898, 'userId38223': 0.48737, 'userId82': 0.50336, 'userId272007': 0.51133, 'userId106835': 0.54999, 'userId15163': 0.56482, 'userId272442': 0.57245, 'userId166559': 0.58057, 'userId155976': 0.58476, 'userId3928': 0.58476, 'userId112132': 0.58835, 'userId13961': 0.59082, 'userId3922': 0.62786, 'userId24912': 0.66848, 'userId95671': 0.68017, 'userId227552': 0.69156, 'userId327416': 0.70822, 'userId66': 0.73717, 'userId121080': 0.74411, 'userId60953': 0.77966, 'userId111302': 0.82956, 'userId91249': 0.90938, 'userId19697': 0.95126, 'userId157638': 0.99151, 'userId8500': 1.01117, 'userId1813': 1.09547, 'userId79256': 1.15156, 'userId100350': 1.18196, 'userId146161': 1.23939, 'userId42267': 1.25417, 'userId16349': 1.52315, 'userId611': 1.52425, 'userId2314': 2.08419, 'userId14221': 2.79706, 'userId90149': 2.81785, 'userId3249': 3.15918, 'userId1352': 5.73254}\n",
            "{'userId1641': 111, 'userId260000': 111, 'userId51052': 111, 'userId81711': 111, 'userId98956': 111, 'userId110891': 116, 'userId89176': 119, 'userId14361': 121, 'userId186153': 121, 'userId23989': 121, 'userId61822': 121, 'userId48538': 123, 'userId24681': 127, 'userId272442': 129, 'userId146161': 131, 'userId220929': 131, 'userId306735': 131, 'userId327416': 131, 'userId90621': 135, 'userId51329': 141, 'userId94922': 141, 'userId49574': 143, 'userId215307': 146, 'userId54786': 149, 'userId23127': 151, 'userId28154': 151, 'userId263166': 154, 'userId48295': 158, 'userId39126': 161, 'userId72086': 161, 'userId157638': 166, 'userId252775': 171, 'userId956': 176, 'userId11912': 181, 'userId166559': 184, 'userId155976': 187, 'userId111302': 195, 'userId43607': 199, 'userId36096': 206, 'userId183841': 211, 'userId74321': 219, 'userId3937': 223, 'userId73424': 231, 'userId227552': 240, 'userId3766': 243, 'userId272007': 251, 'userId311114': 257, 'userId106835': 268, 'userId34754': 273, 'userId95671': 279, 'userId32447': 287, 'userId13234': 301, 'userId11937': 311, 'userId51550': 323, 'userId350412': 330, 'userId230189': 341, 'userId45211': 349, 'userId13961': 359, 'userId42267': 379, 'userId9915': 387, 'userId16363': 406, 'userId11593': 427, 'userId112132': 451, 'userId2960': 471, 'userId100350': 494, 'userId111157': 516, 'userId15163': 549, 'userId102854': 572, 'userId60953': 618, 'userId3928': 653, 'userId91249': 669, 'userId3122': 729, 'userId16349': 797, 'userId60361': 831, 'userId1813': 1015, 'userId33851': 1138, 'userId24912': 1253, 'userId19697': 1358, 'userId11200': 1449, 'userId3922': 1498, 'userId82': 1645, 'userId5487': 1799, 'userId121080': 1995, 'userId4603': 2088, 'userId8500': 2238, 'userId40724': 2627, 'userId79256': 3180, 'userId90149': 4457, 'userId38223': 8397, 'userId66': 13048, 'userId611': 21854, 'userId2314': 27571, 'userId3249': 42615, 'userId14221': 45837, 'userId1352': 95315}\n",
            "User on correct position:  2\n",
            "User on wrong position:  93\n"
          ]
        }
      ],
      "source": [
        "calculate_order_score(phrases_overal_cos_sim, present_user_rep)"
      ]
    },
    {
      "cell_type": "markdown",
      "metadata": {},
      "source": [
        "Euclidean distance"
      ]
    },
    {
      "cell_type": "code",
      "execution_count": 238,
      "metadata": {},
      "outputs": [
        {
          "data": {
            "image/png": "[encoded data removed]",
            "text/plain": [
              "<Figure size 432x288 with 1 Axes>"
            ]
          },
          "metadata": {
            "needs_background": "light"
          },
          "output_type": "display_data"
        }
      ],
      "source": [
        "phrases_overal_euclid_sim = metrics.get_euclid_dis(user_dict, merged_book)\n",
        "\n",
        "corr_coef3 = present_user_rep['userId1352']/phrases_overal_euclid_sim['userId1352']\n",
        "scaled_user_rep3 = {key : present_user_rep[key]/corr_coef3 for key in present_user_rep}\n",
        "scaled_euclid_rep = {key : int(phrases_overal_euclid_sim[key]*corr_coef3) for key in phrases_overal_euclid_sim}\n",
        "ploting.plot_vals(val_dict1=present_user_rep, val_dict2=scaled_euclid_rep, metric_name1=\"Reputation by SE\", metric_name2=\"Reputation by Euclidean sim\")"
      ]
    },
    {
      "cell_type": "code",
      "execution_count": 239,
      "metadata": {},
      "outputs": [
        {
          "data": {
            "text/plain": [
              "<matplotlib.axes._subplots.AxesSubplot at 0x279ddb79ac8>"
            ]
          },
          "execution_count": 239,
          "metadata": {},
          "output_type": "execute_result"
        },
        {
          "data": {
            "image/png": "[encoded data removed]",
            "text/plain": [
              "<Figure size 432x288 with 1 Axes>"
            ]
          },
          "metadata": {
            "needs_background": "light"
          },
          "output_type": "display_data"
        }
      ],
      "source": [
        "np_euclidean_sim = np.array(list(phrases_overal_euclid_sim.values()))\n",
        "\n",
        "sb.scatterplot(np_user_rep, np_euclidean_sim)"
      ]
    },
    {
      "cell_type": "code",
      "execution_count": 240,
      "metadata": {},
      "outputs": [
        {
          "name": "stdout",
          "output_type": "stream",
          "text": [
            "[[1.         0.98254456]\n",
            " [0.98254456 1.        ]]\n"
          ]
        }
      ],
      "source": [
        "my_rho = np.corrcoef(np_user_rep, np_euclidean_sim)\n",
        "print(my_rho)"
      ]
    },
    {
      "cell_type": "code",
      "execution_count": 241,
      "metadata": {},
      "outputs": [
        {
          "name": "stdout",
          "output_type": "stream",
          "text": [
            "{'userId157638': 100.85137579626765, 'userId272442': 100.86129089001389, 'userId42267': 100.86624807139403, 'userId48295': 100.86624807139403, 'userId72086': 100.87616170334793, 'userId13234': 100.88111815399351, 'userId3937': 100.88111815399351, 'userId51052': 100.88111815399351, 'userId260000': 100.88607436113271, 'userId110891': 100.89103032480142, 'userId23989': 100.89103032480142, 'userId48538': 100.89103032480142, 'userId89176': 100.90094152187085, 'userId186153': 100.90589675534329, 'userId28154': 100.90589675534329, 'userId43607': 100.9108517454887, 'userId11937': 100.91580649234291, 'userId1641': 100.91580649234291, 'userId215307': 100.91580649234291, 'userId306735': 100.91580649234291, 'userId51329': 100.91580649234291, 'userId16363': 100.92571525632107, 'userId220929': 100.92571525632107, 'userId311114': 100.93066927351666, 'userId33851': 100.93066927351666, 'userId61822': 100.93066927351666, 'userId94922': 100.93066927351666, 'userId23127': 100.94057657849989, 'userId54786': 100.94552986635911, 'userId74321': 100.9504829111778, 'userId11912': 100.9554357129917, 'userId102854': 100.96038827183659, 'userId11593': 100.96038827183659, 'userId81711': 100.9752444909147, 'userId183841': 100.98019607824101, 'userId95671': 100.98514742277698, 'userId90621': 100.99009852455833, 'userId3766': 100.99504938362078, 'userId98956': 101.0, 'userId5487': 101.01980003939822, 'userId2960': 101.02474944289642, 'userId39126': 101.03464752252071, 'userId24681': 101.03959619871806, 'userId111157': 101.04454463255303, 'userId155976': 101.04454463255303, 'userId100350': 101.04949282406122, 'userId327416': 101.04949282406122, 'userId263166': 101.06433594498111, 'userId51550': 101.0692831675381, 'userId230189': 101.08412338245805, 'userId956': 101.09896141899777, 'userId252775': 101.11874208078342, 'userId73424': 101.1236866416568, 'userId111302': 101.13357503816425, 'userId49574': 101.13357503816425, 'userId112132': 101.1582918005242, 'userId227552': 101.1632344283238, 'userId60361': 101.19782606360673, 'userId19697': 101.20276676059801, 'userId14361': 101.20770721639731, 'userId121080': 101.21758740456127, 'userId350412': 101.23734488813898, 'userId45211': 101.25709851659784, 'userId272007': 101.27191120937731, 'userId82': 101.28672173587218, 'userId166559': 101.31633629380802, 'userId9915': 101.34594219799824, 'userId32447': 101.3706071797935, 'userId106835': 101.3755394560246, 'userId36096': 101.40019723846694, 'userId60953': 101.41498903022176, 'userId11200': 101.43963722332607, 'userId13961': 101.46920715172658, 'userId15163': 101.53324578678651, 'userId38223': 101.53324578678651, 'userId34754': 101.55786527886454, 'userId3928': 101.68579055108928, 'userId3922': 101.76443386566841, 'userId24912': 101.84301645179212, 'userId91249': 101.86756107809786, 'userId3122': 101.93134944657605, 'userId40724': 102.50853622991599, 'userId4603': 102.62553288534, 'userId1813': 103.12128781197411, 'userId146161': 103.38278386656069, 'userId16349': 103.77861051295686, 'userId79256': 104.69479452198185, 'userId8500': 105.04284840006957, 'userId66': 105.27582818482124, 'userId90149': 110.40833301884419, 'userId2314': 111.20701416727275, 'userId611': 113.67057666784312, 'userId3249': 126.37642185154634, 'userId14221': 126.60568707605516, 'userId1352': 164.83931569865243}\n",
            "{'userId1641': 111, 'userId260000': 111, 'userId51052': 111, 'userId81711': 111, 'userId98956': 111, 'userId110891': 116, 'userId89176': 119, 'userId14361': 121, 'userId186153': 121, 'userId23989': 121, 'userId61822': 121, 'userId48538': 123, 'userId24681': 127, 'userId272442': 129, 'userId146161': 131, 'userId220929': 131, 'userId306735': 131, 'userId327416': 131, 'userId90621': 135, 'userId51329': 141, 'userId94922': 141, 'userId49574': 143, 'userId215307': 146, 'userId54786': 149, 'userId23127': 151, 'userId28154': 151, 'userId263166': 154, 'userId48295': 158, 'userId39126': 161, 'userId72086': 161, 'userId157638': 166, 'userId252775': 171, 'userId956': 176, 'userId11912': 181, 'userId166559': 184, 'userId155976': 187, 'userId111302': 195, 'userId43607': 199, 'userId36096': 206, 'userId183841': 211, 'userId74321': 219, 'userId3937': 223, 'userId73424': 231, 'userId227552': 240, 'userId3766': 243, 'userId272007': 251, 'userId311114': 257, 'userId106835': 268, 'userId34754': 273, 'userId95671': 279, 'userId32447': 287, 'userId13234': 301, 'userId11937': 311, 'userId51550': 323, 'userId350412': 330, 'userId230189': 341, 'userId45211': 349, 'userId13961': 359, 'userId42267': 379, 'userId9915': 387, 'userId16363': 406, 'userId11593': 427, 'userId112132': 451, 'userId2960': 471, 'userId100350': 494, 'userId111157': 516, 'userId15163': 549, 'userId102854': 572, 'userId60953': 618, 'userId3928': 653, 'userId91249': 669, 'userId3122': 729, 'userId16349': 797, 'userId60361': 831, 'userId1813': 1015, 'userId33851': 1138, 'userId24912': 1253, 'userId19697': 1358, 'userId11200': 1449, 'userId3922': 1498, 'userId82': 1645, 'userId5487': 1799, 'userId121080': 1995, 'userId4603': 2088, 'userId8500': 2238, 'userId40724': 2627, 'userId79256': 3180, 'userId90149': 4457, 'userId38223': 8397, 'userId66': 13048, 'userId611': 21854, 'userId2314': 27571, 'userId3249': 42615, 'userId14221': 45837, 'userId1352': 95315}\n",
            "User on correct position:  5\n",
            "User on wrong position:  90\n"
          ]
        }
      ],
      "source": [
        "calculate_order_score(phrases_overal_euclid_sim, present_user_rep)"
      ]
    },
    {
      "cell_type": "markdown",
      "metadata": {},
      "source": [
        "#### Words"
      ]
    },
    {
      "cell_type": "code",
      "execution_count": 242,
      "metadata": {},
      "outputs": [],
      "source": [
        "user_dict_words = model_processing_utils.join_phrases_into_words(user_dict, \"users\")\n",
        "merged_book = model_processing_utils.join_phrases_into_words(merged_book)"
      ]
    },
    {
      "cell_type": "code",
      "execution_count": 243,
      "metadata": {},
      "outputs": [
        {
          "data": {
            "text/plain": [
              "252"
            ]
          },
          "execution_count": 243,
          "metadata": {},
          "output_type": "execute_result"
        }
      ],
      "source": [
        "len(user_dict_words['userId11200'])"
      ]
    },
    {
      "cell_type": "code",
      "execution_count": 244,
      "metadata": {},
      "outputs": [
        {
          "data": {
            "text/plain": [
              "20344"
            ]
          },
          "execution_count": 244,
          "metadata": {},
          "output_type": "execute_result"
        }
      ],
      "source": [
        "len(merged_book)"
      ]
    },
    {
      "cell_type": "markdown",
      "metadata": {},
      "source": [
        "Jaccard similarity"
      ]
    },
    {
      "cell_type": "code",
      "execution_count": 245,
      "metadata": {},
      "outputs": [],
      "source": [
        "words_overal_jacq_sim = { key : metrics.jaccard_similarity(merged_book, user_dict_words[key]) for key in user_dict_words.keys()}"
      ]
    },
    {
      "cell_type": "code",
      "execution_count": 246,
      "metadata": {},
      "outputs": [
        {
          "data": {
            "text/plain": [
              "2.37444"
            ]
          },
          "execution_count": 246,
          "metadata": {},
          "output_type": "execute_result"
        }
      ],
      "source": [
        "words_overal_jacq_sim['userId1352']"
      ]
    },
    {
      "cell_type": "code",
      "execution_count": 247,
      "metadata": {},
      "outputs": [
        {
          "data": {
            "image/png": "[encoded data removed]",
            "text/plain": [
              "<Figure size 432x288 with 1 Axes>"
            ]
          },
          "metadata": {
            "needs_background": "light"
          },
          "output_type": "display_data"
        }
      ],
      "source": [
        "corr_coef = present_user_rep['userId1352']/words_overal_jacq_sim['userId1352']\n",
        "scaled_user_rep = {key : present_user_rep[key]/corr_coef for key in present_user_rep}\n",
        "scaled_jacc_rep = {key : words_overal_jacq_sim[key]*corr_coef for key in words_overal_jacq_sim}\n",
        "ploting.plot_vals(val_dict1=present_user_rep, val_dict2=scaled_jacc_rep, metric_name1=\"Reputation by SE\", metric_name2=\"Reputation by Jaccard sim\")"
      ]
    },
    {
      "cell_type": "code",
      "execution_count": 248,
      "metadata": {},
      "outputs": [
        {
          "data": {
            "text/plain": [
              "<matplotlib.axes._subplots.AxesSubplot at 0x279d4f031d0>"
            ]
          },
          "execution_count": 248,
          "metadata": {},
          "output_type": "execute_result"
        },
        {
          "data": {
            "image/png": "[encoded data removed]",
            "text/plain": [
              "<Figure size 432x288 with 1 Axes>"
            ]
          },
          "metadata": {
            "needs_background": "light"
          },
          "output_type": "display_data"
        }
      ],
      "source": [
        "np_words_jacq_sim = np.array(list(words_overal_jacq_sim.values()))\n",
        "\n",
        "sb.scatterplot(np_user_rep, np_words_jacq_sim)"
      ]
    },
    {
      "cell_type": "code",
      "execution_count": 249,
      "metadata": {},
      "outputs": [
        {
          "name": "stdout",
          "output_type": "stream",
          "text": [
            "[[1.         0.66826107]\n",
            " [0.66826107 1.        ]]\n"
          ]
        }
      ],
      "source": [
        "my_rho = np.corrcoef(np_user_rep, np_words_jacq_sim)\n",
        "print(my_rho)"
      ]
    },
    {
      "cell_type": "code",
      "execution_count": 250,
      "metadata": {},
      "outputs": [
        {
          "name": "stdout",
          "output_type": "stream",
          "text": [
            "{'userId157638': 0.00983, 'userId48295': 0.00983, 'userId13234': 0.01474, 'userId110891': 0.01965, 'userId260000': 0.02457, 'userId3937': 0.02457, 'userId23989': 0.02948, 'userId272442': 0.02949, 'userId72086': 0.02949, 'userId48538': 0.03931, 'userId51052': 0.03932, 'userId23127': 0.05401, 'userId16363': 0.05402, 'userId306735': 0.05402, 'userId28154': 0.05404, 'userId61822': 0.05893, 'userId42267': 0.05896, 'userId43607': 0.06387, 'userId186153': 0.06878, 'userId89176': 0.06879, 'userId11937': 0.07368, 'userId1641': 0.07368, 'userId311114': 0.07368, 'userId51329': 0.07862, 'userId215307': 0.08352, 'userId220929': 0.08842, 'userId54786': 0.09332, 'userId183841': 0.10306, 'userId11912': 0.10313, 'userId3766': 0.10796, 'userId11593': 0.108, 'userId74321': 0.10803, 'userId33851': 0.10806, 'userId2960': 0.11281, 'userId102854': 0.11295, 'userId94922': 0.11791, 'userId98956': 0.12266, 'userId81711': 0.12766, 'userId90621': 0.14237, 'userId111157': 0.16672, 'userId5487': 0.1668, 'userId95671': 0.17175, 'userId956': 0.17638, 'userId51550': 0.17645, 'userId24681': 0.17659, 'userId100350': 0.18607, 'userId39126': 0.20602, 'userId73424': 0.21545, 'userId252775': 0.21556, 'userId327416': 0.21564, 'userId230189': 0.23052, 'userId263166': 0.24028, 'userId49574': 0.24979, 'userId155976': 0.26494, 'userId45211': 0.27863, 'userId227552': 0.28384, 'userId111302': 0.28395, 'userId9915': 0.30273, 'userId14361': 0.32302, 'userId112132': 0.33297, 'userId19697': 0.3423, 'userId272007': 0.36662, 'userId82': 0.37142, 'userId60361': 0.37244, 'userId166559': 0.37599, 'userId350412': 0.38648, 'userId32447': 0.41988, 'userId121080': 0.42574, 'userId36096': 0.45386, 'userId106835': 0.50791, 'userId11200': 0.51733, 'userId38223': 0.53085, 'userId13961': 0.54608, 'userId15163': 0.55028, 'userId60953': 0.561, 'userId34754': 0.57967, 'userId3922': 0.58655, 'userId3928': 0.66566, 'userId91249': 0.68699, 'userId3122': 0.72618, 'userId24912': 0.77557, 'userId40724': 0.97395, 'userId4603': 0.97589, 'userId1813': 1.27914, 'userId146161': 1.39517, 'userId16349': 1.64763, 'userId66': 1.69306, 'userId79256': 1.71381, 'userId8500': 1.94549, 'userId1352': 2.37444, 'userId2314': 2.69831, 'userId611': 2.7706, 'userId90149': 3.02506, 'userId14221': 3.16135, 'userId3249': 3.1814}\n",
            "{'userId1641': 111, 'userId260000': 111, 'userId51052': 111, 'userId81711': 111, 'userId98956': 111, 'userId110891': 116, 'userId89176': 119, 'userId14361': 121, 'userId186153': 121, 'userId23989': 121, 'userId61822': 121, 'userId48538': 123, 'userId24681': 127, 'userId272442': 129, 'userId146161': 131, 'userId220929': 131, 'userId306735': 131, 'userId327416': 131, 'userId90621': 135, 'userId51329': 141, 'userId94922': 141, 'userId49574': 143, 'userId215307': 146, 'userId54786': 149, 'userId23127': 151, 'userId28154': 151, 'userId263166': 154, 'userId48295': 158, 'userId39126': 161, 'userId72086': 161, 'userId157638': 166, 'userId252775': 171, 'userId956': 176, 'userId11912': 181, 'userId166559': 184, 'userId155976': 187, 'userId111302': 195, 'userId43607': 199, 'userId36096': 206, 'userId183841': 211, 'userId74321': 219, 'userId3937': 223, 'userId73424': 231, 'userId227552': 240, 'userId3766': 243, 'userId272007': 251, 'userId311114': 257, 'userId106835': 268, 'userId34754': 273, 'userId95671': 279, 'userId32447': 287, 'userId13234': 301, 'userId11937': 311, 'userId51550': 323, 'userId350412': 330, 'userId230189': 341, 'userId45211': 349, 'userId13961': 359, 'userId42267': 379, 'userId9915': 387, 'userId16363': 406, 'userId11593': 427, 'userId112132': 451, 'userId2960': 471, 'userId100350': 494, 'userId111157': 516, 'userId15163': 549, 'userId102854': 572, 'userId60953': 618, 'userId3928': 653, 'userId91249': 669, 'userId3122': 729, 'userId16349': 797, 'userId60361': 831, 'userId1813': 1015, 'userId33851': 1138, 'userId24912': 1253, 'userId19697': 1358, 'userId11200': 1449, 'userId3922': 1498, 'userId82': 1645, 'userId5487': 1799, 'userId121080': 1995, 'userId4603': 2088, 'userId8500': 2238, 'userId40724': 2627, 'userId79256': 3180, 'userId90149': 4457, 'userId38223': 8397, 'userId66': 13048, 'userId611': 21854, 'userId2314': 27571, 'userId3249': 42615, 'userId14221': 45837, 'userId1352': 95315}\n",
            "User on correct position:  1\n",
            "User on wrong position:  94\n"
          ]
        }
      ],
      "source": [
        "calculate_order_score(words_overal_jacq_sim, present_user_rep)"
      ]
    },
    {
      "cell_type": "markdown",
      "metadata": {},
      "source": [
        "Cosine similarity"
      ]
    },
    {
      "cell_type": "code",
      "execution_count": 251,
      "metadata": {},
      "outputs": [],
      "source": [
        "words_overal_cos_sim = metrics.get_cosine_sim(user_dict_words, merged_book)"
      ]
    },
    {
      "cell_type": "code",
      "execution_count": 252,
      "metadata": {},
      "outputs": [
        {
          "data": {
            "image/png": "[encoded data removed]",
            "text/plain": [
              "<Figure size 432x288 with 1 Axes>"
            ]
          },
          "metadata": {
            "needs_background": "light"
          },
          "output_type": "display_data"
        }
      ],
      "source": [
        "corr_coef2 = present_user_rep['userId1352']/words_overal_cos_sim['userId1352']\n",
        "scaled_user_rep2 = {key : present_user_rep[key]/corr_coef2 for key in present_user_rep}\n",
        "scaled_cos_rep = {key : int(words_overal_cos_sim[key]*corr_coef2) for key in words_overal_cos_sim}\n",
        "ploting.plot_vals(val_dict1=present_user_rep, val_dict2=scaled_cos_rep, metric_name1=\"Reputation by SE\", metric_name2=\"Reputation by Cosine sim\")"
      ]
    },
    {
      "cell_type": "code",
      "execution_count": 253,
      "metadata": {},
      "outputs": [
        {
          "data": {
            "text/plain": [
              "<matplotlib.axes._subplots.AxesSubplot at 0x279db4447f0>"
            ]
          },
          "execution_count": 253,
          "metadata": {},
          "output_type": "execute_result"
        },
        {
          "data": {
            "image/png": "[encoded data removed]",
            "text/plain": [
              "<Figure size 432x288 with 1 Axes>"
            ]
          },
          "metadata": {
            "needs_background": "light"
          },
          "output_type": "display_data"
        }
      ],
      "source": [
        "np_words_cos_sim = np.array(list(words_overal_cos_sim.values()))\n",
        "\n",
        "sb.scatterplot(np_user_rep, np_words_cos_sim)"
      ]
    },
    {
      "cell_type": "code",
      "execution_count": 254,
      "metadata": {},
      "outputs": [
        {
          "name": "stdout",
          "output_type": "stream",
          "text": [
            "[[1.         0.63660406]\n",
            " [0.63660406 1.        ]]\n"
          ]
        }
      ],
      "source": [
        "my_rho = np.corrcoef(np_user_rep, np_words_cos_sim)\n",
        "print(my_rho)"
      ]
    },
    {
      "cell_type": "code",
      "execution_count": 255,
      "metadata": {},
      "outputs": [
        {
          "name": "stdout",
          "output_type": "stream",
          "text": [
            "{'userId13234': 2.13152, 'userId48295': 2.13152, 'userId110891': 2.57071, 'userId157638': 3.01443, 'userId260000': 3.21339, 'userId3937': 3.76804, 'userId23989': 4.04428, 'userId72086': 4.52164, 'userId23127': 4.99886, 'userId272442': 5.22114, 'userId61822': 5.22114, 'userId16363': 5.24285, 'userId306735': 5.24285, 'userId28154': 5.37905, 'userId48538': 5.39237, 'userId51052': 5.68406, 'userId11937': 6.6668, 'userId43607': 6.72061, 'userId2960': 6.93319, 'userId1641': 7.14934, 'userId311114': 7.14934, 'userId183841': 7.16765, 'userId3766': 7.32353, 'userId42267': 7.38381, 'userId89176': 7.46033, 'userId51329': 7.62597, 'userId186153': 7.705, 'userId220929': 7.83171, 'userId54786': 8.09979, 'userId11912': 8.17238, 'userId215307': 8.31308, 'userId98956': 8.53292, 'userId11593': 8.56154, 'userId74321': 8.86204, 'userId33851': 9.19657, 'userId81711': 9.2366, 'userId102854': 9.43487, 'userId94922': 9.66768, 'userId90621': 9.77368, 'userId24681': 9.90642, 'userId51550': 9.99002, 'userId956': 10.07578, 'userId100350': 10.28674, 'userId5487': 10.35311, 'userId111157': 10.57109, 'userId95671': 11.24687, 'userId73424': 11.45791, 'userId39126': 11.75507, 'userId45211': 11.91374, 'userId230189': 11.97399, 'userId252775': 12.0082, 'userId327416': 12.0082, 'userId49574': 12.23057, 'userId9915': 12.43204, 'userId111302': 13.03157, 'userId227552': 13.17882, 'userId263166': 13.59753, 'userId19697': 13.91359, 'userId155976': 14.06198, 'userId82': 14.48934, 'userId272007': 14.84302, 'userId14361': 15.3495, 'userId112132': 15.36399, 'userId166559': 15.79315, 'userId32447': 15.89508, 'userId350412': 16.35551, 'userId60361': 16.53362, 'userId3922': 17.08079, 'userId36096': 17.18886, 'userId121080': 17.44496, 'userId38223': 18.03277, 'userId106835': 18.09996, 'userId11200': 18.50984, 'userId15163': 18.58291, 'userId34754': 18.85375, 'userId13961': 19.30022, 'userId60953': 19.75275, 'userId3122': 19.75289, 'userId3928': 19.9155, 'userId91249': 20.08933, 'userId24912': 22.29472, 'userId4603': 22.42468, 'userId40724': 22.556, 'userId1813': 25.84121, 'userId66': 29.05058, 'userId146161': 30.39086, 'userId16349': 30.60521, 'userId79256': 31.94792, 'userId8500': 32.9132, 'userId611': 36.84065, 'userId2314': 37.82632, 'userId90149': 43.12788, 'userId3249': 43.20637, 'userId14221': 43.69962, 'userId1352': 44.97902}\n",
            "{'userId1641': 111, 'userId260000': 111, 'userId51052': 111, 'userId81711': 111, 'userId98956': 111, 'userId110891': 116, 'userId89176': 119, 'userId14361': 121, 'userId186153': 121, 'userId23989': 121, 'userId61822': 121, 'userId48538': 123, 'userId24681': 127, 'userId272442': 129, 'userId146161': 131, 'userId220929': 131, 'userId306735': 131, 'userId327416': 131, 'userId90621': 135, 'userId51329': 141, 'userId94922': 141, 'userId49574': 143, 'userId215307': 146, 'userId54786': 149, 'userId23127': 151, 'userId28154': 151, 'userId263166': 154, 'userId48295': 158, 'userId39126': 161, 'userId72086': 161, 'userId157638': 166, 'userId252775': 171, 'userId956': 176, 'userId11912': 181, 'userId166559': 184, 'userId155976': 187, 'userId111302': 195, 'userId43607': 199, 'userId36096': 206, 'userId183841': 211, 'userId74321': 219, 'userId3937': 223, 'userId73424': 231, 'userId227552': 240, 'userId3766': 243, 'userId272007': 251, 'userId311114': 257, 'userId106835': 268, 'userId34754': 273, 'userId95671': 279, 'userId32447': 287, 'userId13234': 301, 'userId11937': 311, 'userId51550': 323, 'userId350412': 330, 'userId230189': 341, 'userId45211': 349, 'userId13961': 359, 'userId42267': 379, 'userId9915': 387, 'userId16363': 406, 'userId11593': 427, 'userId112132': 451, 'userId2960': 471, 'userId100350': 494, 'userId111157': 516, 'userId15163': 549, 'userId102854': 572, 'userId60953': 618, 'userId3928': 653, 'userId91249': 669, 'userId3122': 729, 'userId16349': 797, 'userId60361': 831, 'userId1813': 1015, 'userId33851': 1138, 'userId24912': 1253, 'userId19697': 1358, 'userId11200': 1449, 'userId3922': 1498, 'userId82': 1645, 'userId5487': 1799, 'userId121080': 1995, 'userId4603': 2088, 'userId8500': 2238, 'userId40724': 2627, 'userId79256': 3180, 'userId90149': 4457, 'userId38223': 8397, 'userId66': 13048, 'userId611': 21854, 'userId2314': 27571, 'userId3249': 42615, 'userId14221': 45837, 'userId1352': 95315}\n",
            "User on correct position:  5\n",
            "User on wrong position:  90\n"
          ]
        }
      ],
      "source": [
        "calculate_order_score(words_overal_cos_sim, present_user_rep)"
      ]
    },
    {
      "cell_type": "markdown",
      "metadata": {},
      "source": [
        "Euclidean distance"
      ]
    },
    {
      "cell_type": "code",
      "execution_count": 256,
      "metadata": {},
      "outputs": [],
      "source": [
        "words_overal_euclid_sim = metrics.get_euclid_dis(user_dict, merged_book)"
      ]
    },
    {
      "cell_type": "code",
      "execution_count": 257,
      "metadata": {},
      "outputs": [
        {
          "data": {
            "image/png": "[encoded data removed]",
            "text/plain": [
              "<Figure size 432x288 with 1 Axes>"
            ]
          },
          "metadata": {
            "needs_background": "light"
          },
          "output_type": "display_data"
        }
      ],
      "source": [
        "corr_coef3 = present_user_rep['userId1352']/words_overal_euclid_sim['userId1352']\n",
        "scaled_user_rep3 = {key : present_user_rep[key]/corr_coef3 for key in present_user_rep}\n",
        "scaled_euclid_rep = {key : int(words_overal_euclid_sim[key]*corr_coef3) for key in words_overal_euclid_sim}\n",
        "ploting.plot_vals(val_dict1=present_user_rep, val_dict2=scaled_euclid_rep, metric_name1=\"Reputation by SE\", metric_name2=\"Reputation by Euclidean sim\")"
      ]
    },
    {
      "cell_type": "code",
      "execution_count": 258,
      "metadata": {},
      "outputs": [
        {
          "data": {
            "text/plain": [
              "<matplotlib.axes._subplots.AxesSubplot at 0x279dd8cf0b8>"
            ]
          },
          "execution_count": 258,
          "metadata": {},
          "output_type": "execute_result"
        },
        {
          "data": {
            "image/png": "[encoded data removed]",
            "text/plain": [
              "<Figure size 432x288 with 1 Axes>"
            ]
          },
          "metadata": {
            "needs_background": "light"
          },
          "output_type": "display_data"
        }
      ],
      "source": [
        "np_words_euclid_sim = np.array(list(words_overal_euclid_sim.values()))\n",
        "\n",
        "sb.scatterplot(np_user_rep, np_words_euclid_sim)"
      ]
    },
    {
      "cell_type": "code",
      "execution_count": 259,
      "metadata": {},
      "outputs": [
        {
          "name": "stdout",
          "output_type": "stream",
          "text": [
            "[[1.        0.9811212]\n",
            " [0.9811212 1.       ]]\n"
          ]
        }
      ],
      "source": [
        "my_rho = np.corrcoef(np_user_rep, np_words_euclid_sim)\n",
        "print(my_rho)"
      ]
    },
    {
      "cell_type": "code",
      "execution_count": 260,
      "metadata": {},
      "outputs": [
        {
          "name": "stdout",
          "output_type": "stream",
          "text": [
            "{'userId157638': 46.92547282660026, 'userId48295': 46.93612681080534, 'userId272442': 46.94677837722201, 'userId72086': 46.95742752749558, 'userId13234': 46.968074263269514, 'userId3937': 46.968074263269514, 'userId51052': 46.968074263269514, 'userId260000': 46.97871858618538, 'userId110891': 46.98936049788292, 'userId23989': 46.98936049788292, 'userId48538': 46.98936049788292, 'userId42267': 47.02127178203499, 'userId43607': 47.031904065219386, 'userId89176': 47.031904065219386, 'userId186153': 47.042533945356304, 'userId28154': 47.042533945356304, 'userId51329': 47.042533945356304, 'userId11937': 47.06378650300037, 'userId16363': 47.06378650300037, 'userId1641': 47.06378650300037, 'userId215307': 47.06378650300037, 'userId306735': 47.06378650300037, 'userId311114': 47.07440918375928, 'userId61822': 47.07440918375928, 'userId220929': 47.085029467974216, 'userId23127': 47.095647357266465, 'userId94922': 47.095647357266465, 'userId54786': 47.10626285325551, 'userId33851': 47.11687595755899, 'userId11912': 47.12748667179272, 'userId102854': 47.138094997570704, 'userId74321': 47.138094997570704, 'userId11593': 47.15930449020638, 'userId81711': 47.16990566028302, 'userId183841': 47.20169488482379, 'userId90621': 47.20169488482379, 'userId3766': 47.21228653645151, 'userId98956': 47.24404724407086, 'userId2960': 47.275786614291256, 'userId95671': 47.275786614291256, 'userId5487': 47.30750469005948, 'userId24681': 47.32863826479693, 'userId111157': 47.36032094485847, 'userId39126': 47.36032094485847, 'userId155976': 47.40253157796533, 'userId230189': 47.40253157796533, 'userId51550': 47.41307836451879, 'userId263166': 47.4236228055175, 'userId327416': 47.43416490252569, 'userId956': 47.45524207081869, 'userId252775': 47.49736834815167, 'userId100350': 47.51841748206689, 'userId73424': 47.54997371187496, 'userId49574': 47.57099956906519, 'userId60361': 47.644516998286385, 'userId111302': 47.65501022977542, 'userId112132': 47.66550115125194, 'userId227552': 47.69696007084728, 'userId14361': 47.7283982551269, 'userId350412': 47.81213235152768, 'userId45211': 47.81213235152768, 'userId121080': 47.83304297240559, 'userId19697': 47.843494855622744, 'userId272007': 47.90615826801394, 'userId82': 47.93745925682754, 'userId9915': 47.958315233127195, 'userId166559': 48.02082881417188, 'userId32447': 48.093658625644196, 'userId106835': 48.14561246884289, 'userId36096': 48.176757881783615, 'userId11200': 48.23898838076935, 'userId60953': 48.29078587059855, 'userId13961': 48.36320915737499, 'userId38223': 48.47679857416329, 'userId15163': 48.49742261192856, 'userId34754': 48.507731342539614, 'userId3928': 48.83646178829912, 'userId3922': 49.02040391510457, 'userId24912': 49.20365840057018, 'userId3122': 49.28488612140643, 'userId91249': 49.33558553417604, 'userId40724': 50.48762224545735, 'userId4603': 50.78385570237849, 'userId1813': 52.08646657242167, 'userId146161': 52.69724850502159, 'userId16349': 53.65631370118525, 'userId79256': 55.299186250793966, 'userId8500': 55.90169943749474, 'userId66': 56.19608527290847, 'userId90149': 67.01492371106603, 'userId2314': 67.83804242458652, 'userId611': 71.52621896899066, 'userId14221': 92.22797840135064, 'userId3249': 92.22797840135064, 'userId1352': 144.14229081015745}\n",
            "{'userId1641': 111, 'userId260000': 111, 'userId51052': 111, 'userId81711': 111, 'userId98956': 111, 'userId110891': 116, 'userId89176': 119, 'userId14361': 121, 'userId186153': 121, 'userId23989': 121, 'userId61822': 121, 'userId48538': 123, 'userId24681': 127, 'userId272442': 129, 'userId146161': 131, 'userId220929': 131, 'userId306735': 131, 'userId327416': 131, 'userId90621': 135, 'userId51329': 141, 'userId94922': 141, 'userId49574': 143, 'userId215307': 146, 'userId54786': 149, 'userId23127': 151, 'userId28154': 151, 'userId263166': 154, 'userId48295': 158, 'userId39126': 161, 'userId72086': 161, 'userId157638': 166, 'userId252775': 171, 'userId956': 176, 'userId11912': 181, 'userId166559': 184, 'userId155976': 187, 'userId111302': 195, 'userId43607': 199, 'userId36096': 206, 'userId183841': 211, 'userId74321': 219, 'userId3937': 223, 'userId73424': 231, 'userId227552': 240, 'userId3766': 243, 'userId272007': 251, 'userId311114': 257, 'userId106835': 268, 'userId34754': 273, 'userId95671': 279, 'userId32447': 287, 'userId13234': 301, 'userId11937': 311, 'userId51550': 323, 'userId350412': 330, 'userId230189': 341, 'userId45211': 349, 'userId13961': 359, 'userId42267': 379, 'userId9915': 387, 'userId16363': 406, 'userId11593': 427, 'userId112132': 451, 'userId2960': 471, 'userId100350': 494, 'userId111157': 516, 'userId15163': 549, 'userId102854': 572, 'userId60953': 618, 'userId3928': 653, 'userId91249': 669, 'userId3122': 729, 'userId16349': 797, 'userId60361': 831, 'userId1813': 1015, 'userId33851': 1138, 'userId24912': 1253, 'userId19697': 1358, 'userId11200': 1449, 'userId3922': 1498, 'userId82': 1645, 'userId5487': 1799, 'userId121080': 1995, 'userId4603': 2088, 'userId8500': 2238, 'userId40724': 2627, 'userId79256': 3180, 'userId90149': 4457, 'userId38223': 8397, 'userId66': 13048, 'userId611': 21854, 'userId2314': 27571, 'userId3249': 42615, 'userId14221': 45837, 'userId1352': 95315}\n",
            "User on correct position:  3\n",
            "User on wrong position:  92\n"
          ]
        }
      ],
      "source": [
        "calculate_order_score(words_overal_euclid_sim, present_user_rep)"
      ]
    },
    {
      "cell_type": "markdown",
      "metadata": {},
      "source": [
        "### Enriched model (accepted answers) testing"
      ]
    },
    {
      "cell_type": "code",
      "execution_count": 261,
      "metadata": {},
      "outputs": [
        {
          "name": "stderr",
          "output_type": "stream",
          "text": [
            "100%|██████████| 453/453 [00:37<00:00, 11.83it/s]\n"
          ]
        }
      ],
      "source": [
        "acc_ans_dict = loading_models.get_list_from_file(dir_path=\"D:\\Skola\\Skola-ing\\DP\\data\\parsed_data\\\\acm_accepted_answers\", num_of_files_to_read=453)\n",
        "model_processing_utils.join_tuples_and_lemantize(acc_ans_dict)\n",
        "merged_book = model_processing_utils.merge_models(sections_book_dict)\n",
        "merged_answers = model_processing_utils.merge_models(acc_ans_dict)"
      ]
    },
    {
      "cell_type": "code",
      "execution_count": 262,
      "metadata": {},
      "outputs": [
        {
          "data": {
            "text/plain": [
              "8760"
            ]
          },
          "execution_count": 262,
          "metadata": {},
          "output_type": "execute_result"
        }
      ],
      "source": [
        "len(merged_answers)"
      ]
    },
    {
      "cell_type": "code",
      "execution_count": 263,
      "metadata": {},
      "outputs": [
        {
          "data": {
            "text/plain": [
              "10172"
            ]
          },
          "execution_count": 263,
          "metadata": {},
          "output_type": "execute_result"
        }
      ],
      "source": [
        "len(merged_book)"
      ]
    },
    {
      "cell_type": "code",
      "execution_count": 264,
      "metadata": {},
      "outputs": [],
      "source": [
        "enriched_merged_book = model_processing_utils.merge_into_existing_model(merged_book, merged_answers)"
      ]
    },
    {
      "cell_type": "code",
      "execution_count": 265,
      "metadata": {},
      "outputs": [
        {
          "data": {
            "text/plain": [
              "18570"
            ]
          },
          "execution_count": 265,
          "metadata": {},
          "output_type": "execute_result"
        }
      ],
      "source": [
        "len(enriched_merged_book)"
      ]
    },
    {
      "cell_type": "markdown",
      "metadata": {},
      "source": [
        "#### Phrases"
      ]
    },
    {
      "cell_type": "markdown",
      "metadata": {},
      "source": [
        "Jaccard similarity"
      ]
    },
    {
      "cell_type": "code",
      "execution_count": 266,
      "metadata": {},
      "outputs": [],
      "source": [
        "phrases_overal_jacq_sim = { key : metrics.jaccard_similarity(enriched_merged_book, user_dict[key]) for key in user_dict.keys()}"
      ]
    },
    {
      "cell_type": "code",
      "execution_count": 267,
      "metadata": {},
      "outputs": [
        {
          "data": {
            "text/plain": [
              "4.95459"
            ]
          },
          "execution_count": 267,
          "metadata": {},
          "output_type": "execute_result"
        }
      ],
      "source": [
        "phrases_overal_jacq_sim['userId1352']"
      ]
    },
    {
      "cell_type": "code",
      "execution_count": 268,
      "metadata": {},
      "outputs": [
        {
          "data": {
            "image/png": "[encoded data removed]",
            "text/plain": [
              "<Figure size 432x288 with 1 Axes>"
            ]
          },
          "metadata": {
            "needs_background": "light"
          },
          "output_type": "display_data"
        }
      ],
      "source": [
        "corr_coef = present_user_rep['userId1352']/phrases_overal_jacq_sim['userId1352']\n",
        "scaled_user_rep = {key : present_user_rep[key]/corr_coef for key in present_user_rep}\n",
        "scaled_jacc_rep = {key : int(phrases_overal_jacq_sim[key]*corr_coef) for key in phrases_overal_jacq_sim}\n",
        "ploting.plot_vals(val_dict1=present_user_rep, val_dict2=scaled_jacc_rep, metric_name1=\"Reputation by SE\", metric_name2=\"Reputation by Jaccard\")"
      ]
    },
    {
      "cell_type": "code",
      "execution_count": 269,
      "metadata": {},
      "outputs": [
        {
          "data": {
            "text/plain": [
              "<matplotlib.axes._subplots.AxesSubplot at 0x279da873470>"
            ]
          },
          "execution_count": 269,
          "metadata": {},
          "output_type": "execute_result"
        },
        {
          "data": {
            "image/png": "[encoded data removed]",
            "text/plain": [
              "<Figure size 432x288 with 1 Axes>"
            ]
          },
          "metadata": {
            "needs_background": "light"
          },
          "output_type": "display_data"
        }
      ],
      "source": [
        "np_user_rep = np.array(list(present_user_rep.values()))\n",
        "np_phrases_jacq_sim = np.array(list(phrases_overal_jacq_sim.values()))\n",
        "\n",
        "sb.scatterplot(np_user_rep, np_phrases_jacq_sim)"
      ]
    },
    {
      "cell_type": "code",
      "execution_count": 270,
      "metadata": {},
      "outputs": [
        {
          "name": "stdout",
          "output_type": "stream",
          "text": [
            "[[1.         0.95781543]\n",
            " [0.95781543 1.        ]]\n"
          ]
        }
      ],
      "source": [
        "my_rho = np.corrcoef(np_user_rep, np_phrases_jacq_sim)\n",
        "print(my_rho)"
      ]
    },
    {
      "cell_type": "code",
      "execution_count": 271,
      "metadata": {},
      "outputs": [
        {
          "name": "stdout",
          "output_type": "stream",
          "text": [
            "{'userId13234': 0.0, 'userId23127': 0.0, 'userId260000': 0.0, 'userId311114': 0.0, 'userId3937': 0.0, 'userId48295': 0.0, 'userId51329': 0.0, 'userId102854': 0.00538, 'userId110891': 0.00538, 'userId11912': 0.00538, 'userId272442': 0.00538, 'userId51052': 0.00538, 'userId72086': 0.00538, 'userId157638': 0.00539, 'userId230189': 0.01074, 'userId11937': 0.01076, 'userId1641': 0.01076, 'userId183841': 0.01076, 'userId220929': 0.01076, 'userId3766': 0.01076, 'userId43607': 0.01076, 'userId54786': 0.01076, 'userId74321': 0.01076, 'userId81711': 0.01076, 'userId89176': 0.01076, 'userId90621': 0.01076, 'userId24681': 0.01612, 'userId2960': 0.01613, 'userId11593': 0.01614, 'userId61822': 0.01614, 'userId94922': 0.01614, 'userId16363': 0.01615, 'userId215307': 0.01615, 'userId28154': 0.01615, 'userId306735': 0.01615, 'userId48538': 0.01615, 'userId45211': 0.02145, 'userId73424': 0.02147, 'userId111157': 0.0215, 'userId5487': 0.0215, 'userId186153': 0.02153, 'userId252775': 0.02685, 'userId263166': 0.02686, 'userId23989': 0.02692, 'userId42267': 0.02692, 'userId49574': 0.03221, 'userId956': 0.03223, 'userId98956': 0.03227, 'userId51550': 0.03761, 'userId155976': 0.03762, 'userId39126': 0.03762, 'userId33851': 0.03767, 'userId95671': 0.04302, 'userId9915': 0.04823, 'userId327416': 0.05373, 'userId227552': 0.05904, 'userId60361': 0.05905, 'userId36096': 0.06425, 'userId272007': 0.0697, 'userId111302': 0.06979, 'userId100350': 0.06984, 'userId166559': 0.07502, 'userId350412': 0.07509, 'userId112132': 0.08052, 'userId13961': 0.09095, 'userId121080': 0.09119, 'userId38223': 0.09625, 'userId11200': 0.09637, 'userId19697': 0.09657, 'userId14361': 0.09662, 'userId3928': 0.1014, 'userId3122': 0.10649, 'userId24912': 0.10654, 'userId15163': 0.11765, 'userId34754': 0.123, 'userId106835': 0.12323, 'userId91249': 0.1278, 'userId60953': 0.13383, 'userId82': 0.13948, 'userId32447': 0.15547, 'userId3922': 0.18144, 'userId40724': 0.19063, 'userId4603': 0.21681, 'userId146161': 0.23549, 'userId1813': 0.41561, 'userId8500': 0.55673, 'userId66': 0.57649, 'userId16349': 0.61132, 'userId79256': 0.62121, 'userId90149': 1.34336, 'userId2314': 1.42733, 'userId611': 2.20271, 'userId3249': 2.88908, 'userId14221': 3.4877, 'userId1352': 4.95459}\n",
            "{'userId1641': 111, 'userId260000': 111, 'userId51052': 111, 'userId81711': 111, 'userId98956': 111, 'userId110891': 116, 'userId89176': 119, 'userId14361': 121, 'userId186153': 121, 'userId23989': 121, 'userId61822': 121, 'userId48538': 123, 'userId24681': 127, 'userId272442': 129, 'userId146161': 131, 'userId220929': 131, 'userId306735': 131, 'userId327416': 131, 'userId90621': 135, 'userId51329': 141, 'userId94922': 141, 'userId49574': 143, 'userId215307': 146, 'userId54786': 149, 'userId23127': 151, 'userId28154': 151, 'userId263166': 154, 'userId48295': 158, 'userId39126': 161, 'userId72086': 161, 'userId157638': 166, 'userId252775': 171, 'userId956': 176, 'userId11912': 181, 'userId166559': 184, 'userId155976': 187, 'userId111302': 195, 'userId43607': 199, 'userId36096': 206, 'userId183841': 211, 'userId74321': 219, 'userId3937': 223, 'userId73424': 231, 'userId227552': 240, 'userId3766': 243, 'userId272007': 251, 'userId311114': 257, 'userId106835': 268, 'userId34754': 273, 'userId95671': 279, 'userId32447': 287, 'userId13234': 301, 'userId11937': 311, 'userId51550': 323, 'userId350412': 330, 'userId230189': 341, 'userId45211': 349, 'userId13961': 359, 'userId42267': 379, 'userId9915': 387, 'userId16363': 406, 'userId11593': 427, 'userId112132': 451, 'userId2960': 471, 'userId100350': 494, 'userId111157': 516, 'userId15163': 549, 'userId102854': 572, 'userId60953': 618, 'userId3928': 653, 'userId91249': 669, 'userId3122': 729, 'userId16349': 797, 'userId60361': 831, 'userId1813': 1015, 'userId33851': 1138, 'userId24912': 1253, 'userId19697': 1358, 'userId11200': 1449, 'userId3922': 1498, 'userId82': 1645, 'userId5487': 1799, 'userId121080': 1995, 'userId4603': 2088, 'userId8500': 2238, 'userId40724': 2627, 'userId79256': 3180, 'userId90149': 4457, 'userId38223': 8397, 'userId66': 13048, 'userId611': 21854, 'userId2314': 27571, 'userId3249': 42615, 'userId14221': 45837, 'userId1352': 95315}\n",
            "User on correct position:  4\n",
            "User on wrong position:  91\n"
          ]
        }
      ],
      "source": [
        "calculate_order_score(phrases_overal_jacq_sim, present_user_rep)"
      ]
    },
    {
      "cell_type": "markdown",
      "metadata": {},
      "source": [
        "Cosine similarity"
      ]
    },
    {
      "cell_type": "code",
      "execution_count": 272,
      "metadata": {},
      "outputs": [
        {
          "data": {
            "image/png": "[encoded data removed]",
            "text/plain": [
              "<Figure size 432x288 with 1 Axes>"
            ]
          },
          "metadata": {
            "needs_background": "light"
          },
          "output_type": "display_data"
        }
      ],
      "source": [
        "phrases_overal_cos_sim = metrics.get_cosine_sim(user_dict, enriched_merged_book)\n",
        "\n",
        "corr_coef2 = present_user_rep['userId1352']/phrases_overal_cos_sim['userId1352']\n",
        "scaled_user_rep2 = {key : present_user_rep[key]/corr_coef2 for key in present_user_rep}\n",
        "scaled_cos_rep = {key : int(phrases_overal_cos_sim[key]*corr_coef2) for key in phrases_overal_cos_sim}\n",
        "ploting.plot_vals(val_dict1=present_user_rep, val_dict2=scaled_cos_rep, metric_name1=\"Reputation by SE\", metric_name2=\"Reputation by Cosine sim\")"
      ]
    },
    {
      "cell_type": "code",
      "execution_count": 273,
      "metadata": {},
      "outputs": [
        {
          "data": {
            "text/plain": [
              "<matplotlib.axes._subplots.AxesSubplot at 0x279db856128>"
            ]
          },
          "execution_count": 273,
          "metadata": {},
          "output_type": "execute_result"
        },
        {
          "data": {
            "image/png": "[encoded data removed]",
            "text/plain": [
              "<Figure size 432x288 with 1 Axes>"
            ]
          },
          "metadata": {
            "needs_background": "light"
          },
          "output_type": "display_data"
        }
      ],
      "source": [
        "np_cos_sim = np.array(list(phrases_overal_cos_sim.values()))\n",
        "sb.scatterplot(np_user_rep, np_cos_sim)"
      ]
    },
    {
      "cell_type": "code",
      "execution_count": 274,
      "metadata": {},
      "outputs": [
        {
          "name": "stdout",
          "output_type": "stream",
          "text": [
            "[[1.         0.86927353]\n",
            " [0.86927353 1.        ]]\n"
          ]
        }
      ],
      "source": [
        "my_rho = np.corrcoef(np_user_rep, np_cos_sim)\n",
        "print(my_rho)"
      ]
    },
    {
      "cell_type": "code",
      "execution_count": 275,
      "metadata": {},
      "outputs": [
        {
          "name": "stdout",
          "output_type": "stream",
          "text": [
            "{'userId13234': 0.0, 'userId23127': 0.0, 'userId260000': 0.0, 'userId311114': 0.0, 'userId3937': 0.0, 'userId48295': 0.0, 'userId51329': 0.0, 'userId102854': 0.16013, 'userId11912': 0.16409, 'userId230189': 0.21639, 'userId110891': 0.27736, 'userId3766': 0.27736, 'userId183841': 0.28245, 'userId90621': 0.28245, 'userId81711': 0.29958, 'userId45211': 0.31838, 'userId74321': 0.32027, 'userId51052': 0.32818, 'userId54786': 0.34593, 'userId24681': 0.35252, 'userId220929': 0.36691, 'userId72086': 0.36691, 'userId2960': 0.37755, 'userId73424': 0.37895, 'userId11937': 0.39225, 'userId1641': 0.39225, 'userId272442': 0.42368, 'userId43607': 0.44251, 'userId89176': 0.44251, 'userId111157': 0.45293, 'userId11593': 0.45904, 'userId5487': 0.48256, 'userId252775': 0.49475, 'userId263166': 0.52959, 'userId94922': 0.53394, 'userId49574': 0.55918, 'userId61822': 0.56842, 'userId16363': 0.58837, 'userId215307': 0.58837, 'userId306735': 0.58837, 'userId956': 0.61654, 'userId28154': 0.63551, 'userId9915': 0.66377, 'userId157638': 0.73383, 'userId51550': 0.74928, 'userId155976': 0.75738, 'userId98956': 0.7908, 'userId39126': 0.79262, 'userId36096': 0.80387, 'userId48538': 0.83208, 'userId186153': 0.84735, 'userId227552': 0.93836, 'userId60361': 0.97177, 'userId3122': 0.97198, 'userId272007': 0.98395, 'userId24912': 0.98949, 'userId166559': 1.0026, 'userId95671': 1.0068, 'userId3928': 1.02787, 'userId327416': 1.04833, 'userId13961': 1.06195, 'userId38223': 1.08212, 'userId350412': 1.11433, 'userId111302': 1.14022, 'userId91249': 1.15379, 'userId42267': 1.16028, 'userId11200': 1.17674, 'userId33851': 1.17846, 'userId100350': 1.26357, 'userId112132': 1.30634, 'userId15163': 1.3138, 'userId121080': 1.33747, 'userId34754': 1.36899, 'userId146161': 1.37593, 'userId23989': 1.3868, 'userId19697': 1.40807, 'userId40724': 1.41614, 'userId14361': 1.50529, 'userId4603': 1.5475, 'userId106835': 1.56037, 'userId60953': 1.60287, 'userId3922': 1.75549, 'userId82': 1.93723, 'userId32447': 2.01087, 'userId1813': 2.56204, 'userId8500': 2.60724, 'userId66': 2.65678, 'userId79256': 3.00805, 'userId16349': 3.29735, 'userId90149': 4.24772, 'userId2314': 4.43292, 'userId611': 6.30656, 'userId3249': 6.49691, 'userId14221': 7.80923, 'userId1352': 9.75071}\n",
            "{'userId1641': 111, 'userId260000': 111, 'userId51052': 111, 'userId81711': 111, 'userId98956': 111, 'userId110891': 116, 'userId89176': 119, 'userId14361': 121, 'userId186153': 121, 'userId23989': 121, 'userId61822': 121, 'userId48538': 123, 'userId24681': 127, 'userId272442': 129, 'userId146161': 131, 'userId220929': 131, 'userId306735': 131, 'userId327416': 131, 'userId90621': 135, 'userId51329': 141, 'userId94922': 141, 'userId49574': 143, 'userId215307': 146, 'userId54786': 149, 'userId23127': 151, 'userId28154': 151, 'userId263166': 154, 'userId48295': 158, 'userId39126': 161, 'userId72086': 161, 'userId157638': 166, 'userId252775': 171, 'userId956': 176, 'userId11912': 181, 'userId166559': 184, 'userId155976': 187, 'userId111302': 195, 'userId43607': 199, 'userId36096': 206, 'userId183841': 211, 'userId74321': 219, 'userId3937': 223, 'userId73424': 231, 'userId227552': 240, 'userId3766': 243, 'userId272007': 251, 'userId311114': 257, 'userId106835': 268, 'userId34754': 273, 'userId95671': 279, 'userId32447': 287, 'userId13234': 301, 'userId11937': 311, 'userId51550': 323, 'userId350412': 330, 'userId230189': 341, 'userId45211': 349, 'userId13961': 359, 'userId42267': 379, 'userId9915': 387, 'userId16363': 406, 'userId11593': 427, 'userId112132': 451, 'userId2960': 471, 'userId100350': 494, 'userId111157': 516, 'userId15163': 549, 'userId102854': 572, 'userId60953': 618, 'userId3928': 653, 'userId91249': 669, 'userId3122': 729, 'userId16349': 797, 'userId60361': 831, 'userId1813': 1015, 'userId33851': 1138, 'userId24912': 1253, 'userId19697': 1358, 'userId11200': 1449, 'userId3922': 1498, 'userId82': 1645, 'userId5487': 1799, 'userId121080': 1995, 'userId4603': 2088, 'userId8500': 2238, 'userId40724': 2627, 'userId79256': 3180, 'userId90149': 4457, 'userId38223': 8397, 'userId66': 13048, 'userId611': 21854, 'userId2314': 27571, 'userId3249': 42615, 'userId14221': 45837, 'userId1352': 95315}\n",
            "User on correct position:  3\n",
            "User on wrong position:  92\n"
          ]
        }
      ],
      "source": [
        "calculate_order_score(phrases_overal_cos_sim, present_user_rep)"
      ]
    },
    {
      "cell_type": "markdown",
      "metadata": {},
      "source": [
        "Euclidean distance"
      ]
    },
    {
      "cell_type": "code",
      "execution_count": 276,
      "metadata": {},
      "outputs": [
        {
          "data": {
            "image/png": "[encoded data removed]",
            "text/plain": [
              "<Figure size 432x288 with 1 Axes>"
            ]
          },
          "metadata": {
            "needs_background": "light"
          },
          "output_type": "display_data"
        }
      ],
      "source": [
        "phrases_overal_euclid_sim = metrics.get_euclid_dis(user_dict, enriched_merged_book)\n",
        "\n",
        "corr_coef3 = present_user_rep['userId1352']/phrases_overal_euclid_sim['userId1352']\n",
        "scaled_user_rep3 = {key : present_user_rep[key]/corr_coef3 for key in present_user_rep}\n",
        "scaled_euclid_rep = {key : int(phrases_overal_euclid_sim[key]*corr_coef3) for key in phrases_overal_euclid_sim}\n",
        "ploting.plot_vals(val_dict1=present_user_rep, val_dict2=scaled_euclid_rep, metric_name1=\"Reputation by SE\", metric_name2=\"Reputation by Euclidean sim\")"
      ]
    },
    {
      "cell_type": "code",
      "execution_count": 277,
      "metadata": {},
      "outputs": [
        {
          "data": {
            "text/plain": [
              "<matplotlib.axes._subplots.AxesSubplot at 0x279dd651f28>"
            ]
          },
          "execution_count": 277,
          "metadata": {},
          "output_type": "execute_result"
        },
        {
          "data": {
            "image/png": "[encoded data removed]",
            "text/plain": [
              "<Figure size 432x288 with 1 Axes>"
            ]
          },
          "metadata": {
            "needs_background": "light"
          },
          "output_type": "display_data"
        }
      ],
      "source": [
        "np_euclidean_sim = np.array(list(phrases_overal_euclid_sim.values()))\n",
        "\n",
        "sb.scatterplot(np_user_rep, np_euclidean_sim)"
      ]
    },
    {
      "cell_type": "code",
      "execution_count": 278,
      "metadata": {},
      "outputs": [
        {
          "name": "stdout",
          "output_type": "stream",
          "text": [
            "[[1.         0.97554046]\n",
            " [0.97554046 1.        ]]\n"
          ]
        }
      ],
      "source": [
        "my_rho = np.corrcoef(np_user_rep, np_euclidean_sim)\n",
        "print(my_rho)"
      ]
    },
    {
      "cell_type": "code",
      "execution_count": 279,
      "metadata": {},
      "outputs": [
        {
          "name": "stdout",
          "output_type": "stream",
          "text": [
            "{'userId23989': 136.26077939010918, 'userId157638': 136.26811806141598, 'userId42267': 136.27178724886528, 'userId272442': 136.27545633752248, 'userId48538': 136.27545633752248, 'userId48295': 136.2791253273956, 'userId72086': 136.2791253273956, 'userId51052': 136.2827942184926, 'userId186153': 136.28646301082145, 'userId110891': 136.2901317043901, 'userId13234': 136.2901317043901, 'userId33851': 136.2901317043901, 'userId3937': 136.2901317043901, 'userId260000': 136.29380029920657, 'userId28154': 136.29380029920657, 'userId43607': 136.2974687952788, 'userId89176': 136.2974687952788, 'userId16363': 136.3011371926148, 'userId215307': 136.3011371926148, 'userId306735': 136.3011371926148, 'userId61822': 136.3048054912225, 'userId11937': 136.3084736911099, 'userId1641': 136.3084736911099, 'userId94922': 136.31214179228496, 'userId220929': 136.31580979475564, 'userId51329': 136.31580979475564, 'userId54786': 136.3231455036158, 'userId311114': 136.32681321002116, 'userId11593': 136.33414832682237, 'userId23127': 136.33414832682237, 'userId74321': 136.33414832682237, 'userId11912': 136.3378157372341, 'userId95671': 136.3378157372341, 'userId102854': 136.34148304899725, 'userId98956': 136.34148304899725, 'userId81711': 136.3451502621197, 'userId183841': 136.35615130972272, 'userId90621': 136.35615130972272, 'userId3766': 136.35981812836215, 'userId2960': 136.37448441699055, 'userId39126': 136.37448441699055, 'userId327416': 136.37815074270512, 'userId5487': 136.37815074270512, 'userId100350': 136.38548309845882, 'userId155976': 136.38914912851388, 'userId24681': 136.39281506003167, 'userId51550': 136.39281506003167, 'userId111157': 136.3964808930201, 'userId263166': 136.41114323983948, 'userId956': 136.4148085803004, 'userId112132': 136.42213896578517, 'userId14361': 136.42213896578517, 'userId230189': 136.42580401082486, 'userId111302': 136.4331338055386, 'userId252775': 136.4367985552285, 'userId82': 136.4367985552285, 'userId60361': 136.444127759314, 'userId49574': 136.4551208273255, 'userId19697': 136.46244904734783, 'userId227552': 136.46244904734783, 'userId73424': 136.46244904734783, 'userId121080': 136.46611300978716, 'userId32447': 136.46977687385584, 'userId350412': 136.48076787591722, 'userId272007': 136.52106064633398, 'userId106835': 136.53204751998703, 'userId166559': 136.55401861534503, 'userId45211': 136.55401861534503, 'userId60953': 136.5686640485291, 'userId9915': 136.5686640485291, 'userId11200': 136.60161053223348, 'userId36096': 136.6235704408284, 'userId13961': 136.65284482951682, 'userId34754': 136.66016244685207, 'userId15163': 136.66382110858748, 'userId38223': 136.68577102244404, 'userId3922': 136.76256797823007, 'userId3928': 136.8064325973015, 'userId24912': 136.93063937629154, 'userId91249': 136.94889557787604, 'userId3122': 136.9598481307569, 'userId40724': 137.2807342637706, 'userId4603': 137.35355838128112, 'userId1813': 137.56453031214116, 'userId16349': 137.89126150702953, 'userId146161': 138.04347141389917, 'userId79256': 138.51714695300362, 'userId8500': 138.84523758487362, 'userId66': 138.93523671121017, 'userId90149': 142.49912280431764, 'userId2314': 142.755034937476, 'userId611': 143.37712509323097, 'userId14221': 152.26621424334422, 'userId3249': 153.19595294915595, 'userId1352': 183.09560344257315}\n",
            "{'userId1641': 111, 'userId260000': 111, 'userId51052': 111, 'userId81711': 111, 'userId98956': 111, 'userId110891': 116, 'userId89176': 119, 'userId14361': 121, 'userId186153': 121, 'userId23989': 121, 'userId61822': 121, 'userId48538': 123, 'userId24681': 127, 'userId272442': 129, 'userId146161': 131, 'userId220929': 131, 'userId306735': 131, 'userId327416': 131, 'userId90621': 135, 'userId51329': 141, 'userId94922': 141, 'userId49574': 143, 'userId215307': 146, 'userId54786': 149, 'userId23127': 151, 'userId28154': 151, 'userId263166': 154, 'userId48295': 158, 'userId39126': 161, 'userId72086': 161, 'userId157638': 166, 'userId252775': 171, 'userId956': 176, 'userId11912': 181, 'userId166559': 184, 'userId155976': 187, 'userId111302': 195, 'userId43607': 199, 'userId36096': 206, 'userId183841': 211, 'userId74321': 219, 'userId3937': 223, 'userId73424': 231, 'userId227552': 240, 'userId3766': 243, 'userId272007': 251, 'userId311114': 257, 'userId106835': 268, 'userId34754': 273, 'userId95671': 279, 'userId32447': 287, 'userId13234': 301, 'userId11937': 311, 'userId51550': 323, 'userId350412': 330, 'userId230189': 341, 'userId45211': 349, 'userId13961': 359, 'userId42267': 379, 'userId9915': 387, 'userId16363': 406, 'userId11593': 427, 'userId112132': 451, 'userId2960': 471, 'userId100350': 494, 'userId111157': 516, 'userId15163': 549, 'userId102854': 572, 'userId60953': 618, 'userId3928': 653, 'userId91249': 669, 'userId3122': 729, 'userId16349': 797, 'userId60361': 831, 'userId1813': 1015, 'userId33851': 1138, 'userId24912': 1253, 'userId19697': 1358, 'userId11200': 1449, 'userId3922': 1498, 'userId82': 1645, 'userId5487': 1799, 'userId121080': 1995, 'userId4603': 2088, 'userId8500': 2238, 'userId40724': 2627, 'userId79256': 3180, 'userId90149': 4457, 'userId38223': 8397, 'userId66': 13048, 'userId611': 21854, 'userId2314': 27571, 'userId3249': 42615, 'userId14221': 45837, 'userId1352': 95315}\n",
            "User on correct position:  4\n",
            "User on wrong position:  91\n"
          ]
        }
      ],
      "source": [
        "calculate_order_score(phrases_overal_euclid_sim, present_user_rep)"
      ]
    },
    {
      "cell_type": "markdown",
      "metadata": {},
      "source": [
        "#### Words"
      ]
    },
    {
      "cell_type": "code",
      "execution_count": 280,
      "metadata": {},
      "outputs": [],
      "source": [
        "user_dict_words = model_processing_utils.join_phrases_into_words(user_dict, \"users\")\n",
        "enriched_merged_book = model_processing_utils.join_phrases_into_words(enriched_merged_book)"
      ]
    },
    {
      "cell_type": "markdown",
      "metadata": {},
      "source": [
        "Jaccard similarity"
      ]
    },
    {
      "cell_type": "code",
      "execution_count": 281,
      "metadata": {},
      "outputs": [],
      "source": [
        "words_overal_jacq_sim = { key : metrics.jaccard_similarity(enriched_merged_book, user_dict_words[key]) for key in user_dict_words.keys()}"
      ]
    },
    {
      "cell_type": "code",
      "execution_count": 282,
      "metadata": {},
      "outputs": [
        {
          "data": {
            "image/png": "[encoded data removed]",
            "text/plain": [
              "<Figure size 432x288 with 1 Axes>"
            ]
          },
          "metadata": {
            "needs_background": "light"
          },
          "output_type": "display_data"
        }
      ],
      "source": [
        "corr_coef = present_user_rep['userId1352']/words_overal_jacq_sim['userId1352']\n",
        "scaled_user_rep = {key : present_user_rep[key]/corr_coef for key in present_user_rep}\n",
        "scaled_jacc_rep = {key : words_overal_jacq_sim[key]*corr_coef for key in words_overal_jacq_sim}\n",
        "ploting.plot_vals(val_dict1=present_user_rep, val_dict2=scaled_jacc_rep, metric_name1=\"Reputation by SE\", metric_name2=\"Reputation by Jaccard sim\")"
      ]
    },
    {
      "cell_type": "code",
      "execution_count": 283,
      "metadata": {},
      "outputs": [
        {
          "data": {
            "text/plain": [
              "<matplotlib.axes._subplots.AxesSubplot at 0x279dda2be10>"
            ]
          },
          "execution_count": 283,
          "metadata": {},
          "output_type": "execute_result"
        },
        {
          "data": {
            "image/png": "[encoded data removed]",
            "text/plain": [
              "<Figure size 432x288 with 1 Axes>"
            ]
          },
          "metadata": {
            "needs_background": "light"
          },
          "output_type": "display_data"
        }
      ],
      "source": [
        "np_words_jacq_sim = np.array(list(words_overal_jacq_sim.values()))\n",
        "\n",
        "sb.scatterplot(np_user_rep, np_words_jacq_sim)"
      ]
    },
    {
      "cell_type": "code",
      "execution_count": 284,
      "metadata": {},
      "outputs": [
        {
          "name": "stdout",
          "output_type": "stream",
          "text": [
            "[[1.         0.78537306]\n",
            " [0.78537306 1.        ]]\n"
          ]
        }
      ],
      "source": [
        "my_rho = np.corrcoef(np_user_rep, np_words_jacq_sim)\n",
        "print(my_rho)"
      ]
    },
    {
      "cell_type": "code",
      "execution_count": 285,
      "metadata": {},
      "outputs": [
        {
          "name": "stdout",
          "output_type": "stream",
          "text": [
            "{'userId13234': 2.13152, 'userId48295': 2.13152, 'userId110891': 2.57071, 'userId157638': 3.01443, 'userId260000': 3.21339, 'userId3937': 3.76804, 'userId23989': 4.04428, 'userId72086': 4.52164, 'userId23127': 4.99886, 'userId272442': 5.22114, 'userId61822': 5.22114, 'userId16363': 5.24285, 'userId306735': 5.24285, 'userId28154': 5.37905, 'userId48538': 5.39237, 'userId51052': 5.68406, 'userId11937': 6.6668, 'userId43607': 6.72061, 'userId2960': 6.93319, 'userId1641': 7.14934, 'userId311114': 7.14934, 'userId183841': 7.16765, 'userId3766': 7.32353, 'userId42267': 7.38381, 'userId89176': 7.46033, 'userId51329': 7.62597, 'userId186153': 7.705, 'userId220929': 7.83171, 'userId54786': 8.09979, 'userId11912': 8.17238, 'userId215307': 8.31308, 'userId98956': 8.53292, 'userId11593': 8.56154, 'userId74321': 8.86204, 'userId33851': 9.19657, 'userId81711': 9.2366, 'userId102854': 9.43487, 'userId94922': 9.66768, 'userId90621': 9.77368, 'userId24681': 9.90642, 'userId51550': 9.99002, 'userId956': 10.07578, 'userId100350': 10.28674, 'userId5487': 10.35311, 'userId111157': 10.57109, 'userId95671': 11.24687, 'userId73424': 11.45791, 'userId39126': 11.75507, 'userId45211': 11.91374, 'userId230189': 11.97399, 'userId252775': 12.0082, 'userId327416': 12.0082, 'userId49574': 12.23057, 'userId9915': 12.43204, 'userId111302': 13.03157, 'userId227552': 13.17882, 'userId263166': 13.59753, 'userId19697': 13.91359, 'userId155976': 14.06198, 'userId82': 14.48934, 'userId272007': 14.84302, 'userId14361': 15.3495, 'userId112132': 15.36399, 'userId166559': 15.79315, 'userId32447': 15.89508, 'userId350412': 16.35551, 'userId60361': 16.53362, 'userId3922': 17.08079, 'userId36096': 17.18886, 'userId121080': 17.44496, 'userId38223': 18.03277, 'userId106835': 18.09996, 'userId11200': 18.50984, 'userId15163': 18.58291, 'userId34754': 18.85375, 'userId13961': 19.30022, 'userId60953': 19.75275, 'userId3122': 19.75289, 'userId3928': 19.9155, 'userId91249': 20.08933, 'userId24912': 22.29472, 'userId4603': 22.42468, 'userId40724': 22.556, 'userId1813': 25.84121, 'userId66': 29.05058, 'userId146161': 30.39086, 'userId16349': 30.60521, 'userId79256': 31.94792, 'userId8500': 32.9132, 'userId611': 36.84065, 'userId2314': 37.82632, 'userId90149': 43.12788, 'userId3249': 43.20637, 'userId14221': 43.69962, 'userId1352': 44.97902}\n",
            "{'userId1641': 111, 'userId260000': 111, 'userId51052': 111, 'userId81711': 111, 'userId98956': 111, 'userId110891': 116, 'userId89176': 119, 'userId14361': 121, 'userId186153': 121, 'userId23989': 121, 'userId61822': 121, 'userId48538': 123, 'userId24681': 127, 'userId272442': 129, 'userId146161': 131, 'userId220929': 131, 'userId306735': 131, 'userId327416': 131, 'userId90621': 135, 'userId51329': 141, 'userId94922': 141, 'userId49574': 143, 'userId215307': 146, 'userId54786': 149, 'userId23127': 151, 'userId28154': 151, 'userId263166': 154, 'userId48295': 158, 'userId39126': 161, 'userId72086': 161, 'userId157638': 166, 'userId252775': 171, 'userId956': 176, 'userId11912': 181, 'userId166559': 184, 'userId155976': 187, 'userId111302': 195, 'userId43607': 199, 'userId36096': 206, 'userId183841': 211, 'userId74321': 219, 'userId3937': 223, 'userId73424': 231, 'userId227552': 240, 'userId3766': 243, 'userId272007': 251, 'userId311114': 257, 'userId106835': 268, 'userId34754': 273, 'userId95671': 279, 'userId32447': 287, 'userId13234': 301, 'userId11937': 311, 'userId51550': 323, 'userId350412': 330, 'userId230189': 341, 'userId45211': 349, 'userId13961': 359, 'userId42267': 379, 'userId9915': 387, 'userId16363': 406, 'userId11593': 427, 'userId112132': 451, 'userId2960': 471, 'userId100350': 494, 'userId111157': 516, 'userId15163': 549, 'userId102854': 572, 'userId60953': 618, 'userId3928': 653, 'userId91249': 669, 'userId3122': 729, 'userId16349': 797, 'userId60361': 831, 'userId1813': 1015, 'userId33851': 1138, 'userId24912': 1253, 'userId19697': 1358, 'userId11200': 1449, 'userId3922': 1498, 'userId82': 1645, 'userId5487': 1799, 'userId121080': 1995, 'userId4603': 2088, 'userId8500': 2238, 'userId40724': 2627, 'userId79256': 3180, 'userId90149': 4457, 'userId38223': 8397, 'userId66': 13048, 'userId611': 21854, 'userId2314': 27571, 'userId3249': 42615, 'userId14221': 45837, 'userId1352': 95315}\n",
            "User on correct position:  5\n",
            "User on wrong position:  90\n"
          ]
        }
      ],
      "source": [
        "calculate_order_score(words_overal_cos_sim, present_user_rep)"
      ]
    },
    {
      "cell_type": "markdown",
      "metadata": {},
      "source": [
        "Cosine similarity"
      ]
    },
    {
      "cell_type": "code",
      "execution_count": 286,
      "metadata": {},
      "outputs": [],
      "source": [
        "words_overal_cos_sim = metrics.get_cosine_sim(user_dict_words, enriched_merged_book)"
      ]
    },
    {
      "cell_type": "code",
      "execution_count": 287,
      "metadata": {},
      "outputs": [
        {
          "data": {
            "image/png": "[encoded data removed]",
            "text/plain": [
              "<Figure size 432x288 with 1 Axes>"
            ]
          },
          "metadata": {
            "needs_background": "light"
          },
          "output_type": "display_data"
        }
      ],
      "source": [
        "corr_coef2 = present_user_rep['userId1352']/words_overal_cos_sim['userId1352']\n",
        "scaled_user_rep2 = {key : present_user_rep[key]/corr_coef2 for key in present_user_rep}\n",
        "scaled_cos_rep = {key : int(words_overal_cos_sim[key]*corr_coef2) for key in words_overal_cos_sim}\n",
        "ploting.plot_vals(val_dict1=present_user_rep, val_dict2=scaled_cos_rep, metric_name1=\"Reputation by SE\", metric_name2=\"Reputation by Cosine sim\")"
      ]
    },
    {
      "cell_type": "code",
      "execution_count": 288,
      "metadata": {},
      "outputs": [
        {
          "data": {
            "text/plain": [
              "<matplotlib.axes._subplots.AxesSubplot at 0x279db1ae0f0>"
            ]
          },
          "execution_count": 288,
          "metadata": {},
          "output_type": "execute_result"
        },
        {
          "data": {
            "image/png": "[encoded data removed]",
            "text/plain": [
              "<Figure size 432x288 with 1 Axes>"
            ]
          },
          "metadata": {
            "needs_background": "light"
          },
          "output_type": "display_data"
        }
      ],
      "source": [
        "np_words_cos_sim = np.array(list(words_overal_cos_sim.values()))\n",
        "\n",
        "sb.scatterplot(np_user_rep, np_words_cos_sim)"
      ]
    },
    {
      "cell_type": "code",
      "execution_count": 289,
      "metadata": {},
      "outputs": [
        {
          "name": "stdout",
          "output_type": "stream",
          "text": [
            "[[1.         0.71752922]\n",
            " [0.71752922 1.        ]]\n"
          ]
        }
      ],
      "source": [
        "my_rho = np.corrcoef(np_user_rep, np_words_cos_sim)\n",
        "print(my_rho)"
      ]
    },
    {
      "cell_type": "code",
      "execution_count": 290,
      "metadata": {},
      "outputs": [
        {
          "name": "stdout",
          "output_type": "stream",
          "text": [
            "{'userId157638': 2.21676, 'userId48295': 3.13497, 'userId13234': 3.65746, 'userId260000': 3.78091, 'userId272442': 3.83953, 'userId3937': 3.87932, 'userId72086': 3.87932, 'userId51052': 4.17995, 'userId23989': 4.95682, 'userId48538': 4.95682, 'userId28154': 5.03447, 'userId110891': 5.19875, 'userId42267': 5.42992, 'userId43607': 5.70256, 'userId1641': 5.9585, 'userId306735': 5.9585, 'userId51329': 5.9585, 'userId23127': 6.01539, 'userId186153': 6.07083, 'userId89176': 6.26993, 'userId16363': 6.309, 'userId215307': 6.47289, 'userId11937': 6.53686, 'userId311114': 6.6595, 'userId61822': 7.03914, 'userId33851': 7.0704, 'userId102854': 7.23989, 'userId220929': 7.35911, 'userId54786': 7.52392, 'userId74321': 7.70189, 'userId11912': 7.72691, 'userId183841': 7.78094, 'userId2960': 7.98032, 'userId94922': 8.29434, 'userId11593': 8.58546, 'userId81711': 8.62116, 'userId98956': 8.78493, 'userId3766': 8.81279, 'userId5487': 9.4049, 'userId90621': 9.41795, 'userId111157': 9.60292, 'userId73424': 9.76642, 'userId95671': 10.1612, 'userId39126': 10.29103, 'userId956': 10.29103, 'userId51550': 10.61158, 'userId100350': 10.74981, 'userId327416': 10.83756, 'userId252775': 11.03826, 'userId24681': 11.33223, 'userId263166': 11.42786, 'userId230189': 11.6157, 'userId45211': 11.83523, 'userId155976': 12.2559, 'userId49574': 12.34489, 'userId227552': 12.86626, 'userId14361': 13.16903, 'userId9915': 13.71344, 'userId111302': 13.87908, 'userId19697': 14.03218, 'userId60361': 14.23827, 'userId272007': 14.26264, 'userId112132': 14.28915, 'userId350412': 14.4635, 'userId166559': 14.63062, 'userId121080': 15.48292, 'userId36096': 15.49465, 'userId82': 15.56219, 'userId106835': 15.99805, 'userId32447': 16.17424, 'userId38223': 16.5458, 'userId11200': 17.20737, 'userId13961': 17.23439, 'userId60953': 17.43097, 'userId15163': 17.89822, 'userId91249': 18.62271, 'userId34754': 18.64161, 'userId3922': 19.20468, 'userId3122': 19.6584, 'userId3928': 19.99057, 'userId24912': 21.41614, 'userId4603': 23.60433, 'userId40724': 24.26808, 'userId1813': 26.74518, 'userId146161': 28.08711, 'userId16349': 30.56282, 'userId79256': 33.09358, 'userId66': 33.22535, 'userId8500': 34.36478, 'userId2314': 43.14952, 'userId90149': 43.51153, 'userId611': 46.68385, 'userId3249': 51.03527, 'userId14221': 52.66892, 'userId1352': 55.61177}\n",
            "{'userId1641': 111, 'userId260000': 111, 'userId51052': 111, 'userId81711': 111, 'userId98956': 111, 'userId110891': 116, 'userId89176': 119, 'userId14361': 121, 'userId186153': 121, 'userId23989': 121, 'userId61822': 121, 'userId48538': 123, 'userId24681': 127, 'userId272442': 129, 'userId146161': 131, 'userId220929': 131, 'userId306735': 131, 'userId327416': 131, 'userId90621': 135, 'userId51329': 141, 'userId94922': 141, 'userId49574': 143, 'userId215307': 146, 'userId54786': 149, 'userId23127': 151, 'userId28154': 151, 'userId263166': 154, 'userId48295': 158, 'userId39126': 161, 'userId72086': 161, 'userId157638': 166, 'userId252775': 171, 'userId956': 176, 'userId11912': 181, 'userId166559': 184, 'userId155976': 187, 'userId111302': 195, 'userId43607': 199, 'userId36096': 206, 'userId183841': 211, 'userId74321': 219, 'userId3937': 223, 'userId73424': 231, 'userId227552': 240, 'userId3766': 243, 'userId272007': 251, 'userId311114': 257, 'userId106835': 268, 'userId34754': 273, 'userId95671': 279, 'userId32447': 287, 'userId13234': 301, 'userId11937': 311, 'userId51550': 323, 'userId350412': 330, 'userId230189': 341, 'userId45211': 349, 'userId13961': 359, 'userId42267': 379, 'userId9915': 387, 'userId16363': 406, 'userId11593': 427, 'userId112132': 451, 'userId2960': 471, 'userId100350': 494, 'userId111157': 516, 'userId15163': 549, 'userId102854': 572, 'userId60953': 618, 'userId3928': 653, 'userId91249': 669, 'userId3122': 729, 'userId16349': 797, 'userId60361': 831, 'userId1813': 1015, 'userId33851': 1138, 'userId24912': 1253, 'userId19697': 1358, 'userId11200': 1449, 'userId3922': 1498, 'userId82': 1645, 'userId5487': 1799, 'userId121080': 1995, 'userId4603': 2088, 'userId8500': 2238, 'userId40724': 2627, 'userId79256': 3180, 'userId90149': 4457, 'userId38223': 8397, 'userId66': 13048, 'userId611': 21854, 'userId2314': 27571, 'userId3249': 42615, 'userId14221': 45837, 'userId1352': 95315}\n",
            "User on correct position:  5\n",
            "User on wrong position:  90\n"
          ]
        }
      ],
      "source": [
        "calculate_order_score(words_overal_cos_sim, present_user_rep)"
      ]
    },
    {
      "cell_type": "markdown",
      "metadata": {},
      "source": [
        "Euclidean distance"
      ]
    },
    {
      "cell_type": "code",
      "execution_count": 291,
      "metadata": {},
      "outputs": [],
      "source": [
        "words_overal_euclid_sim = metrics.get_euclid_dis(user_dict, enriched_merged_book)"
      ]
    },
    {
      "cell_type": "code",
      "execution_count": 292,
      "metadata": {},
      "outputs": [
        {
          "data": {
            "image/png": "[encoded data removed]",
            "text/plain": [
              "<Figure size 432x288 with 1 Axes>"
            ]
          },
          "metadata": {
            "needs_background": "light"
          },
          "output_type": "display_data"
        }
      ],
      "source": [
        "corr_coef3 = present_user_rep['userId1352']/words_overal_euclid_sim['userId1352']\n",
        "scaled_user_rep3 = {key : present_user_rep[key]/corr_coef3 for key in present_user_rep}\n",
        "scaled_euclid_rep = {key : int(words_overal_euclid_sim[key]*corr_coef3) for key in words_overal_euclid_sim}\n",
        "ploting.plot_vals(val_dict1=present_user_rep, val_dict2=scaled_euclid_rep, metric_name1=\"Reputation by SE\", metric_name2=\"Reputation by Euclidean sim\")"
      ]
    },
    {
      "cell_type": "code",
      "execution_count": 293,
      "metadata": {},
      "outputs": [
        {
          "data": {
            "text/plain": [
              "<matplotlib.axes._subplots.AxesSubplot at 0x279dad68a20>"
            ]
          },
          "execution_count": 293,
          "metadata": {},
          "output_type": "execute_result"
        },
        {
          "data": {
            "image/png": "[encoded data removed]",
            "text/plain": [
              "<Figure size 432x288 with 1 Axes>"
            ]
          },
          "metadata": {
            "needs_background": "light"
          },
          "output_type": "display_data"
        }
      ],
      "source": [
        "np_words_euclid_sim = np.array(list(words_overal_euclid_sim.values()))\n",
        "\n",
        "sb.scatterplot(np_user_rep, np_words_euclid_sim)"
      ]
    },
    {
      "cell_type": "code",
      "execution_count": 294,
      "metadata": {},
      "outputs": [
        {
          "name": "stdout",
          "output_type": "stream",
          "text": [
            "[[1.         0.98271255]\n",
            " [0.98271255 1.        ]]\n"
          ]
        }
      ],
      "source": [
        "my_rho = np.corrcoef(np_user_rep, np_words_euclid_sim)\n",
        "print(my_rho)"
      ]
    },
    {
      "cell_type": "code",
      "execution_count": 295,
      "metadata": {},
      "outputs": [
        {
          "name": "stdout",
          "output_type": "stream",
          "text": [
            "{'userId157638': 63.80438856379708, 'userId48295': 63.812224534175265, 'userId272442': 63.8200595424354, 'userId72086': 63.82789358893179, 'userId13234': 63.835726674018524, 'userId3937': 63.835726674018524, 'userId51052': 63.835726674018524, 'userId260000': 63.84355879804947, 'userId110891': 63.85138996137829, 'userId23989': 63.85138996137829, 'userId48538': 63.85138996137829, 'userId42267': 63.874877690685246, 'userId43607': 63.88270501473775, 'userId89176': 63.88270501473775, 'userId186153': 63.89053137985315, 'userId28154': 63.89053137985315, 'userId51329': 63.89053137985315, 'userId11937': 63.90618123468183, 'userId16363': 63.90618123468183, 'userId1641': 63.90618123468183, 'userId215307': 63.90618123468183, 'userId306735': 63.90618123468183, 'userId311114': 63.914004725099176, 'userId61822': 63.914004725099176, 'userId220929': 63.92182725798755, 'userId23127': 63.92964883369844, 'userId94922': 63.92964883369844, 'userId54786': 63.93746945258312, 'userId33851': 63.94528911499267, 'userId11912': 63.953107821277925, 'userId102854': 63.96092557178953, 'userId74321': 63.96092557178953, 'userId11593': 63.97655820689325, 'userId81711': 63.984373092185564, 'userId183841': 64.00781202322104, 'userId90621': 64.00781202322104, 'userId3766': 64.01562309311689, 'userId98956': 64.03905058634146, 'userId2960': 64.06246951218786, 'userId95671': 64.06246951218786, 'userId5487': 64.08587988004847, 'userId24681': 64.10148204214939, 'userId111157': 64.1248781675256, 'userId39126': 64.1248781675256, 'userId155976': 64.15605972938177, 'userId230189': 64.15605972938177, 'userId51550': 64.16385275215322, 'userId263166': 64.17164482853778, 'userId327416': 64.17943595888016, 'userId956': 64.19501538281614, 'userId252775': 64.22616289332565, 'userId100350': 64.24173098539609, 'userId73424': 64.26507605223851, 'userId49574': 64.28063471995279, 'userId60361': 64.33506042586733, 'userId111302': 64.34283176858165, 'userId112132': 64.35060217278468, 'userId227552': 64.37390775772433, 'userId14361': 64.39720490828775, 'userId350412': 64.45928947793328, 'userId45211': 64.45928947793328, 'userId121080': 64.47480127925948, 'userId19697': 64.48255578061404, 'userId272007': 64.52906321960671, 'userId82': 64.55230437405004, 'userId9915': 64.56779382943171, 'userId166559': 64.61423991660043, 'userId32447': 64.66838485689897, 'userId106835': 64.70703207534712, 'userId36096': 64.73020933072904, 'userId11200': 64.77653896280658, 'userId60953': 64.81512169239521, 'userId13961': 64.86909896090742, 'userId38223': 64.95382975621992, 'userId15163': 64.96922348312314, 'userId34754': 64.97691897897283, 'userId3928': 65.22269543648132, 'userId3922': 65.36053855347276, 'userId24912': 65.49809157525127, 'userId3122': 65.55913361233506, 'userId91249': 65.5972560401729, 'userId40724': 66.46803743153546, 'userId4603': 66.69332800213226, 'userId1813': 67.6904720030818, 'userId146161': 68.1615727518079, 'userId16349': 68.90573270780887, 'userId79256': 70.19259220174163, 'userId8500': 70.66823897621902, 'userId66': 70.90133990271269, 'userId90149': 79.74960814950754, 'userId2314': 80.44252606675154, 'userId611': 83.57631243360764, 'userId14221': 101.85774393731681, 'userId3249': 101.85774393731681, 'userId1352': 150.48587973627292}\n",
            "{'userId1641': 111, 'userId260000': 111, 'userId51052': 111, 'userId81711': 111, 'userId98956': 111, 'userId110891': 116, 'userId89176': 119, 'userId14361': 121, 'userId186153': 121, 'userId23989': 121, 'userId61822': 121, 'userId48538': 123, 'userId24681': 127, 'userId272442': 129, 'userId146161': 131, 'userId220929': 131, 'userId306735': 131, 'userId327416': 131, 'userId90621': 135, 'userId51329': 141, 'userId94922': 141, 'userId49574': 143, 'userId215307': 146, 'userId54786': 149, 'userId23127': 151, 'userId28154': 151, 'userId263166': 154, 'userId48295': 158, 'userId39126': 161, 'userId72086': 161, 'userId157638': 166, 'userId252775': 171, 'userId956': 176, 'userId11912': 181, 'userId166559': 184, 'userId155976': 187, 'userId111302': 195, 'userId43607': 199, 'userId36096': 206, 'userId183841': 211, 'userId74321': 219, 'userId3937': 223, 'userId73424': 231, 'userId227552': 240, 'userId3766': 243, 'userId272007': 251, 'userId311114': 257, 'userId106835': 268, 'userId34754': 273, 'userId95671': 279, 'userId32447': 287, 'userId13234': 301, 'userId11937': 311, 'userId51550': 323, 'userId350412': 330, 'userId230189': 341, 'userId45211': 349, 'userId13961': 359, 'userId42267': 379, 'userId9915': 387, 'userId16363': 406, 'userId11593': 427, 'userId112132': 451, 'userId2960': 471, 'userId100350': 494, 'userId111157': 516, 'userId15163': 549, 'userId102854': 572, 'userId60953': 618, 'userId3928': 653, 'userId91249': 669, 'userId3122': 729, 'userId16349': 797, 'userId60361': 831, 'userId1813': 1015, 'userId33851': 1138, 'userId24912': 1253, 'userId19697': 1358, 'userId11200': 1449, 'userId3922': 1498, 'userId82': 1645, 'userId5487': 1799, 'userId121080': 1995, 'userId4603': 2088, 'userId8500': 2238, 'userId40724': 2627, 'userId79256': 3180, 'userId90149': 4457, 'userId38223': 8397, 'userId66': 13048, 'userId611': 21854, 'userId2314': 27571, 'userId3249': 42615, 'userId14221': 45837, 'userId1352': 95315}\n",
            "User on correct position:  3\n",
            "User on wrong position:  92\n"
          ]
        }
      ],
      "source": [
        "calculate_order_score(words_overal_euclid_sim, present_user_rep)"
      ]
    },
    {
      "cell_type": "markdown",
      "metadata": {},
      "source": [
        "### Enriched model (adding the most expert user) testing"
      ]
    },
    {
      "cell_type": "code",
      "execution_count": 296,
      "metadata": {},
      "outputs": [
        {
          "name": "stderr",
          "output_type": "stream",
          "text": [
            "100%|██████████| 101/101 [00:00<00:00, 160.14it/s]\n"
          ]
        }
      ],
      "source": [
        "merged_book = model_processing_utils.merge_models(sections_book_dict)\n",
        "user_dict = loading_models.get_user_dict_from_file(r\"D:/Skola/Skola-ing/DP/data/parsed_data/acm_users/answers\")"
      ]
    },
    {
      "cell_type": "code",
      "execution_count": 297,
      "metadata": {},
      "outputs": [],
      "source": [
        "model_processing_utils.join_tuples_and_lemantize(user_dict)"
      ]
    },
    {
      "cell_type": "code",
      "execution_count": 298,
      "metadata": {},
      "outputs": [],
      "source": [
        "expert_to_enrich = user_dict.pop('userId1352')"
      ]
    },
    {
      "cell_type": "code",
      "execution_count": 299,
      "metadata": {},
      "outputs": [
        {
          "data": {
            "text/plain": [
              "19793"
            ]
          },
          "execution_count": 299,
          "metadata": {},
          "output_type": "execute_result"
        }
      ],
      "source": [
        "len(expert_to_enrich)"
      ]
    },
    {
      "cell_type": "code",
      "execution_count": 300,
      "metadata": {},
      "outputs": [
        {
          "data": {
            "text/plain": [
              "10172"
            ]
          },
          "execution_count": 300,
          "metadata": {},
          "output_type": "execute_result"
        }
      ],
      "source": [
        "len(merged_book)"
      ]
    },
    {
      "cell_type": "code",
      "execution_count": 301,
      "metadata": {},
      "outputs": [],
      "source": [
        "enriched_merged_book = model_processing_utils.merge_into_existing_model(merged_book, expert_to_enrich)"
      ]
    },
    {
      "cell_type": "code",
      "execution_count": 302,
      "metadata": {},
      "outputs": [
        {
          "data": {
            "text/plain": [
              "27960"
            ]
          },
          "execution_count": 302,
          "metadata": {},
          "output_type": "execute_result"
        }
      ],
      "source": [
        "len(enriched_merged_book)"
      ]
    },
    {
      "cell_type": "markdown",
      "metadata": {},
      "source": [
        "#### Phrases"
      ]
    },
    {
      "cell_type": "markdown",
      "metadata": {},
      "source": [
        "Jaccard similarity"
      ]
    },
    {
      "cell_type": "code",
      "execution_count": 303,
      "metadata": {},
      "outputs": [
        {
          "data": {
            "text/plain": [
              "94"
            ]
          },
          "execution_count": 303,
          "metadata": {},
          "output_type": "execute_result"
        }
      ],
      "source": [
        "present_user_rep = { key : user_rep[key.split('userId')[1]] for key in user_dict.keys()}\n",
        "len(present_user_rep)"
      ]
    },
    {
      "cell_type": "code",
      "execution_count": 304,
      "metadata": {},
      "outputs": [],
      "source": [
        "phrases_overal_jacq_sim = { key : metrics.jaccard_similarity(merged_book, user_dict[key]) for key in user_dict.keys()}"
      ]
    },
    {
      "cell_type": "code",
      "execution_count": 305,
      "metadata": {},
      "outputs": [
        {
          "data": {
            "text/plain": [
              "<matplotlib.axes._subplots.AxesSubplot at 0x279ddfc1a90>"
            ]
          },
          "execution_count": 305,
          "metadata": {},
          "output_type": "execute_result"
        },
        {
          "data": {
            "image/png": "[encoded data removed]",
            "text/plain": [
              "<Figure size 432x288 with 1 Axes>"
            ]
          },
          "metadata": {
            "needs_background": "light"
          },
          "output_type": "display_data"
        }
      ],
      "source": [
        "np_user_rep = np.array(list(present_user_rep.values()))\n",
        "np_phrases_jacq_sim = np.array(list(phrases_overal_jacq_sim.values()))\n",
        "\n",
        "sb.scatterplot(np_user_rep, np_phrases_jacq_sim)"
      ]
    },
    {
      "cell_type": "code",
      "execution_count": 306,
      "metadata": {},
      "outputs": [
        {
          "name": "stdout",
          "output_type": "stream",
          "text": [
            "[[1.         0.88357926]\n",
            " [0.88357926 1.        ]]\n"
          ]
        }
      ],
      "source": [
        "my_rho = np.corrcoef(np_user_rep, np_phrases_jacq_sim)\n",
        "print(my_rho)"
      ]
    },
    {
      "cell_type": "code",
      "execution_count": 307,
      "metadata": {},
      "outputs": [
        {
          "name": "stdout",
          "output_type": "stream",
          "text": [
            "{'userId102854': 0.0, 'userId110891': 0.0, 'userId11912': 0.0, 'userId13234': 0.0, 'userId16363': 0.0, 'userId230189': 0.0, 'userId23127': 0.0, 'userId23989': 0.0, 'userId260000': 0.0, 'userId2960': 0.0, 'userId311114': 0.0, 'userId3766': 0.0, 'userId3937': 0.0, 'userId43607': 0.0, 'userId48295': 0.0, 'userId48538': 0.0, 'userId51052': 0.0, 'userId51329': 0.0, 'userId54786': 0.0, 'userId60361': 0.0, 'userId61822': 0.0, 'userId72086': 0.0, 'userId81711': 0.0, 'userId90621': 0.0, 'userId9915': 0.0, 'userId252775': 0.00978, 'userId956': 0.00978, 'userId24681': 0.00979, 'userId98956': 0.0098, 'userId11593': 0.00981, 'userId183841': 0.00981, 'userId74321': 0.00981, 'userId11937': 0.00982, 'userId1641': 0.00982, 'userId186153': 0.00982, 'userId215307': 0.00982, 'userId220929': 0.00982, 'userId28154': 0.00982, 'userId306735': 0.00982, 'userId89176': 0.00982, 'userId94922': 0.00982, 'userId157638': 0.00983, 'userId272442': 0.00983, 'userId45211': 0.0195, 'userId111157': 0.01958, 'userId51550': 0.01958, 'userId5487': 0.01959, 'userId33851': 0.01963, 'userId14361': 0.02928, 'userId49574': 0.02932, 'userId73424': 0.02933, 'userId263166': 0.02936, 'userId39126': 0.02938, 'userId11200': 0.03886, 'userId32447': 0.03891, 'userId350412': 0.039, 'userId155976': 0.03916, 'userId95671': 0.0392, 'userId42267': 0.0393, 'userId3122': 0.04809, 'userId34754': 0.04845, 'userId36096': 0.04861, 'userId82': 0.04871, 'userId272007': 0.04873, 'userId112132': 0.04883, 'userId327416': 0.04893, 'userId40724': 0.05705, 'userId38223': 0.05817, 'userId106835': 0.05834, 'userId166559': 0.05841, 'userId227552': 0.05859, 'userId15163': 0.06785, 'userId13961': 0.06793, 'userId121080': 0.06827, 'userId111302': 0.06839, 'userId3928': 0.07729, 'userId4603': 0.08535, 'userId3922': 0.08682, 'userId60953': 0.0874, 'userId19697': 0.0878, 'userId100350': 0.08805, 'userId24912': 0.09629, 'userId91249': 0.13472, 'userId66': 0.20685, 'userId1813': 0.23443, 'userId146161': 0.27969, 'userId8500': 0.27983, 'userId79256': 0.30895, 'userId16349': 0.36975, 'userId611': 0.63611, 'userId2314': 0.82183, 'userId90149': 1.10006, 'userId14221': 1.36162, 'userId3249': 1.5441}\n",
            "{'userId1641': 111, 'userId260000': 111, 'userId51052': 111, 'userId81711': 111, 'userId98956': 111, 'userId110891': 116, 'userId89176': 119, 'userId14361': 121, 'userId186153': 121, 'userId23989': 121, 'userId61822': 121, 'userId48538': 123, 'userId24681': 127, 'userId272442': 129, 'userId146161': 131, 'userId220929': 131, 'userId306735': 131, 'userId327416': 131, 'userId90621': 135, 'userId51329': 141, 'userId94922': 141, 'userId49574': 143, 'userId215307': 146, 'userId54786': 149, 'userId23127': 151, 'userId28154': 151, 'userId263166': 154, 'userId48295': 158, 'userId39126': 161, 'userId72086': 161, 'userId157638': 166, 'userId252775': 171, 'userId956': 176, 'userId11912': 181, 'userId166559': 184, 'userId155976': 187, 'userId111302': 195, 'userId43607': 199, 'userId36096': 206, 'userId183841': 211, 'userId74321': 219, 'userId3937': 223, 'userId73424': 231, 'userId227552': 240, 'userId3766': 243, 'userId272007': 251, 'userId311114': 257, 'userId106835': 268, 'userId34754': 273, 'userId95671': 279, 'userId32447': 287, 'userId13234': 301, 'userId11937': 311, 'userId51550': 323, 'userId350412': 330, 'userId230189': 341, 'userId45211': 349, 'userId13961': 359, 'userId42267': 379, 'userId9915': 387, 'userId16363': 406, 'userId11593': 427, 'userId112132': 451, 'userId2960': 471, 'userId100350': 494, 'userId111157': 516, 'userId15163': 549, 'userId102854': 572, 'userId60953': 618, 'userId3928': 653, 'userId91249': 669, 'userId3122': 729, 'userId16349': 797, 'userId60361': 831, 'userId1813': 1015, 'userId33851': 1138, 'userId24912': 1253, 'userId19697': 1358, 'userId11200': 1449, 'userId3922': 1498, 'userId82': 1645, 'userId5487': 1799, 'userId121080': 1995, 'userId4603': 2088, 'userId8500': 2238, 'userId40724': 2627, 'userId79256': 3180, 'userId90149': 4457, 'userId38223': 8397, 'userId66': 13048, 'userId611': 21854, 'userId2314': 27571, 'userId3249': 42615, 'userId14221': 45837}\n",
            "User on correct position:  1\n",
            "User on wrong position:  93\n"
          ]
        }
      ],
      "source": [
        "calculate_order_score(phrases_overal_jacq_sim, present_user_rep)"
      ]
    },
    {
      "cell_type": "markdown",
      "metadata": {},
      "source": [
        "Cosine similarity"
      ]
    },
    {
      "cell_type": "code",
      "execution_count": 308,
      "metadata": {},
      "outputs": [],
      "source": [
        "phrases_overal_cos_sim = metrics.get_cosine_sim(user_dict, enriched_merged_book)"
      ]
    },
    {
      "cell_type": "code",
      "execution_count": 309,
      "metadata": {},
      "outputs": [
        {
          "data": {
            "text/plain": [
              "<matplotlib.axes._subplots.AxesSubplot at 0x279de8e7128>"
            ]
          },
          "execution_count": 309,
          "metadata": {},
          "output_type": "execute_result"
        },
        {
          "data": {
            "image/png": "[encoded data removed]",
            "text/plain": [
              "<Figure size 432x288 with 1 Axes>"
            ]
          },
          "metadata": {
            "needs_background": "light"
          },
          "output_type": "display_data"
        }
      ],
      "source": [
        "np_cos_sim = np.array(list(phrases_overal_cos_sim.values()))\n",
        "sb.scatterplot(np_user_rep, np_cos_sim)"
      ]
    },
    {
      "cell_type": "code",
      "execution_count": 310,
      "metadata": {},
      "outputs": [
        {
          "name": "stdout",
          "output_type": "stream",
          "text": [
            "[[1.         0.83595904]\n",
            " [0.83595904 1.        ]]\n"
          ]
        }
      ],
      "source": [
        "my_rho = np.corrcoef(np_user_rep, np_cos_sim)\n",
        "print(my_rho)"
      ]
    },
    {
      "cell_type": "code",
      "execution_count": 311,
      "metadata": {},
      "outputs": [
        {
          "name": "stdout",
          "output_type": "stream",
          "text": [
            "{'userId13234': 0.0, 'userId23127': 0.0, 'userId260000': 0.0, 'userId3937': 0.0, 'userId43607': 0.0, 'userId48295': 0.0, 'userId51329': 0.0, 'userId61822': 0.0, 'userId2960': 0.10256, 'userId81711': 0.12207, 'userId311114': 0.15441, 'userId1641': 0.15983, 'userId306735': 0.15983, 'userId110891': 0.22604, 'userId90621': 0.23019, 'userId230189': 0.26453, 'userId51052': 0.26745, 'userId72086': 0.29902, 'userId16363': 0.31967, 'userId215307': 0.31967, 'userId186153': 0.34528, 'userId272442': 0.34528, 'userId111157': 0.36912, 'userId11593': 0.3741, 'userId45211': 0.3892, 'userId102854': 0.39151, 'userId74321': 0.39151, 'userId5487': 0.39327, 'userId54786': 0.42288, 'userId51550': 0.43617, 'userId23989': 0.45208, 'userId3766': 0.45208, 'userId49574': 0.45571, 'userId183841': 0.46037, 'userId98956': 0.53706, 'userId73424': 0.54045, 'userId89176': 0.54095, 'userId33851': 0.5488, 'userId94922': 0.58019, 'userId157638': 0.59804, 'userId9915': 0.60105, 'userId11937': 0.63933, 'userId252775': 0.64512, 'userId11912': 0.66863, 'userId24681': 0.67034, 'userId48538': 0.67812, 'userId263166': 0.69056, 'userId36096': 0.70972, 'userId220929': 0.74755, 'userId956': 0.75368, 'userId272007': 0.80188, 'userId28154': 0.8632, 'userId60361': 0.86395, 'userId13961': 0.86545, 'userId106835': 0.88462, 'userId39126': 0.9228, 'userId111302': 0.92924, 'userId327416': 0.93978, 'userId155976': 1.05812, 'userId38223': 1.07786, 'userId19697': 1.08377, 'userId350412': 1.10273, 'userId100350': 1.10898, 'userId15163': 1.11936, 'userId42267': 1.1347, 'userId112132': 1.13559, 'userId3928': 1.14629, 'userId3122': 1.14858, 'userId14361': 1.1586, 'userId227552': 1.25138, 'userId60953': 1.25403, 'userId40724': 1.31439, 'userId91249': 1.37127, 'userId11200': 1.38522, 'userId121080': 1.41057, 'userId32447': 1.41274, 'userId95671': 1.43589, 'userId146161': 1.47019, 'userId24912': 1.49184, 'userId166559': 1.51744, 'userId34754': 1.69777, 'userId82': 1.70021, 'userId3922': 1.80936, 'userId4603': 1.81484, 'userId1813': 2.24655, 'userId66': 2.39716, 'userId8500': 2.59698, 'userId16349': 2.77909, 'userId79256': 3.26859, 'userId611': 4.1427, 'userId2314': 4.33275, 'userId90149': 4.43652, 'userId3249': 6.50733, 'userId14221': 6.67302}\n",
            "{'userId1641': 111, 'userId260000': 111, 'userId51052': 111, 'userId81711': 111, 'userId98956': 111, 'userId110891': 116, 'userId89176': 119, 'userId14361': 121, 'userId186153': 121, 'userId23989': 121, 'userId61822': 121, 'userId48538': 123, 'userId24681': 127, 'userId272442': 129, 'userId146161': 131, 'userId220929': 131, 'userId306735': 131, 'userId327416': 131, 'userId90621': 135, 'userId51329': 141, 'userId94922': 141, 'userId49574': 143, 'userId215307': 146, 'userId54786': 149, 'userId23127': 151, 'userId28154': 151, 'userId263166': 154, 'userId48295': 158, 'userId39126': 161, 'userId72086': 161, 'userId157638': 166, 'userId252775': 171, 'userId956': 176, 'userId11912': 181, 'userId166559': 184, 'userId155976': 187, 'userId111302': 195, 'userId43607': 199, 'userId36096': 206, 'userId183841': 211, 'userId74321': 219, 'userId3937': 223, 'userId73424': 231, 'userId227552': 240, 'userId3766': 243, 'userId272007': 251, 'userId311114': 257, 'userId106835': 268, 'userId34754': 273, 'userId95671': 279, 'userId32447': 287, 'userId13234': 301, 'userId11937': 311, 'userId51550': 323, 'userId350412': 330, 'userId230189': 341, 'userId45211': 349, 'userId13961': 359, 'userId42267': 379, 'userId9915': 387, 'userId16363': 406, 'userId11593': 427, 'userId112132': 451, 'userId2960': 471, 'userId100350': 494, 'userId111157': 516, 'userId15163': 549, 'userId102854': 572, 'userId60953': 618, 'userId3928': 653, 'userId91249': 669, 'userId3122': 729, 'userId16349': 797, 'userId60361': 831, 'userId1813': 1015, 'userId33851': 1138, 'userId24912': 1253, 'userId19697': 1358, 'userId11200': 1449, 'userId3922': 1498, 'userId82': 1645, 'userId5487': 1799, 'userId121080': 1995, 'userId4603': 2088, 'userId8500': 2238, 'userId40724': 2627, 'userId79256': 3180, 'userId90149': 4457, 'userId38223': 8397, 'userId66': 13048, 'userId611': 21854, 'userId2314': 27571, 'userId3249': 42615, 'userId14221': 45837}\n",
            "User on correct position:  3\n",
            "User on wrong position:  91\n"
          ]
        }
      ],
      "source": [
        "calculate_order_score(phrases_overal_cos_sim, present_user_rep)"
      ]
    },
    {
      "cell_type": "markdown",
      "metadata": {},
      "source": [
        "Euclidean distance"
      ]
    },
    {
      "cell_type": "code",
      "execution_count": 312,
      "metadata": {},
      "outputs": [],
      "source": [
        "phrases_overal_euclid_sim = metrics.get_euclid_dis(user_dict, enriched_merged_book)"
      ]
    },
    {
      "cell_type": "code",
      "execution_count": 313,
      "metadata": {},
      "outputs": [
        {
          "data": {
            "text/plain": [
              "<matplotlib.axes._subplots.AxesSubplot at 0x279de45e358>"
            ]
          },
          "execution_count": 313,
          "metadata": {},
          "output_type": "execute_result"
        },
        {
          "data": {
            "image/png": "[encoded data removed]",
            "text/plain": [
              "<Figure size 432x288 with 1 Axes>"
            ]
          },
          "metadata": {
            "needs_background": "light"
          },
          "output_type": "display_data"
        }
      ],
      "source": [
        "np_euclidean_sim = np.array(list(phrases_overal_euclid_sim.values()))\n",
        "\n",
        "sb.scatterplot(np_user_rep, np_euclidean_sim)"
      ]
    },
    {
      "cell_type": "code",
      "execution_count": 314,
      "metadata": {},
      "outputs": [
        {
          "name": "stdout",
          "output_type": "stream",
          "text": [
            "[[1.         0.95752926]\n",
            " [0.95752926 1.        ]]\n"
          ]
        }
      ],
      "source": [
        "my_rho = np.corrcoef(np_user_rep, np_euclidean_sim)\n",
        "print(my_rho)"
      ]
    },
    {
      "cell_type": "code",
      "execution_count": 315,
      "metadata": {},
      "outputs": [
        {
          "name": "stdout",
          "output_type": "stream",
          "text": [
            "{'userId42267': 167.2064592053788, 'userId157638': 167.20944949374123, 'userId272442': 167.2154299100415, 'userId48538': 167.2154299100415, 'userId28154': 167.21842003798506, 'userId48295': 167.21842003798506, 'userId72086': 167.21842003798506, 'userId23989': 167.22141011246137, 'userId51052': 167.22141011246137, 'userId110891': 167.22739010102381, 'userId13234': 167.22739010102381, 'userId3937': 167.22739010102381, 'userId89176': 167.22739010102381, 'userId11937': 167.23038001511568, 'userId220929': 167.23038001511568, 'userId260000': 167.23038001511568, 'userId95671': 167.23038001511568, 'userId186153': 167.236359682935, 'userId94922': 167.23934943666816, 'userId11912': 167.2423391369542, 'userId16363': 167.2423391369542, 'userId215307': 167.2423391369542, 'userId33851': 167.24532878379594, 'userId43607': 167.24532878379594, 'userId1641': 167.24831837719626, 'userId306735': 167.24831837719626, 'userId51329': 167.24831837719626, 'userId54786': 167.24831837719626, 'userId311114': 167.25130791715802, 'userId102854': 167.2572868367773, 'userId61822': 167.2572868367773, 'userId74321': 167.2572868367773, 'userId11593': 167.26326554267678, 'userId23127': 167.26326554267678, 'userId183841': 167.26924403487928, 'userId3766': 167.27223320085136, 'userId98956': 167.2752223134078, 'userId155976': 167.27821137255145, 'userId39126': 167.27821137255145, 'userId81711': 167.27821137255145, 'userId90621': 167.28120037828518, 'userId24681': 167.28717822953436, 'userId327416': 167.29315586717826, 'userId100350': 167.29913329123974, 'userId5487': 167.29913329123974, 'userId263166': 167.30809902691502, 'userId2960': 167.30809902691502, 'userId956': 167.31108749870702, 'userId111157': 167.31407591712062, 'userId51550': 167.32304085211933, 'userId227552': 167.32602905704778, 'userId112132': 167.3290172086121, 'userId252775': 167.3290172086121, 'userId230189': 167.33200530681512, 'userId82': 167.3349933516597, 'userId121080': 167.34096928128508, 'userId14361': 167.34096928128508, 'userId111302': 167.3439571660716, 'userId60361': 167.3469449975111, 'userId73424': 167.34993277560645, 'userId49574': 167.36188335460378, 'userId350412': 167.36487086602133, 'userId166559': 167.37084572887835, 'userId19697': 167.37383308032352, 'userId32447': 167.3977299726612, 'userId272007': 167.41565040341956, 'userId45211': 167.4305826305338, 'userId11200': 167.43356891615252, 'userId9915': 167.44849954538262, 'userId34754': 167.45745728393226, 'userId60953': 167.46044309030117, 'userId106835': 167.46641454333462, 'userId36096': 167.49328344742662, 'userId13961': 167.5231327309754, 'userId15163': 167.52611736681538, 'userId38223': 167.52611736681538, 'userId3922': 167.55894485225193, 'userId3928': 167.60668244434646, 'userId24912': 167.64844168676308, 'userId91249': 167.69913535853428, 'userId3122': 167.72000476985446, 'userId4603': 167.98809481626964, 'userId40724': 168.00595227550718, 'userId1813': 168.23198269056928, 'userId16349': 168.51112722903494, 'userId146161': 168.57639217873896, 'userId79256': 168.8105446943407, 'userId8500': 169.1744661584602, 'userId66': 169.31922513406445, 'userId90149': 171.87204542915057, 'userId2314': 172.1946572922633, 'userId611': 173.5713109934934, 'userId14221': 180.25814822082245, 'userId3249': 180.38015411901608}\n",
            "{'userId1641': 111, 'userId260000': 111, 'userId51052': 111, 'userId81711': 111, 'userId98956': 111, 'userId110891': 116, 'userId89176': 119, 'userId14361': 121, 'userId186153': 121, 'userId23989': 121, 'userId61822': 121, 'userId48538': 123, 'userId24681': 127, 'userId272442': 129, 'userId146161': 131, 'userId220929': 131, 'userId306735': 131, 'userId327416': 131, 'userId90621': 135, 'userId51329': 141, 'userId94922': 141, 'userId49574': 143, 'userId215307': 146, 'userId54786': 149, 'userId23127': 151, 'userId28154': 151, 'userId263166': 154, 'userId48295': 158, 'userId39126': 161, 'userId72086': 161, 'userId157638': 166, 'userId252775': 171, 'userId956': 176, 'userId11912': 181, 'userId166559': 184, 'userId155976': 187, 'userId111302': 195, 'userId43607': 199, 'userId36096': 206, 'userId183841': 211, 'userId74321': 219, 'userId3937': 223, 'userId73424': 231, 'userId227552': 240, 'userId3766': 243, 'userId272007': 251, 'userId311114': 257, 'userId106835': 268, 'userId34754': 273, 'userId95671': 279, 'userId32447': 287, 'userId13234': 301, 'userId11937': 311, 'userId51550': 323, 'userId350412': 330, 'userId230189': 341, 'userId45211': 349, 'userId13961': 359, 'userId42267': 379, 'userId9915': 387, 'userId16363': 406, 'userId11593': 427, 'userId112132': 451, 'userId2960': 471, 'userId100350': 494, 'userId111157': 516, 'userId15163': 549, 'userId102854': 572, 'userId60953': 618, 'userId3928': 653, 'userId91249': 669, 'userId3122': 729, 'userId16349': 797, 'userId60361': 831, 'userId1813': 1015, 'userId33851': 1138, 'userId24912': 1253, 'userId19697': 1358, 'userId11200': 1449, 'userId3922': 1498, 'userId82': 1645, 'userId5487': 1799, 'userId121080': 1995, 'userId4603': 2088, 'userId8500': 2238, 'userId40724': 2627, 'userId79256': 3180, 'userId90149': 4457, 'userId38223': 8397, 'userId66': 13048, 'userId611': 21854, 'userId2314': 27571, 'userId3249': 42615, 'userId14221': 45837}\n",
            "User on correct position:  1\n",
            "User on wrong position:  93\n"
          ]
        }
      ],
      "source": [
        "calculate_order_score(phrases_overal_euclid_sim, present_user_rep)"
      ]
    },
    {
      "cell_type": "markdown",
      "metadata": {},
      "source": [
        "#### Words"
      ]
    },
    {
      "cell_type": "code",
      "execution_count": 316,
      "metadata": {},
      "outputs": [],
      "source": [
        "user_dict_words = model_processing_utils.join_phrases_into_words(user_dict, \"users\")\n",
        "enriched_merged_book = model_processing_utils.join_phrases_into_words(enriched_merged_book)"
      ]
    },
    {
      "cell_type": "markdown",
      "metadata": {},
      "source": [
        "Jaccard similarity"
      ]
    },
    {
      "cell_type": "code",
      "execution_count": 317,
      "metadata": {},
      "outputs": [],
      "source": [
        "words_overal_jacq_sim = { key : metrics.jaccard_similarity(enriched_merged_book, user_dict_words[key]) for key in user_dict_words.keys()}"
      ]
    },
    {
      "cell_type": "code",
      "execution_count": 318,
      "metadata": {},
      "outputs": [
        {
          "data": {
            "text/plain": [
              "<matplotlib.axes._subplots.AxesSubplot at 0x279daac7860>"
            ]
          },
          "execution_count": 318,
          "metadata": {},
          "output_type": "execute_result"
        },
        {
          "data": {
            "image/png": "[encoded data removed]",
            "text/plain": [
              "<Figure size 432x288 with 1 Axes>"
            ]
          },
          "metadata": {
            "needs_background": "light"
          },
          "output_type": "display_data"
        }
      ],
      "source": [
        "np_words_jacq_sim = np.array(list(words_overal_jacq_sim.values()))\n",
        "\n",
        "sb.scatterplot(np_user_rep, np_words_jacq_sim)"
      ]
    },
    {
      "cell_type": "code",
      "execution_count": 319,
      "metadata": {},
      "outputs": [
        {
          "name": "stdout",
          "output_type": "stream",
          "text": [
            "{'userId157638': 0.00358, 'userId48295': 0.00358, 'userId272442': 0.01073, 'userId72086': 0.01073, 'userId3937': 0.01252, 'userId23989': 0.0143, 'userId13234': 0.01431, 'userId260000': 0.01609, 'userId51052': 0.01609, 'userId48538': 0.01788, 'userId110891': 0.01967, 'userId42267': 0.02146, 'userId186153': 0.02682, 'userId16363': 0.02861, 'userId28154': 0.02861, 'userId43607': 0.02861, 'userId51329': 0.02861, 'userId89176': 0.02861, 'userId23127': 0.03039, 'userId306735': 0.03039, 'userId1641': 0.03218, 'userId215307': 0.03218, 'userId11937': 0.03397, 'userId311114': 0.03576, 'userId61822': 0.03755, 'userId220929': 0.04112, 'userId33851': 0.04291, 'userId102854': 0.04469, 'userId54786': 0.0447, 'userId74321': 0.04648, 'userId11912': 0.04827, 'userId94922': 0.05007, 'userId11593': 0.05184, 'userId81711': 0.059, 'userId183841': 0.06078, 'userId98956': 0.06435, 'userId90621': 0.06615, 'userId2960': 0.06792, 'userId3766': 0.06793, 'userId111157': 0.07684, 'userId95671': 0.07686, 'userId5487': 0.08222, 'userId100350': 0.0911, 'userId39126': 0.09115, 'userId73424': 0.09645, 'userId956': 0.09648, 'userId51550': 0.0965, 'userId327416': 0.09827, 'userId263166': 0.09828, 'userId24681': 0.09831, 'userId252775': 0.10004, 'userId230189': 0.1126, 'userId155976': 0.11976, 'userId49574': 0.12148, 'userId45211': 0.14104, 'userId14361': 0.14287, 'userId227552': 0.14289, 'userId111302': 0.1447, 'userId112132': 0.15363, 'userId60361': 0.16081, 'userId9915': 0.16779, 'userId166559': 0.17311, 'userId272007': 0.17318, 'userId350412': 0.17858, 'userId19697': 0.18216, 'userId121080': 0.18931, 'userId82': 0.20178, 'userId36096': 0.20698, 'userId32447': 0.20883, 'userId106835': 0.22309, 'userId11200': 0.24091, 'userId13961': 0.24616, 'userId60953': 0.25157, 'userId38223': 0.26038, 'userId15163': 0.2675, 'userId34754': 0.29075, 'userId91249': 0.33273, 'userId3928': 0.33329, 'userId3922': 0.34204, 'userId24912': 0.3686, 'userId3122': 0.37206, 'userId40724': 0.55229, 'userId4603': 0.55525, 'userId146161': 0.67898, 'userId1813': 0.70551, 'userId16349': 0.85732, 'userId79256': 0.95608, 'userId66': 1.05668, 'userId8500': 1.1074, 'userId90149': 1.79991, 'userId2314': 1.85129, 'userId611': 2.06311, 'userId14221': 2.61732, 'userId3249': 2.64927}\n",
            "{'userId1641': 111, 'userId260000': 111, 'userId51052': 111, 'userId81711': 111, 'userId98956': 111, 'userId110891': 116, 'userId89176': 119, 'userId14361': 121, 'userId186153': 121, 'userId23989': 121, 'userId61822': 121, 'userId48538': 123, 'userId24681': 127, 'userId272442': 129, 'userId146161': 131, 'userId220929': 131, 'userId306735': 131, 'userId327416': 131, 'userId90621': 135, 'userId51329': 141, 'userId94922': 141, 'userId49574': 143, 'userId215307': 146, 'userId54786': 149, 'userId23127': 151, 'userId28154': 151, 'userId263166': 154, 'userId48295': 158, 'userId39126': 161, 'userId72086': 161, 'userId157638': 166, 'userId252775': 171, 'userId956': 176, 'userId11912': 181, 'userId166559': 184, 'userId155976': 187, 'userId111302': 195, 'userId43607': 199, 'userId36096': 206, 'userId183841': 211, 'userId74321': 219, 'userId3937': 223, 'userId73424': 231, 'userId227552': 240, 'userId3766': 243, 'userId272007': 251, 'userId311114': 257, 'userId106835': 268, 'userId34754': 273, 'userId95671': 279, 'userId32447': 287, 'userId13234': 301, 'userId11937': 311, 'userId51550': 323, 'userId350412': 330, 'userId230189': 341, 'userId45211': 349, 'userId13961': 359, 'userId42267': 379, 'userId9915': 387, 'userId16363': 406, 'userId11593': 427, 'userId112132': 451, 'userId2960': 471, 'userId100350': 494, 'userId111157': 516, 'userId15163': 549, 'userId102854': 572, 'userId60953': 618, 'userId3928': 653, 'userId91249': 669, 'userId3122': 729, 'userId16349': 797, 'userId60361': 831, 'userId1813': 1015, 'userId33851': 1138, 'userId24912': 1253, 'userId19697': 1358, 'userId11200': 1449, 'userId3922': 1498, 'userId82': 1645, 'userId5487': 1799, 'userId121080': 1995, 'userId4603': 2088, 'userId8500': 2238, 'userId40724': 2627, 'userId79256': 3180, 'userId90149': 4457, 'userId38223': 8397, 'userId66': 13048, 'userId611': 21854, 'userId2314': 27571, 'userId3249': 42615, 'userId14221': 45837}\n",
            "User on correct position:  1\n",
            "User on wrong position:  93\n"
          ]
        }
      ],
      "source": [
        "calculate_order_score(words_overal_jacq_sim, present_user_rep)"
      ]
    },
    {
      "cell_type": "markdown",
      "metadata": {},
      "source": [
        "Cosine similarity"
      ]
    },
    {
      "cell_type": "code",
      "execution_count": 320,
      "metadata": {},
      "outputs": [],
      "source": [
        "words_overal_cos_sim = metrics.get_cosine_sim(user_dict_words, enriched_merged_book)"
      ]
    },
    {
      "cell_type": "code",
      "execution_count": 321,
      "metadata": {},
      "outputs": [
        {
          "data": {
            "text/plain": [
              "<matplotlib.axes._subplots.AxesSubplot at 0x279ddcef9e8>"
            ]
          },
          "execution_count": 321,
          "metadata": {},
          "output_type": "execute_result"
        },
        {
          "data": {
            "image/png": "[encoded data removed]",
            "text/plain": [
              "<Figure size 432x288 with 1 Axes>"
            ]
          },
          "metadata": {
            "needs_background": "light"
          },
          "output_type": "display_data"
        }
      ],
      "source": [
        "np_words_cos_sim = np.array(list(words_overal_cos_sim.values()))\n",
        "\n",
        "sb.scatterplot(np_user_rep, np_words_cos_sim)"
      ]
    },
    {
      "cell_type": "code",
      "execution_count": 322,
      "metadata": {},
      "outputs": [
        {
          "name": "stdout",
          "output_type": "stream",
          "text": [
            "[[1.         0.75430108]\n",
            " [0.75430108 1.        ]]\n"
          ]
        }
      ],
      "source": [
        "my_rho = np.corrcoef(np_user_rep, np_words_cos_sim)\n",
        "print(my_rho)"
      ]
    },
    {
      "cell_type": "code",
      "execution_count": 323,
      "metadata": {},
      "outputs": [
        {
          "name": "stdout",
          "output_type": "stream",
          "text": [
            "{'userId48295': 1.39347, 'userId157638': 1.97066, 'userId72086': 2.95599, 'userId272442': 3.41328, 'userId3937': 3.44865, 'userId23989': 3.52522, 'userId13234': 3.71591, 'userId260000': 3.78131, 'userId51052': 4.1804, 'userId48538': 4.40653, 'userId110891': 4.6216, 'userId42267': 4.82711, 'userId16363': 4.98542, 'userId51329': 4.98542, 'userId23127': 5.0505, 'userId28154': 5.11493, 'userId306735': 5.297, 'userId186153': 5.39687, 'userId43607': 5.40744, 'userId11937': 5.5206, 'userId89176': 5.57386, 'userId1641': 5.60859, 'userId215307': 5.75429, 'userId61822': 5.97324, 'userId311114': 6.23177, 'userId220929': 6.54212, 'userId33851': 6.55875, 'userId102854': 6.70432, 'userId74321': 6.84685, 'userId11912': 6.86909, 'userId54786': 6.96733, 'userId94922': 7.37353, 'userId11593': 7.37792, 'userId2960': 7.4885, 'userId183841': 7.58653, 'userId81711': 7.66406, 'userId98956': 8.03279, 'userId90621': 8.15207, 'userId3766': 8.26967, 'userId111157': 8.74009, 'userId100350': 9.02549, 'userId95671': 9.03314, 'userId5487': 9.15706, 'userId73424': 9.1929, 'userId39126': 9.33152, 'userId51550': 9.79635, 'userId327416': 9.81283, 'userId956': 9.88044, 'userId24681': 9.89426, 'userId263166': 9.97776, 'userId252775': 9.99124, 'userId230189': 10.49272, 'userId49574': 10.66085, 'userId45211': 10.79461, 'userId155976': 11.40601, 'userId227552': 11.88352, 'userId111302': 11.89762, 'userId14361': 12.16317, 'userId9915': 12.32211, 'userId272007': 12.54987, 'userId112132': 12.70281, 'userId60361': 12.7998, 'userId166559': 13.00637, 'userId19697': 13.25402, 'userId350412': 13.53454, 'userId121080': 13.89514, 'userId36096': 14.01614, 'userId82': 14.0838, 'userId32447': 14.13697, 'userId106835': 14.222, 'userId11200': 15.41122, 'userId13961': 15.5464, 'userId38223': 15.79048, 'userId60953': 15.83271, 'userId15163': 16.12624, 'userId34754': 16.88281, 'userId91249': 17.29518, 'userId3922': 17.71863, 'userId3928': 17.77128, 'userId3122': 17.99252, 'userId24912': 18.8564, 'userId4603': 22.49297, 'userId40724': 22.59087, 'userId1813': 24.96482, 'userId146161': 25.84155, 'userId16349': 27.6814, 'userId79256': 30.65481, 'userId66': 30.9701, 'userId8500': 32.12288, 'userId90149': 41.1394, 'userId2314': 41.18959, 'userId611': 42.52168, 'userId3249': 48.92088, 'userId14221': 49.14191}\n",
            "{'userId1641': 111, 'userId260000': 111, 'userId51052': 111, 'userId81711': 111, 'userId98956': 111, 'userId110891': 116, 'userId89176': 119, 'userId14361': 121, 'userId186153': 121, 'userId23989': 121, 'userId61822': 121, 'userId48538': 123, 'userId24681': 127, 'userId272442': 129, 'userId146161': 131, 'userId220929': 131, 'userId306735': 131, 'userId327416': 131, 'userId90621': 135, 'userId51329': 141, 'userId94922': 141, 'userId49574': 143, 'userId215307': 146, 'userId54786': 149, 'userId23127': 151, 'userId28154': 151, 'userId263166': 154, 'userId48295': 158, 'userId39126': 161, 'userId72086': 161, 'userId157638': 166, 'userId252775': 171, 'userId956': 176, 'userId11912': 181, 'userId166559': 184, 'userId155976': 187, 'userId111302': 195, 'userId43607': 199, 'userId36096': 206, 'userId183841': 211, 'userId74321': 219, 'userId3937': 223, 'userId73424': 231, 'userId227552': 240, 'userId3766': 243, 'userId272007': 251, 'userId311114': 257, 'userId106835': 268, 'userId34754': 273, 'userId95671': 279, 'userId32447': 287, 'userId13234': 301, 'userId11937': 311, 'userId51550': 323, 'userId350412': 330, 'userId230189': 341, 'userId45211': 349, 'userId13961': 359, 'userId42267': 379, 'userId9915': 387, 'userId16363': 406, 'userId11593': 427, 'userId112132': 451, 'userId2960': 471, 'userId100350': 494, 'userId111157': 516, 'userId15163': 549, 'userId102854': 572, 'userId60953': 618, 'userId3928': 653, 'userId91249': 669, 'userId3122': 729, 'userId16349': 797, 'userId60361': 831, 'userId1813': 1015, 'userId33851': 1138, 'userId24912': 1253, 'userId19697': 1358, 'userId11200': 1449, 'userId3922': 1498, 'userId82': 1645, 'userId5487': 1799, 'userId121080': 1995, 'userId4603': 2088, 'userId8500': 2238, 'userId40724': 2627, 'userId79256': 3180, 'userId90149': 4457, 'userId38223': 8397, 'userId66': 13048, 'userId611': 21854, 'userId2314': 27571, 'userId3249': 42615, 'userId14221': 45837}\n",
            "User on correct position:  5\n",
            "User on wrong position:  89\n"
          ]
        }
      ],
      "source": [
        "calculate_order_score(words_overal_cos_sim, present_user_rep)"
      ]
    },
    {
      "cell_type": "markdown",
      "metadata": {},
      "source": [
        "Euclidean distance"
      ]
    },
    {
      "cell_type": "code",
      "execution_count": 324,
      "metadata": {},
      "outputs": [],
      "source": [
        "words_overal_euclid_sim = metrics.get_euclid_dis(user_dict, enriched_merged_book)"
      ]
    },
    {
      "cell_type": "code",
      "execution_count": 325,
      "metadata": {},
      "outputs": [
        {
          "data": {
            "text/plain": [
              "<matplotlib.axes._subplots.AxesSubplot at 0x279db4dab00>"
            ]
          },
          "execution_count": 325,
          "metadata": {},
          "output_type": "execute_result"
        },
        {
          "data": {
            "image/png": "[encoded data removed]",
            "text/plain": [
              "<Figure size 432x288 with 1 Axes>"
            ]
          },
          "metadata": {
            "needs_background": "light"
          },
          "output_type": "display_data"
        }
      ],
      "source": [
        "np_words_euclid_sim = np.array(list(words_overal_euclid_sim.values()))\n",
        "\n",
        "sb.scatterplot(np_user_rep, np_words_euclid_sim)"
      ]
    },
    {
      "cell_type": "code",
      "execution_count": 326,
      "metadata": {},
      "outputs": [
        {
          "name": "stdout",
          "output_type": "stream",
          "text": [
            "[[1.        0.9533579]\n",
            " [0.9533579 1.       ]]\n"
          ]
        }
      ],
      "source": [
        "my_rho = np.corrcoef(np_user_rep, np_words_euclid_sim)\n",
        "print(my_rho)"
      ]
    },
    {
      "cell_type": "code",
      "execution_count": 327,
      "metadata": {},
      "outputs": [
        {
          "name": "stdout",
          "output_type": "stream",
          "text": [
            "{'userId157638': 71.77046746399246, 'userId48295': 71.77743377970545, 'userId272442': 71.78439941937245, 'userId72086': 71.79136438319027, 'userId13234': 71.79832867135558, 'userId3937': 71.79832867135558, 'userId51052': 71.79832867135558, 'userId260000': 71.80529228406496, 'userId110891': 71.81225522151495, 'userId23989': 71.81225522151495, 'userId48538': 71.81225522151495, 'userId42267': 71.83313998427188, 'userId43607': 71.84010022264724, 'userId89176': 71.84010022264724, 'userId186153': 71.84705978674423, 'userId28154': 71.84705978674423, 'userId51329': 71.84705978674423, 'userId11937': 71.86097689288673, 'userId16363': 71.86097689288673, 'userId1641': 71.86097689288673, 'userId215307': 71.86097689288673, 'userId306735': 71.86097689288673, 'userId311114': 71.8679344353238, 'userId61822': 71.8679344353238, 'userId220929': 71.87489130426563, 'userId23127': 71.88184749990779, 'userId94922': 71.88184749990779, 'userId54786': 71.88880302244571, 'userId33851': 71.89575787207477, 'userId11912': 71.9027120489902, 'userId102854': 71.90966555338719, 'userId74321': 71.90966555338719, 'userId11593': 71.92357054540605, 'userId81711': 71.93052203341777, 'userId183841': 71.95137246779939, 'userId90621': 71.95137246779939, 'userId3766': 71.95832127002409, 'userId98956': 71.97916365171243, 'userId2960': 72.0, 'userId95671': 72.0, 'userId5487': 72.02083032012335, 'userId24681': 72.03471385380801, 'userId111157': 72.05553413860729, 'userId39126': 72.05553413860729, 'userId155976': 72.0832851637604, 'userId230189': 72.0832851637604, 'userId51550': 72.09022125087424, 'userId263166': 72.09715667070374, 'userId327416': 72.10409142344143, 'userId956': 72.11795892841117, 'userId252775': 72.14568594171102, 'userId100350': 72.15954545311382, 'userId73424': 72.18032973047436, 'userId49574': 72.19418259112018, 'userId60361': 72.24264668462804, 'userId111302': 72.24956747275377, 'userId112132': 72.2564875980005, 'userId227552': 72.27724399837061, 'userId14361': 72.29799443968, 'userId350412': 72.35329985563892, 'userId45211': 72.35329985563892, 'userId121080': 72.3671196055225, 'userId19697': 72.37402849088892, 'userId272007': 72.41546796092669, 'userId82': 72.43617880589781, 'userId9915': 72.44998274671983, 'userId166559': 72.49137879775773, 'userId32447': 72.53964433328854, 'userId106835': 72.5741000633146, 'userId36096': 72.59476565152615, 'userId11200': 72.63607918933951, 'userId60953': 72.67048919609665, 'userId13961': 72.71863585079137, 'userId38223': 72.79423054061358, 'userId15163': 72.80796659706958, 'userId34754': 72.81483365359011, 'userId3928': 73.03423854604085, 'userId3922': 73.15736463268753, 'userId24912': 73.28028384224504, 'userId3122': 73.33484846919642, 'userId91249': 73.36893075410055, 'userId40724': 74.14849964766651, 'userId4603': 74.35052118176442, 'userId1813': 75.24626236564843, 'userId146161': 75.67033764957046, 'userId16349': 76.34133873596926, 'userId79256': 77.50483855863452, 'userId8500': 77.93587107359485, 'userId66': 78.14729681825213, 'userId90149': 86.2554346113913, 'userId2314': 86.89649014776144, 'userId611': 89.80534505250787, 'userId14221': 107.02803371079933, 'userId3249': 107.02803371079933}\n",
            "{'userId1641': 111, 'userId260000': 111, 'userId51052': 111, 'userId81711': 111, 'userId98956': 111, 'userId110891': 116, 'userId89176': 119, 'userId14361': 121, 'userId186153': 121, 'userId23989': 121, 'userId61822': 121, 'userId48538': 123, 'userId24681': 127, 'userId272442': 129, 'userId146161': 131, 'userId220929': 131, 'userId306735': 131, 'userId327416': 131, 'userId90621': 135, 'userId51329': 141, 'userId94922': 141, 'userId49574': 143, 'userId215307': 146, 'userId54786': 149, 'userId23127': 151, 'userId28154': 151, 'userId263166': 154, 'userId48295': 158, 'userId39126': 161, 'userId72086': 161, 'userId157638': 166, 'userId252775': 171, 'userId956': 176, 'userId11912': 181, 'userId166559': 184, 'userId155976': 187, 'userId111302': 195, 'userId43607': 199, 'userId36096': 206, 'userId183841': 211, 'userId74321': 219, 'userId3937': 223, 'userId73424': 231, 'userId227552': 240, 'userId3766': 243, 'userId272007': 251, 'userId311114': 257, 'userId106835': 268, 'userId34754': 273, 'userId95671': 279, 'userId32447': 287, 'userId13234': 301, 'userId11937': 311, 'userId51550': 323, 'userId350412': 330, 'userId230189': 341, 'userId45211': 349, 'userId13961': 359, 'userId42267': 379, 'userId9915': 387, 'userId16363': 406, 'userId11593': 427, 'userId112132': 451, 'userId2960': 471, 'userId100350': 494, 'userId111157': 516, 'userId15163': 549, 'userId102854': 572, 'userId60953': 618, 'userId3928': 653, 'userId91249': 669, 'userId3122': 729, 'userId16349': 797, 'userId60361': 831, 'userId1813': 1015, 'userId33851': 1138, 'userId24912': 1253, 'userId19697': 1358, 'userId11200': 1449, 'userId3922': 1498, 'userId82': 1645, 'userId5487': 1799, 'userId121080': 1995, 'userId4603': 2088, 'userId8500': 2238, 'userId40724': 2627, 'userId79256': 3180, 'userId90149': 4457, 'userId38223': 8397, 'userId66': 13048, 'userId611': 21854, 'userId2314': 27571, 'userId3249': 42615, 'userId14221': 45837}\n",
            "User on correct position:  2\n",
            "User on wrong position:  92\n"
          ]
        }
      ],
      "source": [
        "calculate_order_score(words_overal_euclid_sim, present_user_rep)"
      ]
    },
    {
      "cell_type": "markdown",
      "metadata": {},
      "source": [
        "### Enriched model (accepted answers + adding the most expert user) testing"
      ]
    },
    {
      "cell_type": "code",
      "execution_count": 328,
      "metadata": {},
      "outputs": [
        {
          "name": "stderr",
          "output_type": "stream",
          "text": [
            "100%|██████████| 453/453 [00:40<00:00, 11.10it/s]\n"
          ]
        }
      ],
      "source": [
        "acc_ans_dict = loading_models.get_list_from_file(dir_path=\"D:\\Skola\\Skola-ing\\DP\\data\\parsed_data\\\\acm_accepted_answers\", num_of_files_to_read=453)\n",
        "model_processing_utils.join_tuples_and_lemantize(acc_ans_dict)\n",
        "merged_book = model_processing_utils.merge_models(sections_book_dict)\n",
        "merged_answers = model_processing_utils.merge_models(acc_ans_dict)"
      ]
    },
    {
      "cell_type": "code",
      "execution_count": 329,
      "metadata": {},
      "outputs": [
        {
          "data": {
            "text/plain": [
              "10172"
            ]
          },
          "execution_count": 329,
          "metadata": {},
          "output_type": "execute_result"
        }
      ],
      "source": [
        "len(merged_book)"
      ]
    },
    {
      "cell_type": "code",
      "execution_count": 330,
      "metadata": {},
      "outputs": [
        {
          "data": {
            "text/plain": [
              "8760"
            ]
          },
          "execution_count": 330,
          "metadata": {},
          "output_type": "execute_result"
        }
      ],
      "source": [
        "len(merged_answers)"
      ]
    },
    {
      "cell_type": "code",
      "execution_count": 331,
      "metadata": {},
      "outputs": [],
      "source": [
        "enriched_merged_book = model_processing_utils.merge_into_existing_model(merged_book, merged_answers)"
      ]
    },
    {
      "cell_type": "code",
      "execution_count": 332,
      "metadata": {},
      "outputs": [
        {
          "data": {
            "text/plain": [
              "18570"
            ]
          },
          "execution_count": 332,
          "metadata": {},
          "output_type": "execute_result"
        }
      ],
      "source": [
        "len(enriched_merged_book)"
      ]
    },
    {
      "cell_type": "code",
      "execution_count": 333,
      "metadata": {},
      "outputs": [
        {
          "data": {
            "text/plain": [
              "19793"
            ]
          },
          "execution_count": 333,
          "metadata": {},
          "output_type": "execute_result"
        }
      ],
      "source": [
        "len(expert_to_enrich)"
      ]
    },
    {
      "cell_type": "code",
      "execution_count": 334,
      "metadata": {},
      "outputs": [],
      "source": [
        "enriched_merged_book = model_processing_utils.merge_into_existing_model(merged_book, expert_to_enrich)"
      ]
    },
    {
      "cell_type": "code",
      "execution_count": 335,
      "metadata": {},
      "outputs": [
        {
          "data": {
            "text/plain": [
              "27960"
            ]
          },
          "execution_count": 335,
          "metadata": {},
          "output_type": "execute_result"
        }
      ],
      "source": [
        "len(enriched_merged_book)"
      ]
    },
    {
      "cell_type": "markdown",
      "metadata": {},
      "source": [
        "#### Phrases"
      ]
    },
    {
      "cell_type": "markdown",
      "metadata": {},
      "source": [
        "Jaccard similarity"
      ]
    },
    {
      "cell_type": "code",
      "execution_count": 336,
      "metadata": {},
      "outputs": [
        {
          "data": {
            "text/plain": [
              "94"
            ]
          },
          "execution_count": 336,
          "metadata": {},
          "output_type": "execute_result"
        }
      ],
      "source": [
        "present_user_rep = { key : user_rep[key.split('userId')[1]] for key in user_dict.keys()}\n",
        "len(present_user_rep)"
      ]
    },
    {
      "cell_type": "code",
      "execution_count": 337,
      "metadata": {},
      "outputs": [],
      "source": [
        "phrases_overal_jacq_sim = { key : metrics.jaccard_similarity(merged_book, user_dict[key]) for key in user_dict.keys()}"
      ]
    },
    {
      "cell_type": "code",
      "execution_count": 338,
      "metadata": {},
      "outputs": [
        {
          "data": {
            "text/plain": [
              "<matplotlib.axes._subplots.AxesSubplot at 0x279db4bf240>"
            ]
          },
          "execution_count": 338,
          "metadata": {},
          "output_type": "execute_result"
        },
        {
          "data": {
            "image/png": "[encoded data removed]",
            "text/plain": [
              "<Figure size 432x288 with 1 Axes>"
            ]
          },
          "metadata": {
            "needs_background": "light"
          },
          "output_type": "display_data"
        }
      ],
      "source": [
        "np_user_rep = np.array(list(present_user_rep.values()))\n",
        "np_phrases_jacq_sim = np.array(list(phrases_overal_jacq_sim.values()))\n",
        "\n",
        "sb.scatterplot(np_user_rep, np_phrases_jacq_sim)"
      ]
    },
    {
      "cell_type": "code",
      "execution_count": 339,
      "metadata": {},
      "outputs": [
        {
          "name": "stdout",
          "output_type": "stream",
          "text": [
            "[[1.         0.88357926]\n",
            " [0.88357926 1.        ]]\n"
          ]
        }
      ],
      "source": [
        "my_rho = np.corrcoef(np_user_rep, np_phrases_jacq_sim)\n",
        "print(my_rho)"
      ]
    },
    {
      "cell_type": "code",
      "execution_count": 340,
      "metadata": {},
      "outputs": [
        {
          "name": "stdout",
          "output_type": "stream",
          "text": [
            "{'userId102854': 0.0, 'userId110891': 0.0, 'userId11912': 0.0, 'userId13234': 0.0, 'userId16363': 0.0, 'userId230189': 0.0, 'userId23127': 0.0, 'userId23989': 0.0, 'userId260000': 0.0, 'userId2960': 0.0, 'userId311114': 0.0, 'userId3766': 0.0, 'userId3937': 0.0, 'userId43607': 0.0, 'userId48295': 0.0, 'userId48538': 0.0, 'userId51052': 0.0, 'userId51329': 0.0, 'userId54786': 0.0, 'userId60361': 0.0, 'userId61822': 0.0, 'userId72086': 0.0, 'userId81711': 0.0, 'userId90621': 0.0, 'userId9915': 0.0, 'userId252775': 0.00978, 'userId956': 0.00978, 'userId24681': 0.00979, 'userId98956': 0.0098, 'userId11593': 0.00981, 'userId183841': 0.00981, 'userId74321': 0.00981, 'userId11937': 0.00982, 'userId1641': 0.00982, 'userId186153': 0.00982, 'userId215307': 0.00982, 'userId220929': 0.00982, 'userId28154': 0.00982, 'userId306735': 0.00982, 'userId89176': 0.00982, 'userId94922': 0.00982, 'userId157638': 0.00983, 'userId272442': 0.00983, 'userId45211': 0.0195, 'userId111157': 0.01958, 'userId51550': 0.01958, 'userId5487': 0.01959, 'userId33851': 0.01963, 'userId14361': 0.02928, 'userId49574': 0.02932, 'userId73424': 0.02933, 'userId263166': 0.02936, 'userId39126': 0.02938, 'userId11200': 0.03886, 'userId32447': 0.03891, 'userId350412': 0.039, 'userId155976': 0.03916, 'userId95671': 0.0392, 'userId42267': 0.0393, 'userId3122': 0.04809, 'userId34754': 0.04845, 'userId36096': 0.04861, 'userId82': 0.04871, 'userId272007': 0.04873, 'userId112132': 0.04883, 'userId327416': 0.04893, 'userId40724': 0.05705, 'userId38223': 0.05817, 'userId106835': 0.05834, 'userId166559': 0.05841, 'userId227552': 0.05859, 'userId15163': 0.06785, 'userId13961': 0.06793, 'userId121080': 0.06827, 'userId111302': 0.06839, 'userId3928': 0.07729, 'userId4603': 0.08535, 'userId3922': 0.08682, 'userId60953': 0.0874, 'userId19697': 0.0878, 'userId100350': 0.08805, 'userId24912': 0.09629, 'userId91249': 0.13472, 'userId66': 0.20685, 'userId1813': 0.23443, 'userId146161': 0.27969, 'userId8500': 0.27983, 'userId79256': 0.30895, 'userId16349': 0.36975, 'userId611': 0.63611, 'userId2314': 0.82183, 'userId90149': 1.10006, 'userId14221': 1.36162, 'userId3249': 1.5441}\n",
            "{'userId1641': 111, 'userId260000': 111, 'userId51052': 111, 'userId81711': 111, 'userId98956': 111, 'userId110891': 116, 'userId89176': 119, 'userId14361': 121, 'userId186153': 121, 'userId23989': 121, 'userId61822': 121, 'userId48538': 123, 'userId24681': 127, 'userId272442': 129, 'userId146161': 131, 'userId220929': 131, 'userId306735': 131, 'userId327416': 131, 'userId90621': 135, 'userId51329': 141, 'userId94922': 141, 'userId49574': 143, 'userId215307': 146, 'userId54786': 149, 'userId23127': 151, 'userId28154': 151, 'userId263166': 154, 'userId48295': 158, 'userId39126': 161, 'userId72086': 161, 'userId157638': 166, 'userId252775': 171, 'userId956': 176, 'userId11912': 181, 'userId166559': 184, 'userId155976': 187, 'userId111302': 195, 'userId43607': 199, 'userId36096': 206, 'userId183841': 211, 'userId74321': 219, 'userId3937': 223, 'userId73424': 231, 'userId227552': 240, 'userId3766': 243, 'userId272007': 251, 'userId311114': 257, 'userId106835': 268, 'userId34754': 273, 'userId95671': 279, 'userId32447': 287, 'userId13234': 301, 'userId11937': 311, 'userId51550': 323, 'userId350412': 330, 'userId230189': 341, 'userId45211': 349, 'userId13961': 359, 'userId42267': 379, 'userId9915': 387, 'userId16363': 406, 'userId11593': 427, 'userId112132': 451, 'userId2960': 471, 'userId100350': 494, 'userId111157': 516, 'userId15163': 549, 'userId102854': 572, 'userId60953': 618, 'userId3928': 653, 'userId91249': 669, 'userId3122': 729, 'userId16349': 797, 'userId60361': 831, 'userId1813': 1015, 'userId33851': 1138, 'userId24912': 1253, 'userId19697': 1358, 'userId11200': 1449, 'userId3922': 1498, 'userId82': 1645, 'userId5487': 1799, 'userId121080': 1995, 'userId4603': 2088, 'userId8500': 2238, 'userId40724': 2627, 'userId79256': 3180, 'userId90149': 4457, 'userId38223': 8397, 'userId66': 13048, 'userId611': 21854, 'userId2314': 27571, 'userId3249': 42615, 'userId14221': 45837}\n",
            "User on correct position:  1\n",
            "User on wrong position:  93\n"
          ]
        }
      ],
      "source": [
        "calculate_order_score(phrases_overal_jacq_sim, present_user_rep)"
      ]
    },
    {
      "cell_type": "markdown",
      "metadata": {},
      "source": [
        "Cosine similarity"
      ]
    },
    {
      "cell_type": "code",
      "execution_count": 341,
      "metadata": {},
      "outputs": [],
      "source": [
        "phrases_overal_cos_sim = metrics.get_cosine_sim(user_dict, enriched_merged_book)"
      ]
    },
    {
      "cell_type": "code",
      "execution_count": 342,
      "metadata": {},
      "outputs": [
        {
          "data": {
            "text/plain": [
              "<matplotlib.axes._subplots.AxesSubplot at 0x279db88fc18>"
            ]
          },
          "execution_count": 342,
          "metadata": {},
          "output_type": "execute_result"
        },
        {
          "data": {
            "image/png": "[encoded data removed]",
            "text/plain": [
              "<Figure size 432x288 with 1 Axes>"
            ]
          },
          "metadata": {
            "needs_background": "light"
          },
          "output_type": "display_data"
        }
      ],
      "source": [
        "np_cos_sim = np.array(list(phrases_overal_cos_sim.values()))\n",
        "sb.scatterplot(np_user_rep, np_cos_sim)"
      ]
    },
    {
      "cell_type": "code",
      "execution_count": 343,
      "metadata": {},
      "outputs": [
        {
          "name": "stdout",
          "output_type": "stream",
          "text": [
            "[[1.         0.83595904]\n",
            " [0.83595904 1.        ]]\n"
          ]
        }
      ],
      "source": [
        "my_rho = np.corrcoef(np_user_rep, np_cos_sim)\n",
        "print(my_rho)"
      ]
    },
    {
      "cell_type": "code",
      "execution_count": 344,
      "metadata": {},
      "outputs": [
        {
          "name": "stdout",
          "output_type": "stream",
          "text": [
            "{'userId13234': 0.0, 'userId23127': 0.0, 'userId260000': 0.0, 'userId3937': 0.0, 'userId43607': 0.0, 'userId48295': 0.0, 'userId51329': 0.0, 'userId61822': 0.0, 'userId2960': 0.10256, 'userId81711': 0.12207, 'userId311114': 0.15441, 'userId1641': 0.15983, 'userId306735': 0.15983, 'userId110891': 0.22604, 'userId90621': 0.23019, 'userId230189': 0.26453, 'userId51052': 0.26745, 'userId72086': 0.29902, 'userId16363': 0.31967, 'userId215307': 0.31967, 'userId186153': 0.34528, 'userId272442': 0.34528, 'userId111157': 0.36912, 'userId11593': 0.3741, 'userId45211': 0.3892, 'userId102854': 0.39151, 'userId74321': 0.39151, 'userId5487': 0.39327, 'userId54786': 0.42288, 'userId51550': 0.43617, 'userId23989': 0.45208, 'userId3766': 0.45208, 'userId49574': 0.45571, 'userId183841': 0.46037, 'userId98956': 0.53706, 'userId73424': 0.54045, 'userId89176': 0.54095, 'userId33851': 0.5488, 'userId94922': 0.58019, 'userId157638': 0.59804, 'userId9915': 0.60105, 'userId11937': 0.63933, 'userId252775': 0.64512, 'userId11912': 0.66863, 'userId24681': 0.67034, 'userId48538': 0.67812, 'userId263166': 0.69056, 'userId36096': 0.70972, 'userId220929': 0.74755, 'userId956': 0.75368, 'userId272007': 0.80188, 'userId28154': 0.8632, 'userId60361': 0.86395, 'userId13961': 0.86545, 'userId106835': 0.88462, 'userId39126': 0.9228, 'userId111302': 0.92924, 'userId327416': 0.93978, 'userId155976': 1.05812, 'userId38223': 1.07786, 'userId19697': 1.08377, 'userId350412': 1.10273, 'userId100350': 1.10898, 'userId15163': 1.11936, 'userId42267': 1.1347, 'userId112132': 1.13559, 'userId3928': 1.14629, 'userId3122': 1.14858, 'userId14361': 1.1586, 'userId227552': 1.25138, 'userId60953': 1.25403, 'userId40724': 1.31439, 'userId91249': 1.37127, 'userId11200': 1.38522, 'userId121080': 1.41057, 'userId32447': 1.41274, 'userId95671': 1.43589, 'userId146161': 1.47019, 'userId24912': 1.49184, 'userId166559': 1.51744, 'userId34754': 1.69777, 'userId82': 1.70021, 'userId3922': 1.80936, 'userId4603': 1.81484, 'userId1813': 2.24655, 'userId66': 2.39716, 'userId8500': 2.59698, 'userId16349': 2.77909, 'userId79256': 3.26859, 'userId611': 4.1427, 'userId2314': 4.33275, 'userId90149': 4.43652, 'userId3249': 6.50733, 'userId14221': 6.67302}\n",
            "{'userId1641': 111, 'userId260000': 111, 'userId51052': 111, 'userId81711': 111, 'userId98956': 111, 'userId110891': 116, 'userId89176': 119, 'userId14361': 121, 'userId186153': 121, 'userId23989': 121, 'userId61822': 121, 'userId48538': 123, 'userId24681': 127, 'userId272442': 129, 'userId146161': 131, 'userId220929': 131, 'userId306735': 131, 'userId327416': 131, 'userId90621': 135, 'userId51329': 141, 'userId94922': 141, 'userId49574': 143, 'userId215307': 146, 'userId54786': 149, 'userId23127': 151, 'userId28154': 151, 'userId263166': 154, 'userId48295': 158, 'userId39126': 161, 'userId72086': 161, 'userId157638': 166, 'userId252775': 171, 'userId956': 176, 'userId11912': 181, 'userId166559': 184, 'userId155976': 187, 'userId111302': 195, 'userId43607': 199, 'userId36096': 206, 'userId183841': 211, 'userId74321': 219, 'userId3937': 223, 'userId73424': 231, 'userId227552': 240, 'userId3766': 243, 'userId272007': 251, 'userId311114': 257, 'userId106835': 268, 'userId34754': 273, 'userId95671': 279, 'userId32447': 287, 'userId13234': 301, 'userId11937': 311, 'userId51550': 323, 'userId350412': 330, 'userId230189': 341, 'userId45211': 349, 'userId13961': 359, 'userId42267': 379, 'userId9915': 387, 'userId16363': 406, 'userId11593': 427, 'userId112132': 451, 'userId2960': 471, 'userId100350': 494, 'userId111157': 516, 'userId15163': 549, 'userId102854': 572, 'userId60953': 618, 'userId3928': 653, 'userId91249': 669, 'userId3122': 729, 'userId16349': 797, 'userId60361': 831, 'userId1813': 1015, 'userId33851': 1138, 'userId24912': 1253, 'userId19697': 1358, 'userId11200': 1449, 'userId3922': 1498, 'userId82': 1645, 'userId5487': 1799, 'userId121080': 1995, 'userId4603': 2088, 'userId8500': 2238, 'userId40724': 2627, 'userId79256': 3180, 'userId90149': 4457, 'userId38223': 8397, 'userId66': 13048, 'userId611': 21854, 'userId2314': 27571, 'userId3249': 42615, 'userId14221': 45837}\n",
            "User on correct position:  3\n",
            "User on wrong position:  91\n"
          ]
        }
      ],
      "source": [
        "calculate_order_score(phrases_overal_cos_sim, present_user_rep)"
      ]
    },
    {
      "cell_type": "markdown",
      "metadata": {},
      "source": [
        "Euclidean distance"
      ]
    },
    {
      "cell_type": "code",
      "execution_count": 345,
      "metadata": {},
      "outputs": [],
      "source": [
        "phrases_overal_euclid_sim = metrics.get_euclid_dis(user_dict, enriched_merged_book)"
      ]
    },
    {
      "cell_type": "code",
      "execution_count": 346,
      "metadata": {},
      "outputs": [
        {
          "data": {
            "text/plain": [
              "<matplotlib.axes._subplots.AxesSubplot at 0x279daf8b860>"
            ]
          },
          "execution_count": 346,
          "metadata": {},
          "output_type": "execute_result"
        },
        {
          "data": {
            "image/png": "[encoded data removed]",
            "text/plain": [
              "<Figure size 432x288 with 1 Axes>"
            ]
          },
          "metadata": {
            "needs_background": "light"
          },
          "output_type": "display_data"
        }
      ],
      "source": [
        "np_euclidean_sim = np.array(list(phrases_overal_euclid_sim.values()))\n",
        "\n",
        "sb.scatterplot(np_user_rep, np_euclidean_sim)"
      ]
    },
    {
      "cell_type": "code",
      "execution_count": 347,
      "metadata": {},
      "outputs": [
        {
          "name": "stdout",
          "output_type": "stream",
          "text": [
            "[[1.         0.95752926]\n",
            " [0.95752926 1.        ]]\n"
          ]
        }
      ],
      "source": [
        "my_rho = np.corrcoef(np_user_rep, np_euclidean_sim)\n",
        "print(my_rho)"
      ]
    },
    {
      "cell_type": "code",
      "execution_count": 348,
      "metadata": {},
      "outputs": [
        {
          "name": "stdout",
          "output_type": "stream",
          "text": [
            "{'userId42267': 167.2064592053788, 'userId157638': 167.20944949374123, 'userId272442': 167.2154299100415, 'userId48538': 167.2154299100415, 'userId28154': 167.21842003798506, 'userId48295': 167.21842003798506, 'userId72086': 167.21842003798506, 'userId23989': 167.22141011246137, 'userId51052': 167.22141011246137, 'userId110891': 167.22739010102381, 'userId13234': 167.22739010102381, 'userId3937': 167.22739010102381, 'userId89176': 167.22739010102381, 'userId11937': 167.23038001511568, 'userId220929': 167.23038001511568, 'userId260000': 167.23038001511568, 'userId95671': 167.23038001511568, 'userId186153': 167.236359682935, 'userId94922': 167.23934943666816, 'userId11912': 167.2423391369542, 'userId16363': 167.2423391369542, 'userId215307': 167.2423391369542, 'userId33851': 167.24532878379594, 'userId43607': 167.24532878379594, 'userId1641': 167.24831837719626, 'userId306735': 167.24831837719626, 'userId51329': 167.24831837719626, 'userId54786': 167.24831837719626, 'userId311114': 167.25130791715802, 'userId102854': 167.2572868367773, 'userId61822': 167.2572868367773, 'userId74321': 167.2572868367773, 'userId11593': 167.26326554267678, 'userId23127': 167.26326554267678, 'userId183841': 167.26924403487928, 'userId3766': 167.27223320085136, 'userId98956': 167.2752223134078, 'userId155976': 167.27821137255145, 'userId39126': 167.27821137255145, 'userId81711': 167.27821137255145, 'userId90621': 167.28120037828518, 'userId24681': 167.28717822953436, 'userId327416': 167.29315586717826, 'userId100350': 167.29913329123974, 'userId5487': 167.29913329123974, 'userId263166': 167.30809902691502, 'userId2960': 167.30809902691502, 'userId956': 167.31108749870702, 'userId111157': 167.31407591712062, 'userId51550': 167.32304085211933, 'userId227552': 167.32602905704778, 'userId112132': 167.3290172086121, 'userId252775': 167.3290172086121, 'userId230189': 167.33200530681512, 'userId82': 167.3349933516597, 'userId121080': 167.34096928128508, 'userId14361': 167.34096928128508, 'userId111302': 167.3439571660716, 'userId60361': 167.3469449975111, 'userId73424': 167.34993277560645, 'userId49574': 167.36188335460378, 'userId350412': 167.36487086602133, 'userId166559': 167.37084572887835, 'userId19697': 167.37383308032352, 'userId32447': 167.3977299726612, 'userId272007': 167.41565040341956, 'userId45211': 167.4305826305338, 'userId11200': 167.43356891615252, 'userId9915': 167.44849954538262, 'userId34754': 167.45745728393226, 'userId60953': 167.46044309030117, 'userId106835': 167.46641454333462, 'userId36096': 167.49328344742662, 'userId13961': 167.5231327309754, 'userId15163': 167.52611736681538, 'userId38223': 167.52611736681538, 'userId3922': 167.55894485225193, 'userId3928': 167.60668244434646, 'userId24912': 167.64844168676308, 'userId91249': 167.69913535853428, 'userId3122': 167.72000476985446, 'userId4603': 167.98809481626964, 'userId40724': 168.00595227550718, 'userId1813': 168.23198269056928, 'userId16349': 168.51112722903494, 'userId146161': 168.57639217873896, 'userId79256': 168.8105446943407, 'userId8500': 169.1744661584602, 'userId66': 169.31922513406445, 'userId90149': 171.87204542915057, 'userId2314': 172.1946572922633, 'userId611': 173.5713109934934, 'userId14221': 180.25814822082245, 'userId3249': 180.38015411901608}\n",
            "{'userId1641': 111, 'userId260000': 111, 'userId51052': 111, 'userId81711': 111, 'userId98956': 111, 'userId110891': 116, 'userId89176': 119, 'userId14361': 121, 'userId186153': 121, 'userId23989': 121, 'userId61822': 121, 'userId48538': 123, 'userId24681': 127, 'userId272442': 129, 'userId146161': 131, 'userId220929': 131, 'userId306735': 131, 'userId327416': 131, 'userId90621': 135, 'userId51329': 141, 'userId94922': 141, 'userId49574': 143, 'userId215307': 146, 'userId54786': 149, 'userId23127': 151, 'userId28154': 151, 'userId263166': 154, 'userId48295': 158, 'userId39126': 161, 'userId72086': 161, 'userId157638': 166, 'userId252775': 171, 'userId956': 176, 'userId11912': 181, 'userId166559': 184, 'userId155976': 187, 'userId111302': 195, 'userId43607': 199, 'userId36096': 206, 'userId183841': 211, 'userId74321': 219, 'userId3937': 223, 'userId73424': 231, 'userId227552': 240, 'userId3766': 243, 'userId272007': 251, 'userId311114': 257, 'userId106835': 268, 'userId34754': 273, 'userId95671': 279, 'userId32447': 287, 'userId13234': 301, 'userId11937': 311, 'userId51550': 323, 'userId350412': 330, 'userId230189': 341, 'userId45211': 349, 'userId13961': 359, 'userId42267': 379, 'userId9915': 387, 'userId16363': 406, 'userId11593': 427, 'userId112132': 451, 'userId2960': 471, 'userId100350': 494, 'userId111157': 516, 'userId15163': 549, 'userId102854': 572, 'userId60953': 618, 'userId3928': 653, 'userId91249': 669, 'userId3122': 729, 'userId16349': 797, 'userId60361': 831, 'userId1813': 1015, 'userId33851': 1138, 'userId24912': 1253, 'userId19697': 1358, 'userId11200': 1449, 'userId3922': 1498, 'userId82': 1645, 'userId5487': 1799, 'userId121080': 1995, 'userId4603': 2088, 'userId8500': 2238, 'userId40724': 2627, 'userId79256': 3180, 'userId90149': 4457, 'userId38223': 8397, 'userId66': 13048, 'userId611': 21854, 'userId2314': 27571, 'userId3249': 42615, 'userId14221': 45837}\n",
            "User on correct position:  1\n",
            "User on wrong position:  93\n"
          ]
        }
      ],
      "source": [
        "calculate_order_score(phrases_overal_euclid_sim, present_user_rep)"
      ]
    },
    {
      "cell_type": "markdown",
      "metadata": {},
      "source": [
        "#### Words"
      ]
    },
    {
      "cell_type": "code",
      "execution_count": 349,
      "metadata": {},
      "outputs": [],
      "source": [
        "user_dict_words = model_processing_utils.join_phrases_into_words(user_dict, \"users\")\n",
        "enriched_merged_book = model_processing_utils.join_phrases_into_words(enriched_merged_book)"
      ]
    },
    {
      "cell_type": "markdown",
      "metadata": {},
      "source": [
        "Jaccard similarity"
      ]
    },
    {
      "cell_type": "code",
      "execution_count": 350,
      "metadata": {},
      "outputs": [],
      "source": [
        "words_overal_jacq_sim = { key : metrics.jaccard_similarity(enriched_merged_book, user_dict_words[key]) for key in user_dict_words.keys()}"
      ]
    },
    {
      "cell_type": "code",
      "execution_count": 351,
      "metadata": {},
      "outputs": [
        {
          "data": {
            "text/plain": [
              "<matplotlib.axes._subplots.AxesSubplot at 0x279dd29d5c0>"
            ]
          },
          "execution_count": 351,
          "metadata": {},
          "output_type": "execute_result"
        },
        {
          "data": {
            "image/png": "[encoded data removed]",
            "text/plain": [
              "<Figure size 432x288 with 1 Axes>"
            ]
          },
          "metadata": {
            "needs_background": "light"
          },
          "output_type": "display_data"
        }
      ],
      "source": [
        "np_words_jacq_sim = np.array(list(words_overal_jacq_sim.values()))\n",
        "\n",
        "sb.scatterplot(np_user_rep, np_words_jacq_sim)"
      ]
    },
    {
      "cell_type": "code",
      "execution_count": 352,
      "metadata": {},
      "outputs": [
        {
          "name": "stdout",
          "output_type": "stream",
          "text": [
            "{'userId157638': 0.00358, 'userId48295': 0.00358, 'userId272442': 0.01073, 'userId72086': 0.01073, 'userId3937': 0.01252, 'userId23989': 0.0143, 'userId13234': 0.01431, 'userId260000': 0.01609, 'userId51052': 0.01609, 'userId48538': 0.01788, 'userId110891': 0.01967, 'userId42267': 0.02146, 'userId186153': 0.02682, 'userId16363': 0.02861, 'userId28154': 0.02861, 'userId43607': 0.02861, 'userId51329': 0.02861, 'userId89176': 0.02861, 'userId23127': 0.03039, 'userId306735': 0.03039, 'userId1641': 0.03218, 'userId215307': 0.03218, 'userId11937': 0.03397, 'userId311114': 0.03576, 'userId61822': 0.03755, 'userId220929': 0.04112, 'userId33851': 0.04291, 'userId102854': 0.04469, 'userId54786': 0.0447, 'userId74321': 0.04648, 'userId11912': 0.04827, 'userId94922': 0.05007, 'userId11593': 0.05184, 'userId81711': 0.059, 'userId183841': 0.06078, 'userId98956': 0.06435, 'userId90621': 0.06615, 'userId2960': 0.06792, 'userId3766': 0.06793, 'userId111157': 0.07684, 'userId95671': 0.07686, 'userId5487': 0.08222, 'userId100350': 0.0911, 'userId39126': 0.09115, 'userId73424': 0.09645, 'userId956': 0.09648, 'userId51550': 0.0965, 'userId327416': 0.09827, 'userId263166': 0.09828, 'userId24681': 0.09831, 'userId252775': 0.10004, 'userId230189': 0.1126, 'userId155976': 0.11976, 'userId49574': 0.12148, 'userId45211': 0.14104, 'userId14361': 0.14287, 'userId227552': 0.14289, 'userId111302': 0.1447, 'userId112132': 0.15363, 'userId60361': 0.16081, 'userId9915': 0.16779, 'userId166559': 0.17311, 'userId272007': 0.17318, 'userId350412': 0.17858, 'userId19697': 0.18216, 'userId121080': 0.18931, 'userId82': 0.20178, 'userId36096': 0.20698, 'userId32447': 0.20883, 'userId106835': 0.22309, 'userId11200': 0.24091, 'userId13961': 0.24616, 'userId60953': 0.25157, 'userId38223': 0.26038, 'userId15163': 0.2675, 'userId34754': 0.29075, 'userId91249': 0.33273, 'userId3928': 0.33329, 'userId3922': 0.34204, 'userId24912': 0.3686, 'userId3122': 0.37206, 'userId40724': 0.55229, 'userId4603': 0.55525, 'userId146161': 0.67898, 'userId1813': 0.70551, 'userId16349': 0.85732, 'userId79256': 0.95608, 'userId66': 1.05668, 'userId8500': 1.1074, 'userId90149': 1.79991, 'userId2314': 1.85129, 'userId611': 2.06311, 'userId14221': 2.61732, 'userId3249': 2.64927}\n",
            "{'userId1641': 111, 'userId260000': 111, 'userId51052': 111, 'userId81711': 111, 'userId98956': 111, 'userId110891': 116, 'userId89176': 119, 'userId14361': 121, 'userId186153': 121, 'userId23989': 121, 'userId61822': 121, 'userId48538': 123, 'userId24681': 127, 'userId272442': 129, 'userId146161': 131, 'userId220929': 131, 'userId306735': 131, 'userId327416': 131, 'userId90621': 135, 'userId51329': 141, 'userId94922': 141, 'userId49574': 143, 'userId215307': 146, 'userId54786': 149, 'userId23127': 151, 'userId28154': 151, 'userId263166': 154, 'userId48295': 158, 'userId39126': 161, 'userId72086': 161, 'userId157638': 166, 'userId252775': 171, 'userId956': 176, 'userId11912': 181, 'userId166559': 184, 'userId155976': 187, 'userId111302': 195, 'userId43607': 199, 'userId36096': 206, 'userId183841': 211, 'userId74321': 219, 'userId3937': 223, 'userId73424': 231, 'userId227552': 240, 'userId3766': 243, 'userId272007': 251, 'userId311114': 257, 'userId106835': 268, 'userId34754': 273, 'userId95671': 279, 'userId32447': 287, 'userId13234': 301, 'userId11937': 311, 'userId51550': 323, 'userId350412': 330, 'userId230189': 341, 'userId45211': 349, 'userId13961': 359, 'userId42267': 379, 'userId9915': 387, 'userId16363': 406, 'userId11593': 427, 'userId112132': 451, 'userId2960': 471, 'userId100350': 494, 'userId111157': 516, 'userId15163': 549, 'userId102854': 572, 'userId60953': 618, 'userId3928': 653, 'userId91249': 669, 'userId3122': 729, 'userId16349': 797, 'userId60361': 831, 'userId1813': 1015, 'userId33851': 1138, 'userId24912': 1253, 'userId19697': 1358, 'userId11200': 1449, 'userId3922': 1498, 'userId82': 1645, 'userId5487': 1799, 'userId121080': 1995, 'userId4603': 2088, 'userId8500': 2238, 'userId40724': 2627, 'userId79256': 3180, 'userId90149': 4457, 'userId38223': 8397, 'userId66': 13048, 'userId611': 21854, 'userId2314': 27571, 'userId3249': 42615, 'userId14221': 45837}\n",
            "User on correct position:  1\n",
            "User on wrong position:  93\n"
          ]
        }
      ],
      "source": [
        "calculate_order_score(words_overal_jacq_sim, present_user_rep)"
      ]
    },
    {
      "cell_type": "markdown",
      "metadata": {},
      "source": [
        "Cosine similarity"
      ]
    },
    {
      "cell_type": "code",
      "execution_count": 353,
      "metadata": {},
      "outputs": [],
      "source": [
        "words_overal_cos_sim = metrics.get_cosine_sim(user_dict_words, enriched_merged_book)"
      ]
    },
    {
      "cell_type": "code",
      "execution_count": 354,
      "metadata": {},
      "outputs": [
        {
          "data": {
            "text/plain": [
              "<matplotlib.axes._subplots.AxesSubplot at 0x279db855e10>"
            ]
          },
          "execution_count": 354,
          "metadata": {},
          "output_type": "execute_result"
        },
        {
          "data": {
            "image/png": "[encoded data removed]",
            "text/plain": [
              "<Figure size 432x288 with 1 Axes>"
            ]
          },
          "metadata": {
            "needs_background": "light"
          },
          "output_type": "display_data"
        }
      ],
      "source": [
        "np_words_cos_sim = np.array(list(words_overal_cos_sim.values()))\n",
        "\n",
        "sb.scatterplot(np_user_rep, np_words_cos_sim)"
      ]
    },
    {
      "cell_type": "code",
      "execution_count": 355,
      "metadata": {},
      "outputs": [
        {
          "name": "stdout",
          "output_type": "stream",
          "text": [
            "[[1.         0.75430108]\n",
            " [0.75430108 1.        ]]\n"
          ]
        }
      ],
      "source": [
        "my_rho = np.corrcoef(np_user_rep, np_words_cos_sim)\n",
        "print(my_rho)"
      ]
    },
    {
      "cell_type": "code",
      "execution_count": 356,
      "metadata": {},
      "outputs": [
        {
          "name": "stdout",
          "output_type": "stream",
          "text": [
            "{'userId48295': 1.39347, 'userId157638': 1.97066, 'userId72086': 2.95599, 'userId272442': 3.41328, 'userId3937': 3.44865, 'userId23989': 3.52522, 'userId13234': 3.71591, 'userId260000': 3.78131, 'userId51052': 4.1804, 'userId48538': 4.40653, 'userId110891': 4.6216, 'userId42267': 4.82711, 'userId16363': 4.98542, 'userId51329': 4.98542, 'userId23127': 5.0505, 'userId28154': 5.11493, 'userId306735': 5.297, 'userId186153': 5.39687, 'userId43607': 5.40744, 'userId11937': 5.5206, 'userId89176': 5.57386, 'userId1641': 5.60859, 'userId215307': 5.75429, 'userId61822': 5.97324, 'userId311114': 6.23177, 'userId220929': 6.54212, 'userId33851': 6.55875, 'userId102854': 6.70432, 'userId74321': 6.84685, 'userId11912': 6.86909, 'userId54786': 6.96733, 'userId94922': 7.37353, 'userId11593': 7.37792, 'userId2960': 7.4885, 'userId183841': 7.58653, 'userId81711': 7.66406, 'userId98956': 8.03279, 'userId90621': 8.15207, 'userId3766': 8.26967, 'userId111157': 8.74009, 'userId100350': 9.02549, 'userId95671': 9.03314, 'userId5487': 9.15706, 'userId73424': 9.1929, 'userId39126': 9.33152, 'userId51550': 9.79635, 'userId327416': 9.81283, 'userId956': 9.88044, 'userId24681': 9.89426, 'userId263166': 9.97776, 'userId252775': 9.99124, 'userId230189': 10.49272, 'userId49574': 10.66085, 'userId45211': 10.79461, 'userId155976': 11.40601, 'userId227552': 11.88352, 'userId111302': 11.89762, 'userId14361': 12.16317, 'userId9915': 12.32211, 'userId272007': 12.54987, 'userId112132': 12.70281, 'userId60361': 12.7998, 'userId166559': 13.00637, 'userId19697': 13.25402, 'userId350412': 13.53454, 'userId121080': 13.89514, 'userId36096': 14.01614, 'userId82': 14.0838, 'userId32447': 14.13697, 'userId106835': 14.222, 'userId11200': 15.41122, 'userId13961': 15.5464, 'userId38223': 15.79048, 'userId60953': 15.83271, 'userId15163': 16.12624, 'userId34754': 16.88281, 'userId91249': 17.29518, 'userId3922': 17.71863, 'userId3928': 17.77128, 'userId3122': 17.99252, 'userId24912': 18.8564, 'userId4603': 22.49297, 'userId40724': 22.59087, 'userId1813': 24.96482, 'userId146161': 25.84155, 'userId16349': 27.6814, 'userId79256': 30.65481, 'userId66': 30.9701, 'userId8500': 32.12288, 'userId90149': 41.1394, 'userId2314': 41.18959, 'userId611': 42.52168, 'userId3249': 48.92088, 'userId14221': 49.14191}\n",
            "{'userId1641': 111, 'userId260000': 111, 'userId51052': 111, 'userId81711': 111, 'userId98956': 111, 'userId110891': 116, 'userId89176': 119, 'userId14361': 121, 'userId186153': 121, 'userId23989': 121, 'userId61822': 121, 'userId48538': 123, 'userId24681': 127, 'userId272442': 129, 'userId146161': 131, 'userId220929': 131, 'userId306735': 131, 'userId327416': 131, 'userId90621': 135, 'userId51329': 141, 'userId94922': 141, 'userId49574': 143, 'userId215307': 146, 'userId54786': 149, 'userId23127': 151, 'userId28154': 151, 'userId263166': 154, 'userId48295': 158, 'userId39126': 161, 'userId72086': 161, 'userId157638': 166, 'userId252775': 171, 'userId956': 176, 'userId11912': 181, 'userId166559': 184, 'userId155976': 187, 'userId111302': 195, 'userId43607': 199, 'userId36096': 206, 'userId183841': 211, 'userId74321': 219, 'userId3937': 223, 'userId73424': 231, 'userId227552': 240, 'userId3766': 243, 'userId272007': 251, 'userId311114': 257, 'userId106835': 268, 'userId34754': 273, 'userId95671': 279, 'userId32447': 287, 'userId13234': 301, 'userId11937': 311, 'userId51550': 323, 'userId350412': 330, 'userId230189': 341, 'userId45211': 349, 'userId13961': 359, 'userId42267': 379, 'userId9915': 387, 'userId16363': 406, 'userId11593': 427, 'userId112132': 451, 'userId2960': 471, 'userId100350': 494, 'userId111157': 516, 'userId15163': 549, 'userId102854': 572, 'userId60953': 618, 'userId3928': 653, 'userId91249': 669, 'userId3122': 729, 'userId16349': 797, 'userId60361': 831, 'userId1813': 1015, 'userId33851': 1138, 'userId24912': 1253, 'userId19697': 1358, 'userId11200': 1449, 'userId3922': 1498, 'userId82': 1645, 'userId5487': 1799, 'userId121080': 1995, 'userId4603': 2088, 'userId8500': 2238, 'userId40724': 2627, 'userId79256': 3180, 'userId90149': 4457, 'userId38223': 8397, 'userId66': 13048, 'userId611': 21854, 'userId2314': 27571, 'userId3249': 42615, 'userId14221': 45837}\n",
            "User on correct position:  5\n",
            "User on wrong position:  89\n"
          ]
        }
      ],
      "source": [
        "calculate_order_score(words_overal_cos_sim, present_user_rep)"
      ]
    },
    {
      "cell_type": "markdown",
      "metadata": {},
      "source": [
        "Euclidean distance"
      ]
    },
    {
      "cell_type": "code",
      "execution_count": 357,
      "metadata": {},
      "outputs": [],
      "source": [
        "words_overal_euclid_sim = metrics.get_euclid_dis(user_dict, enriched_merged_book)"
      ]
    },
    {
      "cell_type": "code",
      "execution_count": 358,
      "metadata": {},
      "outputs": [
        {
          "data": {
            "text/plain": [
              "<matplotlib.axes._subplots.AxesSubplot at 0x279d94c30f0>"
            ]
          },
          "execution_count": 358,
          "metadata": {},
          "output_type": "execute_result"
        },
        {
          "data": {
            "image/png": "[encoded data removed]",
            "text/plain": [
              "<Figure size 432x288 with 1 Axes>"
            ]
          },
          "metadata": {
            "needs_background": "light"
          },
          "output_type": "display_data"
        }
      ],
      "source": [
        "np_words_euclid_sim = np.array(list(words_overal_euclid_sim.values()))\n",
        "\n",
        "sb.scatterplot(np_user_rep, np_words_euclid_sim)"
      ]
    },
    {
      "cell_type": "code",
      "execution_count": 359,
      "metadata": {},
      "outputs": [
        {
          "name": "stdout",
          "output_type": "stream",
          "text": [
            "[[1.        0.9533579]\n",
            " [0.9533579 1.       ]]\n"
          ]
        }
      ],
      "source": [
        "my_rho = np.corrcoef(np_user_rep, np_words_euclid_sim)\n",
        "print(my_rho)"
      ]
    },
    {
      "cell_type": "code",
      "execution_count": 360,
      "metadata": {},
      "outputs": [
        {
          "name": "stdout",
          "output_type": "stream",
          "text": [
            "{'userId157638': 71.77046746399246, 'userId48295': 71.77743377970545, 'userId272442': 71.78439941937245, 'userId72086': 71.79136438319027, 'userId13234': 71.79832867135558, 'userId3937': 71.79832867135558, 'userId51052': 71.79832867135558, 'userId260000': 71.80529228406496, 'userId110891': 71.81225522151495, 'userId23989': 71.81225522151495, 'userId48538': 71.81225522151495, 'userId42267': 71.83313998427188, 'userId43607': 71.84010022264724, 'userId89176': 71.84010022264724, 'userId186153': 71.84705978674423, 'userId28154': 71.84705978674423, 'userId51329': 71.84705978674423, 'userId11937': 71.86097689288673, 'userId16363': 71.86097689288673, 'userId1641': 71.86097689288673, 'userId215307': 71.86097689288673, 'userId306735': 71.86097689288673, 'userId311114': 71.8679344353238, 'userId61822': 71.8679344353238, 'userId220929': 71.87489130426563, 'userId23127': 71.88184749990779, 'userId94922': 71.88184749990779, 'userId54786': 71.88880302244571, 'userId33851': 71.89575787207477, 'userId11912': 71.9027120489902, 'userId102854': 71.90966555338719, 'userId74321': 71.90966555338719, 'userId11593': 71.92357054540605, 'userId81711': 71.93052203341777, 'userId183841': 71.95137246779939, 'userId90621': 71.95137246779939, 'userId3766': 71.95832127002409, 'userId98956': 71.97916365171243, 'userId2960': 72.0, 'userId95671': 72.0, 'userId5487': 72.02083032012335, 'userId24681': 72.03471385380801, 'userId111157': 72.05553413860729, 'userId39126': 72.05553413860729, 'userId155976': 72.0832851637604, 'userId230189': 72.0832851637604, 'userId51550': 72.09022125087424, 'userId263166': 72.09715667070374, 'userId327416': 72.10409142344143, 'userId956': 72.11795892841117, 'userId252775': 72.14568594171102, 'userId100350': 72.15954545311382, 'userId73424': 72.18032973047436, 'userId49574': 72.19418259112018, 'userId60361': 72.24264668462804, 'userId111302': 72.24956747275377, 'userId112132': 72.2564875980005, 'userId227552': 72.27724399837061, 'userId14361': 72.29799443968, 'userId350412': 72.35329985563892, 'userId45211': 72.35329985563892, 'userId121080': 72.3671196055225, 'userId19697': 72.37402849088892, 'userId272007': 72.41546796092669, 'userId82': 72.43617880589781, 'userId9915': 72.44998274671983, 'userId166559': 72.49137879775773, 'userId32447': 72.53964433328854, 'userId106835': 72.5741000633146, 'userId36096': 72.59476565152615, 'userId11200': 72.63607918933951, 'userId60953': 72.67048919609665, 'userId13961': 72.71863585079137, 'userId38223': 72.79423054061358, 'userId15163': 72.80796659706958, 'userId34754': 72.81483365359011, 'userId3928': 73.03423854604085, 'userId3922': 73.15736463268753, 'userId24912': 73.28028384224504, 'userId3122': 73.33484846919642, 'userId91249': 73.36893075410055, 'userId40724': 74.14849964766651, 'userId4603': 74.35052118176442, 'userId1813': 75.24626236564843, 'userId146161': 75.67033764957046, 'userId16349': 76.34133873596926, 'userId79256': 77.50483855863452, 'userId8500': 77.93587107359485, 'userId66': 78.14729681825213, 'userId90149': 86.2554346113913, 'userId2314': 86.89649014776144, 'userId611': 89.80534505250787, 'userId14221': 107.02803371079933, 'userId3249': 107.02803371079933}\n",
            "{'userId1641': 111, 'userId260000': 111, 'userId51052': 111, 'userId81711': 111, 'userId98956': 111, 'userId110891': 116, 'userId89176': 119, 'userId14361': 121, 'userId186153': 121, 'userId23989': 121, 'userId61822': 121, 'userId48538': 123, 'userId24681': 127, 'userId272442': 129, 'userId146161': 131, 'userId220929': 131, 'userId306735': 131, 'userId327416': 131, 'userId90621': 135, 'userId51329': 141, 'userId94922': 141, 'userId49574': 143, 'userId215307': 146, 'userId54786': 149, 'userId23127': 151, 'userId28154': 151, 'userId263166': 154, 'userId48295': 158, 'userId39126': 161, 'userId72086': 161, 'userId157638': 166, 'userId252775': 171, 'userId956': 176, 'userId11912': 181, 'userId166559': 184, 'userId155976': 187, 'userId111302': 195, 'userId43607': 199, 'userId36096': 206, 'userId183841': 211, 'userId74321': 219, 'userId3937': 223, 'userId73424': 231, 'userId227552': 240, 'userId3766': 243, 'userId272007': 251, 'userId311114': 257, 'userId106835': 268, 'userId34754': 273, 'userId95671': 279, 'userId32447': 287, 'userId13234': 301, 'userId11937': 311, 'userId51550': 323, 'userId350412': 330, 'userId230189': 341, 'userId45211': 349, 'userId13961': 359, 'userId42267': 379, 'userId9915': 387, 'userId16363': 406, 'userId11593': 427, 'userId112132': 451, 'userId2960': 471, 'userId100350': 494, 'userId111157': 516, 'userId15163': 549, 'userId102854': 572, 'userId60953': 618, 'userId3928': 653, 'userId91249': 669, 'userId3122': 729, 'userId16349': 797, 'userId60361': 831, 'userId1813': 1015, 'userId33851': 1138, 'userId24912': 1253, 'userId19697': 1358, 'userId11200': 1449, 'userId3922': 1498, 'userId82': 1645, 'userId5487': 1799, 'userId121080': 1995, 'userId4603': 2088, 'userId8500': 2238, 'userId40724': 2627, 'userId79256': 3180, 'userId90149': 4457, 'userId38223': 8397, 'userId66': 13048, 'userId611': 21854, 'userId2314': 27571, 'userId3249': 42615, 'userId14221': 45837}\n",
            "User on correct position:  2\n",
            "User on wrong position:  92\n"
          ]
        }
      ],
      "source": [
        "calculate_order_score(words_overal_euclid_sim, present_user_rep)"
      ]
    }
  ],
  "metadata": {
    "colab": {
      "collapsed_sections": [],
      "name": "SE_parsing.ipynb",
      "provenance": []
    },
    "kernelspec": {
      "display_name": "Python 3",
      "name": "python3"
    },
    "language_info": {
      "codemirror_mode": {
        "name": "ipython",
        "version": 3
      },
      "file_extension": ".py",
      "mimetype": "text/x-python",
      "name": "python",
      "nbconvert_exporter": "python",
      "pygments_lexer": "ipython3",
      "version": "3.7.3"
    }
  },
  "nbformat": 4,
  "nbformat_minor": 0
}
